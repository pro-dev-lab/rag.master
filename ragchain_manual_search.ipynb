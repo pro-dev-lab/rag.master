{
 "cells": [
  {
   "cell_type": "code",
   "execution_count": 45,
   "id": "ce482c92",
   "metadata": {},
   "outputs": [],
   "source": [
    "from dotenv import load_dotenv\n",
    "load_dotenv()\n",
    "\n",
    "import os\n",
    "from glob import glob\n",
    "from typing import List, Tuple, Optional\n",
    "from pathlib import Path\n",
    "\n",
    "source_base_url = 'https://doc.tg-cloud.co.kr/manual/console/'\n",
    "image_base_url = 'https://doc.tg-cloud.co.kr/manual/console/'\n"
   ]
  },
  {
   "cell_type": "code",
   "execution_count": 26,
   "id": "66c7e81f",
   "metadata": {},
   "outputs": [],
   "source": [
    "def scan_directory(root_path: str) -> List[str]:\n",
    "    \"\"\"\n",
    "    디렉토리를 스캔하여 .md 파일 경로를 찾습니다.\n",
    "    \n",
    "    Args:\n",
    "        root_path (str): 스캔할 루트 디렉토리 경로\n",
    "    \n",
    "    Returns:\n",
    "        List[str]: 발견된 .md 파일의 절대 경로 리스트\n",
    "    \n",
    "    Example:\n",
    "        >>> scan_directory(\"./manual/user/firstUser\")\n",
    "        ['/path/to/manual/user/firstUser/login/login.md', \n",
    "         '/path/to/manual/user/firstUser/approval/approval.md']\n",
    "    \"\"\"\n",
    "    md_files = []\n",
    "    \n",
    "    if not os.path.exists(root_path):\n",
    "        print(f\"⚠️ 경로가 존재하지 않습니다: {root_path}\")\n",
    "        return md_files\n",
    "    \n",
    "    for root, dirs, files in os.walk(root_path):\n",
    "        #print(root,dirs,files)\n",
    "        \n",
    "        for file in files:\n",
    "            if file.endswith('.md'):\n",
    "                file_path = os.path.join(root, file)\n",
    "                md_files.append(os.path.abspath(file_path))\n",
    "    \n",
    "    return sorted(md_files)\n"
   ]
  },
  {
   "cell_type": "code",
   "execution_count": 30,
   "id": "dae21fdb",
   "metadata": {},
   "outputs": [
    {
     "name": "stdout",
     "output_type": "stream",
     "text": [
      "발견된 파일 수: 4\n",
      "발견된 모든 파일들:\n",
      "/Users/gu.han/Documents/AI.WORK/RAG_Master/manual/user/firstUser/approval/approval.md\n",
      "/Users/gu.han/Documents/AI.WORK/RAG_Master/manual/user/firstUser/login/login.md\n",
      "/Users/gu.han/Documents/AI.WORK/RAG_Master/manual/user/firstUser/namespaces/namespaces.md\n",
      "/Users/gu.han/Documents/AI.WORK/RAG_Master/manual/user/firstUser/project/project.md\n"
     ]
    }
   ],
   "source": [
    "### 테스트\n",
    "\n",
    "test_path = \"./manual/user/firstUser\"\n",
    "\n",
    "md_files = scan_directory(test_path)\n",
    "print(f\"발견된 파일 수: {len(md_files)}\")\n",
    "\n",
    "if md_files:\n",
    "    print(\"발견된 모든 파일들:\")\n",
    "    for i, file_path in enumerate(md_files, 1):\n",
    "        print(file_path)\n",
    "        #print(f\"  {i}. filename: {os.path.basename(file_path)}, filepath: {os.path.dirname(file_path)}\")\n",
    "else:\n",
    "    print(\"발견된 파일이 없습니다.\")"
   ]
  },
  {
   "cell_type": "code",
   "execution_count": 10,
   "id": "cfa37b78",
   "metadata": {},
   "outputs": [],
   "source": [
    "def clean_markdown_text(text):\n",
    "    # 마크다운 문법 제거\n",
    "    text = re.sub(r'[#*`]', '', text)  # #, *, ` 제거\n",
    "    text = re.sub(r'\\[([^\\]]+)\\]\\([^)]+\\)', r'\\1', text)  # 링크 텍스트만 유지\n",
    "    return text\n",
    "\n",
    "def normalize_whitespace(text):\n",
    "    # 연속된 공백을 하나로 통일, 줄 시작/끝 공백 제거\n",
    "    return ' '.join(text.split())\n",
    "\n",
    "def extract_plain_text(text):\n",
    "    # HTML 태그 제거\n",
    "    text = re.sub(r'<[^>]+>', '', text)\n",
    "    # 특수문자 제거 (단, 한글/영문/숫자/기본 문장부호는 유지)\n",
    "    text = re.sub(r'[^\\w\\s\\.,!?-]', '', text)\n",
    "    return text\n",
    "\n",
    "def remove_empty_lines(text):\n",
    "    # 빈 줄 제거\n",
    "    return '\\n'.join(line for line in text.split('\\n') if line.strip())\n"
   ]
  },
  {
   "cell_type": "code",
   "execution_count": 49,
   "id": "82749735",
   "metadata": {},
   "outputs": [],
   "source": [
    "import re\n",
    "from typing import List, Dict\n",
    "\n",
    "\n",
    "def parse_markdown(manual_type: str, menu_type: str, source_url: str, image_url_base: str, markdown_filepath: str, isJson: bool = False) -> List[Dict[str, any]]:\n",
    "    \"\"\"마크다운 파일을 파싱하여 섹션별 데이터를 추출하는 함수\n",
    "    \n",
    "    Args:\n",
    "        manual_type (str): 매뉴얼 타입\n",
    "        user_type (str): 사용자 타입 \n",
    "        source_url (str): 소스 URL\n",
    "        image_url_base (str): 이미지 URL 기본 경로\n",
    "        markdown_filepath (str): 마크다운 파일 경로\n",
    "        isJson (bool, optional): JSON 파일 저장 여부. Defaults to False.\n",
    "        \n",
    "    Returns:\n",
    "        List[Dict[str, any]]: 파싱된 섹션 데이터 리스트\n",
    "    \"\"\"\n",
    "    with open(markdown_filepath, 'r', encoding='utf-8') as file:\n",
    "        lines = file.readlines()\n",
    "\n",
    "    sections = []\n",
    "    current_section = None\n",
    "    image_urls = []\n",
    "    in_toc = False\n",
    "\n",
    "    for line in lines:\n",
    "        # Check for the start of a new section\n",
    "        if line.startswith('##') and not line.startswith('## **목차**'):\n",
    "            if current_section:\n",
    "                sections.append({\n",
    "                    'manual_type': manual_type,\n",
    "                    'user_type': menu_type,\n",
    "                    'section': current_section.strip(),\n",
    "                    'source_url': source_url,\n",
    "                    'image_urls': image_urls\n",
    "                })\n",
    "            current_section = line.strip('# ').strip()\n",
    "            image_urls = []\n",
    "            in_toc = False\n",
    "        elif line.startswith('## **목차**'):\n",
    "            in_toc = True\n",
    "        elif in_toc:\n",
    "            continue\n",
    "        elif current_section is not None:\n",
    "            # Check for image links\n",
    "            image_match = re.findall(r'!\\[.*?\\]\\((img/[^)]+)\\)', line)\n",
    "            for img in image_match:\n",
    "                image_urls.append(f'{image_url_base}{img}')\n",
    "            #current_section += line\n",
    "            # Only add non-image lines to the section\n",
    "            \n",
    "            if not image_match:\n",
    "                current_section += line\n",
    "    # Add the last section if it exists\n",
    "    if current_section:\n",
    "        sections.append({\n",
    "            'manual_type': manual_type,\n",
    "            'user_type': user_type,\n",
    "            'section': current_section.strip(),\n",
    "            'source_url': source_url,\n",
    "            'image_urls': image_urls\n",
    "        })\n",
    "\n",
    "    # 데이터 정제 수행\n",
    "    for section in sections:\n",
    "        # 각 섹션의 'section' 키의 값을 순차적으로 정제\n",
    "        section['section'] = clean_markdown_text(section['section'])  # 마크다운 텍스트 정제\n",
    "        section['section'] = normalize_whitespace(section['section'])  # 공백 정규화\n",
    "        section['section'] = extract_plain_text(section['section'])   # 일반 텍스트 추출\n",
    "        section['section'] = remove_empty_lines(section['section'])   # 빈 줄 제거\n",
    "    \n",
    "    # JSON 파일로 저장\n",
    "    if isJson:\n",
    "        json_filepath = markdown_filepath.replace('.md', '.json')\n",
    "        with open(json_filepath, 'w', encoding='utf-8') as f:\n",
    "            json.dump(sections, f, ensure_ascii=False, indent=2)\n",
    "            \n",
    "    return sections"
   ]
  },
  {
   "cell_type": "code",
   "execution_count": 44,
   "id": "454f9574",
   "metadata": {},
   "outputs": [],
   "source": [
    "# path = '/Users/gu.han/Documents/AI.WORK/RAG_Master/manual/user/firstUser/approval/approval.md'\n",
    "# 해당 패스중 마지막 5개 요소를 추출하여 리스트로 반환\n",
    "\n",
    "def extract_path_components(path)->List:\n",
    "        # 경로를 '/' 기준으로 분리\n",
    "        components = path.split('/')\n",
    "        \n",
    "        # 뒤에서부터 순서대로 출력\n",
    "        # 뒤에서부터 5개 요소만 추출\n",
    "        result = []\n",
    "        start_idx = max(len(components) - 5, 0)  # 음수 인덱스 방지\n",
    "        for i in range(len(components)-1, start_idx-1, -1):\n",
    "            result.append(components[i])\n",
    "\n",
    "        return result\n"
   ]
  },
  {
   "cell_type": "code",
   "execution_count": 17,
   "id": "33cf4f0e",
   "metadata": {},
   "outputs": [
    {
     "name": "stdout",
     "output_type": "stream",
     "text": [
      "[\n",
      "  {\n",
      "    \"manual_type\": \"login\",\n",
      "    \"user_type\": \"firstUser\",\n",
      "    \"section\": \"1. Namespace 메뉴 진입 1. 좌측 메뉴 Namespaces 메뉴 클릭 - 좌측 메뉴 Namespaces 메뉴 클릭 후 네임스페이스 화면에 진입합니다. - 신규 프로젝트에 할당된 유저이며 프로젝트 하위에 속한 네임스페이스가 없기 때문에 빈 리스트로 표현됩니다. ---\",\n",
      "    \"source_url\": \"https://doc.tg-cloud.co.kr/manual/console/firstUser/namespaces\",\n",
      "    \"image_urls\": [\n",
      "      \"https://doc.tg-cloud.co.kr/manual/console/firstUser/namespaces/img/namespace_menu.png\"\n",
      "    ]\n",
      "  },\n",
      "  {\n",
      "    \"manual_type\": \"login\",\n",
      "    \"user_type\": \"firstUser\",\n",
      "    \"section\": \"2. Namespace 생성 신청 1. 생성 버튼을 클릭하면 네임스페이스 신청을 할 수 있습니다. 네임스페이스 생성은 바로 생성되는것이 아닌 해당 생성 버튼을 통하여 신청 후 운영자프로젝트 관리자의 승인을 거친 후에 네임스페이스를 생성할 수 있습니다. - 네임스페이스 신청 후 생성까지의 결재라인은 아래와 같이 이루어 집니다.  유저 네임스페이스 신청  portal 운영자 1차 결재 승인  프로젝트 관리자 2차 결재 승인 - 아래와 같이 생성 버튼을 클릭하게 되면 Namespace 신청 페이지로 이동합니다. 라는 안내 문구와 함께 확인 버튼을 통하여 신청 페이지로 이동할 수 있습니다. 2. 네임스페이스 신청은 아래 form을 작성 후 신청할 수 있으며 항목 선택 및 입력 후 확인 버튼을 클릭하면 네임스페이스 생성 신청이 완료 됩니다. 주요 선택 항목에 대한 설명은 아래와 같습니다. - Project 네임스페이스가 속하게 될 프로젝트를 선택하는 항목입니다. - Cluster 프로젝트 하위에 소속된 클러스터의 목록이며 실제 신청하는 네임스페이스가 배포되는 클러스터 입니다. - Namespace 신청하는 네임스페이스의 이름입니다. 검색 버튼을 통하여 클러스터 하위에 동일한 이름의 네임스페이스가 존재하는지 여부를 체크합니다. - 사용목적 네임스페이스가 사용되는 목적을 작성하는 항목입니다. - CPU 네임스페이스에 할당할 CPU 용량입니다. - MemoryGiB 네임스페이스에 할당할 메모리 용량입니다. - StorageGiB 네임스페이스에 할당할 스토리지 용량입니다. 3. 신청을 완료하면 신청관리 화면으로 이동하게 되며 내가 신청한 네임스페이스의 목록 및 결재 단계를 확인할 수 있습니다. 운영자  프로젝트 관리자의 1,2차 승인 후 네임스페이스가 추가되는것을 확인할 수 있습니다. ---\",\n",
      "    \"source_url\": \"https://doc.tg-cloud.co.kr/manual/console/firstUser/namespaces\",\n",
      "    \"image_urls\": [\n",
      "      \"https://doc.tg-cloud.co.kr/manual/console/firstUser/namespaces/img/namespace_create_button.png\",\n",
      "      \"https://doc.tg-cloud.co.kr/manual/console/firstUser/namespaces/img/namespace_application.png\",\n",
      "      \"https://doc.tg-cloud.co.kr/manual/console/firstUser/namespaces/img/namespace_application_management.png\"\n",
      "    ]\n",
      "  },\n",
      "  {\n",
      "    \"manual_type\": \"login\",\n",
      "    \"user_type\": \"firstUser\",\n",
      "    \"section\": \"3. Namespace 생성 확인 1. 신청관리 화면에서 운영자, 프로젝트 관리자의 1,2차 승인이 완료되면 네임스페이스가 생성이 되며 해당 화면에서 확인할 수 있습니다. - 직접 생성한 프로젝트 및 하위 클러스터, 승인 완료된 네임스페이스를 상단에서 선택을 한 후 네임스페이스 메뉴에 진입하면 생성된 네임스페이스를 확인할 수 있습니다. - 직접 신청하여 생성된 네임스페이스내에서의 부여된 권한은 네임스페이스 관리자 권한을 갖게 됩니다. - 네임스페이스 생성 확인 및 특정 프로젝트  네임스페이스 하위에 유저의 권한이 할당되면 오픈된 메뉴에 한해서 각각의 기능을 수행할 수 있습니다. 각 수행 가능한 기능은 일반 사용자 매뉴얼 참조\",\n",
      "    \"source_url\": \"https://doc.tg-cloud.co.kr/manual/console/firstUser/namespaces\",\n",
      "    \"image_urls\": [\n",
      "      \"https://doc.tg-cloud.co.kr/manual/console/firstUser/namespaces/img/namespace_create_result.png\"\n",
      "    ]\n",
      "  }\n",
      "]\n"
     ]
    }
   ],
   "source": [
    "# 1단계 테스트  - 단일 파일 테스트\n",
    "markdown_filepath = './manual/user/firstUser/namespaces/namespaces.md'\n",
    "manual_type = 'login'\n",
    "user_type = 'firstUser'\n",
    "source_url = 'https://doc.tg-cloud.co.kr/manual/console/firstUser/namespaces'\n",
    "image_url_base = 'https://doc.tg-cloud.co.kr/manual/console/firstUser/namespaces/'\n",
    "\n",
    "data = parse_markdown(manual_type, user_type, source_url, image_url_base, markdown_filepath,True)\n",
    "\n",
    "\n",
    "import json\n",
    "print(json.dumps(data, indent=2, ensure_ascii=False))\n"
   ]
  },
  {
   "cell_type": "code",
   "execution_count": 55,
   "id": "d34192c5",
   "metadata": {},
   "outputs": [
    {
     "name": "stdout",
     "output_type": "stream",
     "text": [
      "발견된 파일 수: 4\n",
      "발견된 모든 파일들:\n",
      "['approval.md', 'approval', 'firstUser', 'user', 'manual']\n",
      "  1. filename: project.md, filepath: /Users/gu.han/Documents/AI.WORK/RAG_Master/manual/user/firstUser/project\n",
      "['login.md', 'login', 'firstUser', 'user', 'manual']\n",
      "  2. filename: project.md, filepath: /Users/gu.han/Documents/AI.WORK/RAG_Master/manual/user/firstUser/project\n",
      "['namespaces.md', 'namespaces', 'firstUser', 'user', 'manual']\n",
      "  3. filename: project.md, filepath: /Users/gu.han/Documents/AI.WORK/RAG_Master/manual/user/firstUser/project\n",
      "['project.md', 'project', 'firstUser', 'user', 'manual']\n",
      "  4. filename: project.md, filepath: /Users/gu.han/Documents/AI.WORK/RAG_Master/manual/user/firstUser/project\n"
     ]
    }
   ],
   "source": [
    "# 2단계 테스트 - 단일 디렉토리 내 모든 파일 처리\n",
    "test_path = \"./manual/user/firstUser\"\n",
    "\n",
    "md_files = scan_directory(test_path)\n",
    "print(f\"발견된 파일 수: {len(md_files)}\")\n",
    "\n",
    "if md_files:\n",
    "    print(\"발견된 모든 파일들:\")\n",
    "    for i, markdown_filepath in enumerate(md_files, 1):\n",
    "        \n",
    "        result = extract_path_components(markdown_filepath)\n",
    "        print(result)\n",
    "\n",
    "       # markdown_filepath = './manual/user/firstUser/namespaces/namespaces.md'\n",
    "        manual_type = result[2]\n",
    "        menu_type =  result[1]\n",
    "        \n",
    "        # source_base_url = 'https://doc.tg-cloud.co.kr/manual/console/'\n",
    "        # image_base_url = 'https://doc.tg-cloud.co.kr/manual/console/'\n",
    "\n",
    "        source_url = source_base_url + manual_type + '/' + menu_type + '/' + menu_type\n",
    "        image_url = image_base_url + manual_type + '/' + menu_type + '/'\n",
    "\n",
    "       \n",
    "        data = parse_markdown(manual_type, user_type, source_url, image_url, markdown_filepath,True)\n",
    "\n",
    "        print(f\"  {i}. filename: {os.path.basename(file_path)}, filepath: {os.path.dirname(file_path)}\")\n",
    "else:\n",
    "    print(\"발견된 파일이 없습니다.\")\n",
    "\n",
    "            \n",
    "    path = '/Users/gu.han/Documents/AI.WORK/RAG_Master/manual/user/firstUser/approval/approval.md'"
   ]
  },
  {
   "cell_type": "code",
   "execution_count": 42,
   "id": "b5cc4b98",
   "metadata": {},
   "outputs": [
    {
     "data": {
      "text/plain": [
       "['approval.md', 'approval', 'firstUser', 'user', 'manual']"
      ]
     },
     "execution_count": 42,
     "metadata": {},
     "output_type": "execute_result"
    }
   ],
   "source": [
    "\n",
    "def extract_path_components(path)->List:\n",
    "        # 경로를 '/' 기준으로 분리\n",
    "        components = path.split('/')\n",
    "        \n",
    "        # 뒤에서부터 순서대로 출력\n",
    "        # 뒤에서부터 5개 요소만 추출\n",
    "        result = []\n",
    "        start_idx = max(len(components) - 5, 0)  # 음수 인덱스 방지\n",
    "        for i in range(len(components)-1, start_idx-1, -1):\n",
    "            result.append(components[i])\n",
    "\n",
    "        return result\n",
    "\n",
    "path = '/Users/gu.han/Documents/AI.WORK/RAG_Master/manual/user/firstUser/approval/approval.md'\n",
    "extract_path_components(path)"
   ]
  },
  {
   "cell_type": "code",
   "execution_count": 43,
   "id": "c72a447f",
   "metadata": {},
   "outputs": [
    {
     "data": {
      "text/plain": [
       "['approval.md', 'approval', 'firstUser', 'user', 'manual']"
      ]
     },
     "execution_count": 43,
     "metadata": {},
     "output_type": "execute_result"
    }
   ],
   "source": [
    "path = '/Users/gu.han/Documents/AI.WORK/RAG_Master/manual/user/firstUser/approval/approval.md'\n",
    "extract_path_components(path)"
   ]
  },
  {
   "cell_type": "code",
   "execution_count": null,
   "id": "71eccb0e",
   "metadata": {},
   "outputs": [],
   "source": []
  }
 ],
 "metadata": {
  "kernelspec": {
   "display_name": "langchain_env",
   "language": "python",
   "name": "python3"
  },
  "language_info": {
   "codemirror_mode": {
    "name": "ipython",
    "version": 3
   },
   "file_extension": ".py",
   "mimetype": "text/x-python",
   "name": "python",
   "nbconvert_exporter": "python",
   "pygments_lexer": "ipython3",
   "version": "3.11.12"
  }
 },
 "nbformat": 4,
 "nbformat_minor": 5
}
