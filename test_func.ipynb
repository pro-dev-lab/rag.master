{
 "cells": [
  {
   "cell_type": "code",
   "execution_count": null,
   "metadata": {},
   "outputs": [],
   "source": [
    "from dotenv import load_dotenv\n",
    "load_dotenv()\n",
    "\n",
    "import os\n",
    "from typing import List\n",
    "\n",
    "import os\n",
    "import markdown\n",
    "from bs4 import BeautifulSoup\n",
    "from typing import List, Dict"
   ]
  },
  {
   "cell_type": "code",
   "execution_count": null,
   "metadata": {},
   "outputs": [],
   "source": [
    "\n",
    "\n",
    "def list_all_files_recursive(root_dir: str, relative: bool = True) -> List[str]:\n",
    "    \"\"\"\n",
    "    주어진 루트 디렉토리 이하의 모든 파일 경로를 재귀적으로 탐색하여 리스트로 반환합니다.\n",
    "\n",
    "    Args:\n",
    "        root_dir (str): 탐색할 루트 디렉토리\n",
    "        relative (bool): True일 경우 root_dir 기준 상대경로 반환, False는 절대경로 반환\n",
    "\n",
    "    Returns:\n",
    "        List[str]: 모든 파일 경로 목록\n",
    "    \"\"\"\n",
    "    file_list = []\n",
    "\n",
    "    for dirpath, _, filenames in os.walk(root_dir):\n",
    "        for filename in filenames:\n",
    "            full_path = os.path.join(dirpath, filename)\n",
    "            if relative:\n",
    "                file_list.append(os.path.relpath(full_path, root_dir))\n",
    "            else:\n",
    "                file_list.append(os.path.abspath(full_path))\n",
    "\n",
    "    return file_list"
   ]
  },
  {
   "cell_type": "code",
   "execution_count": null,
   "metadata": {},
   "outputs": [],
   "source": [
    "from typing import Dict, List\n",
    "import os\n",
    "\n",
    "def group_files_by_top_level_dir(file_paths: List[str]) -> Dict[str, List[str]]:\n",
    "    \"\"\"\n",
    "    파일 경로 리스트를 받아, 최상위 디렉토리 기준으로 그룹화된 딕셔너리를 반환합니다.\n",
    "\n",
    "    Args:\n",
    "        file_paths (List[str]): 상대경로 또는 절대경로의 파일 경로 리스트\n",
    "\n",
    "    Returns:\n",
    "        Dict[str, List[str]]: {디렉토리명: [파일 경로, ...]} 형태\n",
    "    \"\"\"\n",
    "    grouped = {}\n",
    "\n",
    "    for path in file_paths:\n",
    "        parts = path.split(os.sep)\n",
    "        if len(parts) == 1:\n",
    "            top = \"__root__\"  # sidemenu.md 같은 루트 파일은 특별 그룹 처리\n",
    "        else:\n",
    "            top = parts[0]\n",
    "        grouped.setdefault(top, []).append(path)\n",
    "\n",
    "    return grouped"
   ]
  },
  {
   "cell_type": "code",
   "execution_count": null,
   "metadata": {},
   "outputs": [],
   "source": [
    "# 1. 모든 파일 나열 (상대경로 기준)\n",
    "file_list = list_all_files_recursive(\"./manual/user/firstUser\")\n",
    "\n",
    "# 2. 디렉토리 기준으로 그룹화\n",
    "grouped_files = group_files_by_top_level_dir(file_list)\n",
    "\n",
    "# 3. 출력 예시\n",
    "for group, files in grouped_files.items():\n",
    "    print(f\"\\n📁 {group} ({len(files)} files)\")\n",
    "    for f in files:\n",
    "        print(f\"  - {f}\")"
   ]
  },
  {
   "cell_type": "code",
   "execution_count": null,
   "metadata": {},
   "outputs": [],
   "source": []
  }
 ],
 "metadata": {
  "language_info": {
   "name": "python"
  }
 },
 "nbformat": 4,
 "nbformat_minor": 2
}
