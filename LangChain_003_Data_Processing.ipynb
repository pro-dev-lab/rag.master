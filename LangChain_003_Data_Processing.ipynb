{
 "cells": [
  {
   "cell_type": "markdown",
   "id": "9a898547",
   "metadata": {},
   "source": [
    "## 1. 환경 설정"
   ]
  },
  {
   "cell_type": "markdown",
   "id": "9e15f76c",
   "metadata": {},
   "source": [
    "`(1) Env 환경변수`"
   ]
  },
  {
   "cell_type": "code",
   "execution_count": 1,
   "id": "3f6d77f8",
   "metadata": {},
   "outputs": [
    {
     "data": {
      "text/plain": [
       "True"
      ]
     },
     "execution_count": 1,
     "metadata": {},
     "output_type": "execute_result"
    }
   ],
   "source": [
    "from dotenv import load_dotenv\n",
    "load_dotenv()"
   ]
  },
  {
   "cell_type": "markdown",
   "id": "0800c924",
   "metadata": {},
   "source": [
    "`(2) 기본 라이브러리`"
   ]
  },
  {
   "cell_type": "code",
   "execution_count": 2,
   "id": "bca641c2",
   "metadata": {},
   "outputs": [],
   "source": [
    "import os\n",
    "from glob import glob\n",
    "\n",
    "from pprint import pprint\n",
    "import json"
   ]
  },
  {
   "cell_type": "markdown",
   "id": "cee0237e",
   "metadata": {},
   "source": [
    "## 2. 다양한 문서 형식 처리하기"
   ]
  },
  {
   "cell_type": "markdown",
   "id": "26db4266",
   "metadata": {},
   "source": [
    "### 2.1 PDF 문서 "
   ]
  },
  {
   "cell_type": "code",
   "execution_count": 4,
   "id": "6650c629",
   "metadata": {},
   "outputs": [
    {
     "data": {
      "text/plain": [
       "15"
      ]
     },
     "execution_count": 4,
     "metadata": {},
     "output_type": "execute_result"
    }
   ],
   "source": [
    "from langchain_community.document_loaders import PyPDFLoader\n",
    "\n",
    "pdf_loader = PyPDFLoader('./data/transformer.pdf')\n",
    "pdf_docs = pdf_loader.load()\n",
    "\n",
    "len(pdf_docs)"
   ]
  },
  {
   "cell_type": "code",
   "execution_count": 5,
   "id": "12d92305",
   "metadata": {},
   "outputs": [
    {
     "data": {
      "text/plain": [
       "list"
      ]
     },
     "execution_count": 5,
     "metadata": {},
     "output_type": "execute_result"
    }
   ],
   "source": [
    "type(pdf_docs)"
   ]
  },
  {
   "cell_type": "code",
   "execution_count": 6,
   "id": "6d23dd27",
   "metadata": {},
   "outputs": [
    {
     "data": {
      "text/plain": [
       "Document(metadata={'source': './data/transformer.pdf', 'page': 0}, page_content='Provided proper attribution is provided, Google hereby grants permission to\\nreproduce the tables and figures in this paper solely for use in journalistic or\\nscholarly works.\\nAttention Is All You Need\\nAshish Vaswani∗\\nGoogle Brain\\navaswani@google.comNoam Shazeer∗\\nGoogle Brain\\nnoam@google.comNiki Parmar∗\\nGoogle Research\\nnikip@google.comJakob Uszkoreit∗\\nGoogle Research\\nusz@google.com\\nLlion Jones∗\\nGoogle Research\\nllion@google.comAidan N. Gomez∗ †\\nUniversity of Toronto\\naidan@cs.toronto.eduŁukasz Kaiser∗\\nGoogle Brain\\nlukaszkaiser@google.com\\nIllia Polosukhin∗ ‡\\nillia.polosukhin@gmail.com\\nAbstract\\nThe dominant sequence transduction models are based on complex recurrent or\\nconvolutional neural networks that include an encoder and a decoder. The best\\nperforming models also connect the encoder and decoder through an attention\\nmechanism. We propose a new simple network architecture, the Transformer,\\nbased solely on attention mechanisms, dispensing with recurrence and convolutions\\nentirely. Experiments on two machine translation tasks show these models to\\nbe superior in quality while being more parallelizable and requiring significantly\\nless time to train. Our model achieves 28.4 BLEU on the WMT 2014 English-\\nto-German translation task, improving over the existing best results, including\\nensembles, by over 2 BLEU. On the WMT 2014 English-to-French translation task,\\nour model establishes a new single-model state-of-the-art BLEU score of 41.8 after\\ntraining for 3.5 days on eight GPUs, a small fraction of the training costs of the\\nbest models from the literature. We show that the Transformer generalizes well to\\nother tasks by applying it successfully to English constituency parsing both with\\nlarge and limited training data.\\n∗Equal contribution. Listing order is random. Jakob proposed replacing RNNs with self-attention and started\\nthe effort to evaluate this idea. Ashish, with Illia, designed and implemented the first Transformer models and\\nhas been crucially involved in every aspect of this work. Noam proposed scaled dot-product attention, multi-head\\nattention and the parameter-free position representation and became the other person involved in nearly every\\ndetail. Niki designed, implemented, tuned and evaluated countless model variants in our original codebase and\\ntensor2tensor. Llion also experimented with novel model variants, was responsible for our initial codebase, and\\nefficient inference and visualizations. Lukasz and Aidan spent countless long days designing various parts of and\\nimplementing tensor2tensor, replacing our earlier codebase, greatly improving results and massively accelerating\\nour research.\\n†Work performed while at Google Brain.\\n‡Work performed while at Google Research.\\n31st Conference on Neural Information Processing Systems (NIPS 2017), Long Beach, CA, USA.arXiv:1706.03762v7  [cs.CL]  2 Aug 2023')"
      ]
     },
     "execution_count": 6,
     "metadata": {},
     "output_type": "execute_result"
    }
   ],
   "source": [
    "pdf_docs[0]"
   ]
  },
  {
   "cell_type": "code",
   "execution_count": 7,
   "id": "a414b9ba",
   "metadata": {},
   "outputs": [
    {
     "name": "stdout",
     "output_type": "stream",
     "text": [
      "{'source': './data/transformer.pdf', 'page': 0}\n"
     ]
    }
   ],
   "source": [
    "print(pdf_docs[0].metadata)"
   ]
  },
  {
   "cell_type": "code",
   "execution_count": 26,
   "id": "d6d394f1",
   "metadata": {},
   "outputs": [
    {
     "name": "stdout",
     "output_type": "stream",
     "text": [
      "Provided proper attribution is provided, Google hereby grants permission to\n",
      "reproduce the tables and figures in this paper solely for use in journalistic or\n",
      "scholarly works.\n",
      "Attention Is All You Need\n",
      "Ashish Vaswani∗\n",
      "Google Brain\n",
      "avaswani@google.comNoam Shazeer∗\n",
      "Google Brain\n",
      "noam@google.comNiki Parmar∗\n",
      "Google Research\n",
      "nikip@google.comJakob Uszkoreit∗\n",
      "Google Research\n",
      "usz@google.com\n",
      "Llion Jones∗\n",
      "Google Research\n",
      "llion@google.comAidan N. Gomez∗ †\n",
      "University of Toronto\n",
      "aidan@cs.toronto.eduŁukasz Kaiser∗\n",
      "Google Brain\n",
      "lukaszkaiser@google.com\n",
      "Illia Polosukhin∗ ‡\n",
      "illia.polosukhin@gmail.com\n",
      "Abstract\n",
      "The dominant sequence transduction models are based on complex recurrent or\n",
      "convolutional neural networks that include an encoder and a decoder. The best\n",
      "performing models also connect the encoder and decoder through an attention\n",
      "mechanism. We propose a new simple network architecture, the Transformer,\n",
      "based solely on attention mechanisms, dispensing with recurrence and convolutions\n",
      "entirely. Experiments on two machine translation tasks show these models to\n",
      "be superior in quality while being more parallelizable and requiring significantly\n",
      "less time to train. Our model achieves 28.4 BLEU on the WMT 2014 English-\n",
      "to-German translation task, improving over the existing best results, including\n",
      "ensembles, by over 2 BLEU. On the WMT 2014 English-to-French translation task,\n",
      "our model establishes a new single-model state-of-the-art BLEU score of 41.8 after\n",
      "training for 3.5 days on eight GPUs, a small fraction of the training costs of the\n",
      "best models from the literature. We show that the Transformer generalizes well to\n",
      "other tasks by applying it successfully to English constituency parsing both with\n",
      "large and limited training data.\n",
      "∗Equal contribution. Listing order is random. Jakob proposed replacing RNNs with self-attention and started\n",
      "the effort to evaluate this idea. Ashish, with Illia, designed and implemented the first Transformer models and\n",
      "has been crucially involved in every aspect of this work. Noam proposed scaled dot-product attention, multi-head\n",
      "attention and the parameter-free position representation and became the other person involved in nearly every\n",
      "detail. Niki designed, implemented, tuned and evaluated countless model variants in our original codebase and\n",
      "tensor2tensor. Llion also experimented with novel model variants, was responsible for our initial codebase, and\n",
      "efficient inference and visualizations. Lukasz and Aidan spent countless long days designing various parts of and\n",
      "implementing tensor2tensor, replacing our earlier codebase, greatly improving results and massively accelerating\n",
      "our research.\n",
      "†Work performed while at Google Brain.\n",
      "‡Work performed while at Google Research.\n",
      "31st Conference on Neural Information Processing Systems (NIPS 2017), Long Beach, CA, USA.arXiv:1706.03762v7  [cs.CL]  2 Aug 2023\n"
     ]
    }
   ],
   "source": [
    "print(pdf_docs[0].page_content)"
   ]
  },
  {
   "cell_type": "markdown",
   "id": "6178f9a0",
   "metadata": {},
   "source": [
    "### 2.2 웹 문서 "
   ]
  },
  {
   "cell_type": "code",
   "execution_count": 27,
   "id": "7e8732bb",
   "metadata": {},
   "outputs": [
    {
     "data": {
      "text/plain": [
       "2"
      ]
     },
     "execution_count": 27,
     "metadata": {},
     "output_type": "execute_result"
    }
   ],
   "source": [
    "from langchain_community.document_loaders import WebBaseLoader\n",
    "\n",
    "web_loader = WebBaseLoader([\"https://python.langchain.com/\", \"https://js.langchain.com/\"])\n",
    "\n",
    "web_docs = web_loader.load()\n",
    "\n",
    "len(web_docs)\n"
   ]
  },
  {
   "cell_type": "code",
   "execution_count": 28,
   "id": "64688c45",
   "metadata": {},
   "outputs": [
    {
     "data": {
      "text/plain": [
       "{'source': 'https://python.langchain.com/',\n",
       " 'title': 'Introduction | 🦜️🔗 LangChain',\n",
       " 'description': 'LangChain is a framework for developing applications powered by large language models (LLMs).',\n",
       " 'language': 'en'}"
      ]
     },
     "execution_count": 28,
     "metadata": {},
     "output_type": "execute_result"
    }
   ],
   "source": [
    "web_docs[0].metadata"
   ]
  },
  {
   "cell_type": "code",
   "execution_count": 29,
   "id": "451fda18",
   "metadata": {},
   "outputs": [
    {
     "name": "stdout",
     "output_type": "stream",
     "text": [
      "\n",
      "\n",
      "\n",
      "\n",
      "\n",
      "Introduction | 🦜️🔗 LangChain\n",
      "\n",
      "\n",
      "\n",
      "\n",
      "\n",
      "\n",
      "Skip to main contentWe are growing and hiring for multiple roles for LangChain, LangGraph and LangSmith.  Join our team!IntegrationsAPI ReferenceMoreContributingPeopleError referenceLangSmithLangGraphLangChain HubLangChain JS/TSv0.3v0.3v0.2v0.1💬SearchIntroductionTutorialsBuild a Question Answering application over a Graph DatabaseTutorialsBuild a simple LLM application with chat models and prompt templatesBuild a ChatbotBuild a Retrieval Augmented Generation (RAG) App: Part 2Build an Extraction ChainBuild an AgentTaggingBuild a Retrieval Augmented Generation (RAG) App: Part 1Build a semantic search engineBuild a Question/Answering system over SQL dataSummarize TextHow-to guidesHow-to guidesHow to use tools in a chainHow to use a vectorstore as a retrieverHow to add memory to chatbotsHow to use example selectorsHow to add a semantic layer over graph databaseHow to invoke runnables in parallelHow to stream chat model responsesHow to add default invocation args to a RunnableHow to add retrieval to chatbotsHow to use few shot examples in chat modelsHow to do tool/function callingHow to install LangChain packagesHow to add examples to the prompt for query analysisHow to use few shot examplesHow to run custom functionsHow to use output parsers to parse an LLM response into structured formatHow to handle cases where no queries are generatedHow to route between sub-chainsHow to return structured data from a modelHow to summarize text through parallelizationHow to summarize text through iterative refinementHow to summarize text in a single LLM callHow to use toolkitsHow to add ad-hoc tool calling capability to LLMs and Chat ModelsBuild an Agent with AgentExecutor (Legacy)How to construct knowledge graphsHow to partially format prompt templatesHow to handle multiple queries when doing query analysisHow to use built-in tools and toolkitsHow to pass through arguments from one step to the nextHow to compose prompts togetherHow to handle multiple retrievers when doing query analysisHow to add values to a chain's stateHow to construct filters for query analysisHow to configure runtime chain internalsHow deal with high cardinality categoricals when doing query analysisCustom Document LoaderHow to use the MultiQueryRetrieverHow to add scores to retriever resultsCachingHow to use callbacks in async environmentsHow to attach callbacks to a runnableHow to propagate callbacks  constructorHow to dispatch custom callback eventsHow to pass callbacks in at runtimeHow to split by characterHow to cache chat model responsesHow to handle rate limitsHow to init any model in one lineHow to track token usage in ChatModelsHow to add tools to chatbotsHow to split codeHow to do retrieval with contextual compressionHow to convert Runnables to ToolsHow to create custom callback handlersHow to create a custom chat model classCustom EmbeddingsHow to create a custom LLM classCustom RetrieverHow to create toolsHow to debug your LLM appsHow to load CSVsHow to load documents from a directoryHow to load HTMLHow to load JSONHow to load MarkdownHow to load Microsoft Office filesHow to load PDFsHow to load web pagesHow to create a dynamic (self-constructing) chainText embedding modelsHow to combine results from multiple retrieversHow to select examples from a LangSmith datasetHow to select examples by lengthHow to select examples by maximal marginal relevance (MMR)How to select examples by n-gram overlapHow to select examples by similarityHow to use reference examples when doing extractionHow to handle long text when doing extractionHow to use prompting alone (no tool calling) to do extractionHow to add fallbacks to a runnableHow to filter messagesHybrid SearchHow to use the LangChain indexing APIHow to inspect runnablesLangChain Expression Language CheatsheetHow to cache LLM responsesHow to track token usage for LLMsRun models locallyHow to get log probabilitiesHow to reorder retrieved results to mitigate the \"lost in the middle\" effectHow to split Markdown by HeadersHow to merge consecutive messages of the same typeHow to add message historyHow to migrate from legacy LangChain agents to LangGraphHow to retrieve using multiple vectors per documentHow to pass multimodal data to modelsHow to use multimodal promptsHow to create a custom Output ParserHow to use the output-fixing parserHow to parse JSON outputHow to retry when a parsing error occursHow to parse text from message objectsHow to parse XML outputHow to parse YAML outputHow to use the Parent Document RetrieverHow to use LangChain with different Pydantic versionsHow to add chat historyHow to get a RAG application to add citationsHow to do per-user retrievalHow to get your RAG application to return sourcesHow to stream results from your RAG applicationHow to split JSON dataHow to recursively split text by charactersResponse metadataHow to pass runtime secrets to runnablesHow to do \"self-querying\" retrievalHow to split text based on semantic similarityHow to chain runnablesHow to save and load LangChain objectsHow to split text by tokensHow to split HTMLHow to do question answering over CSVsHow to deal with large databases when doing SQL question-answeringHow to better prompt when doing SQL question-answeringHow to do query validation as part of SQL question-answeringHow to stream runnablesHow to stream responses from an LLMHow to use a time-weighted vector store retrieverHow to return artifacts from a toolHow to use chat models to call toolsHow to disable parallel tool callingHow to force models to call a toolHow to access the RunnableConfig from a toolHow to pass tool outputs to chat modelsHow to pass run time values to toolsHow to stream events from a toolHow to stream tool callsHow to convert tools to OpenAI FunctionsHow to handle tool errorsHow to use few-shot prompting with tool callingHow to add a human-in-the-loop for toolsHow to bind model-specific toolsHow to trim messagesHow to create and query vector storesConceptual guideAgentsArchitectureAsync programming with langchainCallbacksChat historyChat modelsDocument loadersEmbedding modelsEvaluationExample selectorsFew-shot promptingConceptual guideKey-value storesLangChain Expression Language (LCEL)MessagesMultimodalityOutput parsersPrompt TemplatesRetrieval augmented generation (RAG)RetrievalRetrieversRunnable interfaceStreamingStructured outputsTestingString-in, string-out llmsText splittersTokensTool callingToolsTracingVector storesWhy LangChain?Ecosystem🦜🛠️ LangSmith🦜🕸️ LangGraphVersionsv0.3v0.2Pydantic compatibilityMigrating from v0.0 chainsHow to migrate from v0.0 chainsMigrating from ConstitutionalChainMigrating from ConversationalChainMigrating from ConversationalRetrievalChainMigrating from LLMChainMigrating from LLMMathChainMigrating from LLMRouterChainMigrating from MapReduceDocumentsChainMigrating from MapRerankDocumentsChainMigrating from MultiPromptChainMigrating from RefineDocumentsChainMigrating from RetrievalQAMigrating from StuffDocumentsChainUpgrading to LangGraph memoryHow to migrate to LangGraph memoryHow to use BaseChatMessageHistory with LangGraphMigrating off ConversationBufferMemory or ConversationStringBufferMemoryMigrating off ConversationBufferWindowMemory or ConversationTokenBufferMemoryMigrating off ConversationSummaryMemory or ConversationSummaryBufferMemoryA Long-Term Memory AgentRelease policySecurity PolicyIntroductionOn this pageIntroduction\n",
      "LangChain is a framework for developing applications powered by large language models (LLMs).\n",
      "LangChain simplifies every stage of the LLM application lifecycle:\n",
      "\n",
      "Development: Build your applications using LangChain's open-source components and third-party integrations.\n",
      "Use LangGraph to build stateful agents with first-class streaming and human-in-the-loop support.\n",
      "Productionization: Use LangSmith to inspect, monitor and evaluate your applications, so that you can continuously optimize and deploy with confidence.\n",
      "Deployment: Turn your LangGraph applications into production-ready APIs and Assistants with LangGraph Platform.\n",
      "\n",
      "\n",
      "\n",
      "LangChain implements a standard interface for large language models and related\n",
      "technologies, such as embedding models and vector stores, and integrates with\n",
      "hundreds of providers. See the integrations page for\n",
      "more.\n",
      "\n",
      "Select chat model:OpenAI▾OpenAIAnthropicAzureGoogle GeminiGoogle VertexAWSGroqCohereNVIDIAFireworks AIMistral AITogether AIIBM watsonxDatabricksxAIPerplexitypip install -qU \"langchain[openai]\"import getpassimport osif not os.environ.get(\"OPENAI_API_KEY\"):  os.environ[\"OPENAI_API_KEY\"] = getpass.getpass(\"Enter API key for OpenAI: \")from langchain.chat_models import init_chat_modelmodel = init_chat_model(\"gpt-4o-mini\", model_provider=\"openai\")\n",
      "model.invoke(\"Hello, world!\")\n",
      "noteThese docs focus on the Python LangChain library. Head here for docs on the JavaScript LangChain library.\n",
      "Architecture​\n",
      "The LangChain framework consists of multiple open-source libraries. Read more in the\n",
      "Architecture page.\n",
      "\n",
      "langchain-core: Base abstractions for chat models and other components.\n",
      "Integration packages (e.g. langchain-openai, langchain-anthropic, etc.): Important integrations have been split into lightweight packages that are co-maintained by the LangChain team and the integration developers.\n",
      "langchain: Chains, agents, and retrieval strategies that make up an application's cognitive architecture.\n",
      "langchain-community: Third-party integrations that are community maintained.\n",
      "langgraph: Orchestration framework for combining LangChain components into production-ready applications with persistence, streaming, and other key features. See LangGraph documentation.\n",
      "\n",
      "Guides​\n",
      "Tutorials​\n",
      "If you're looking to build something specific or are more of a hands-on learner, check out our tutorials section.\n",
      "This is the best place to get started.\n",
      "These are the best ones to get started with:\n",
      "\n",
      "Build a Simple LLM Application\n",
      "Build a Chatbot\n",
      "Build an Agent\n",
      "Introduction to LangGraph\n",
      "\n",
      "Explore the full list of LangChain tutorials here, and check out other LangGraph tutorials here. To learn more about LangGraph, check out our first LangChain Academy course, Introduction to LangGraph, available here.\n",
      "How-to guides​\n",
      "Here you’ll find short answers to “How do I….?” types of questions.\n",
      "These how-to guides don’t cover topics in depth – you’ll find that material in the Tutorials and the API Reference.\n",
      "However, these guides will help you quickly accomplish common tasks using chat models,\n",
      "vector stores, and other common LangChain components.\n",
      "Check out LangGraph-specific how-tos here.\n",
      "Conceptual guide​\n",
      "Introductions to all the key parts of LangChain you’ll need to know! Here you'll find high level explanations of all LangChain concepts.\n",
      "For a deeper dive into LangGraph concepts, check out this page.\n",
      "Integrations​\n",
      "LangChain is part of a rich ecosystem of tools that integrate with our framework and build on top of it.\n",
      "If you're looking to get up and running quickly with chat models, vector stores,\n",
      "or other LangChain components from a specific provider, check out our growing list of integrations.\n",
      "API reference​\n",
      "Head to the reference section for full documentation of all classes and methods in the LangChain Python packages.\n",
      "Ecosystem​\n",
      "🦜🛠️ LangSmith​\n",
      "Trace and evaluate your language model applications and intelligent agents to help you move from prototype to production.\n",
      "🦜🕸️ LangGraph​\n",
      "Build stateful, multi-actor applications with LLMs. Integrates smoothly with LangChain, but can be used without it. LangGraph powers production-grade agents, trusted by Linkedin, Uber, Klarna, GitLab, and many more.\n",
      "Additional resources​\n",
      "Versions​\n",
      "See what changed in v0.3, learn how to migrate legacy code, read up on our versioning policies, and more.\n",
      "Security​\n",
      "Read up on security best practices to make sure you're developing safely with LangChain.\n",
      "Contributing​\n",
      "Check out the developer's guide for guidelines on contributing and help getting your dev environment set up.Edit this pageWas this page helpful?NextTutorialsArchitectureGuidesTutorialsHow-to guidesConceptual guideIntegrationsAPI referenceEcosystem🦜🛠️ LangSmith🦜🕸️ LangGraphAdditional resourcesVersionsSecurityContributingCommunityTwitterGitHubOrganizationPythonJS/TSMoreHomepageBlogYouTubeCopyright © 2025 LangChain, Inc.\n",
      "\n",
      "\n"
     ]
    }
   ],
   "source": [
    "print(web_docs[0].page_content)"
   ]
  },
  {
   "cell_type": "markdown",
   "id": "8b473046",
   "metadata": {},
   "source": [
    "### 2.3 JSON 파일 "
   ]
  },
  {
   "cell_type": "code",
   "execution_count": null,
   "id": "125d323f",
   "metadata": {},
   "outputs": [
    {
     "name": "stdout",
     "output_type": "stream",
     "text": [
      "문서의 수: 5\n",
      "--------------------------------------------------\n",
      "처음 문서의 메타데이터: \n",
      " {'source': '/Users/gu.han/Documents/AI.WORK/RAG_Master/data/kakao_chat.json', 'seq_num': 1}\n",
      "--------------------------------------------------\n",
      "처음 문서의 내용: \n",
      " 안녕하세요 여러분, 오늘 회의 시간 확인차 연락드립니다.\n"
     ]
    }
   ],
   "source": [
    "from langchain_community.document_loaders import JSONLoader\n",
    "\n",
    "json_loader = JSONLoader(\n",
    "    file_path=\"./data/kakao_chat.json\",\n",
    "    jq_schema=\".messages[].content\",    # messages 배열의 content 필드만 추출 -> content_key = \"content\"와 동일\n",
    "    text_content=True,                  # 추출하려는 필드가 텍스트인지 여부\n",
    ")\n",
    "\n",
    "json_docs = json_loader.load()\n",
    "\n",
    "print(\"문서의 수:\", len(json_docs))\n",
    "print(\"-\" * 50)\n",
    "print(\"처음 문서의 메타데이터: \\n\", json_docs[0].metadata)\n",
    "print(\"-\" * 50)\n",
    "print(\"처음 문서의 내용: \\n\", json_docs[0].page_content)"
   ]
  },
  {
   "cell_type": "code",
   "execution_count": 9,
   "id": "3b6004a6",
   "metadata": {},
   "outputs": [
    {
     "name": "stdout",
     "output_type": "stream",
     "text": [
      "문서의 수: 5\n",
      "--------------------------------------------------\n",
      "처음 문서의 메타데이터: \n",
      " {'source': '/Users/gu.han/Documents/AI.WORK/RAG_Master/data/kakao_chat.json', 'seq_num': 1}\n",
      "처음 문서의 메타데이터: \n",
      " {'source': '/Users/gu.han/Documents/AI.WORK/RAG_Master/data/kakao_chat.json', 'seq_num': 2}\n",
      "--------------------------------------------------\n",
      "처음 문서의 내용: \n",
      " {\"sender\": \"\\uae40\\ucca0\\uc218\", \"timestamp\": \"2023-09-15 09:30:22\", \"content\": \"\\uc548\\ub155\\ud558\\uc138\\uc694 \\uc5ec\\ub7ec\\ubd84, \\uc624\\ub298 \\ud68c\\uc758 \\uc2dc\\uac04 \\ud655\\uc778\\ucc28 \\uc5f0\\ub77d\\ub4dc\\ub9bd\\ub2c8\\ub2e4.\"}\n"
     ]
    }
   ],
   "source": [
    "from langchain_community.document_loaders import JSONLoader\n",
    "\n",
    "json_loader = JSONLoader(\n",
    "    file_path=\"./data/kakao_chat.json\",\n",
    "    jq_schema=\".messages[]\",    # messages 배열의 모든 아이템을 추출\n",
    "    text_content=False,          # 추출하려는 필드가 텍스트인지 여부\n",
    ")\n",
    "\n",
    "json_docs = json_loader.load()\n",
    "\n",
    "print(\"문서의 수:\", len(json_docs))\n",
    "print(\"-\" * 50)\n",
    "print(\"처음 문서의 메타데이터: \\n\", json_docs[0].metadata)\n",
    "print(\"처음 문서의 메타데이터: \\n\", json_docs[1].metadata)\n",
    "print(\"-\" * 50)\n",
    "print(\"처음 문서의 내용: \\n\", json_docs[0].page_content)"
   ]
  },
  {
   "cell_type": "code",
   "execution_count": 32,
   "id": "6eafd1fb",
   "metadata": {},
   "outputs": [
    {
     "name": "stdout",
     "output_type": "stream",
     "text": [
      "문서의 수: 5\n",
      "--------------------------------------------------\n",
      "처음 문서의 메타데이터: \n",
      " {'source': '/Users/gu.han/Documents/AI.WORK/RAG_Master/data/kakao_chat.json', 'seq_num': 1}\n",
      "--------------------------------------------------\n",
      "처음 문서의 내용: \n",
      " {\"sender\": \"김철수\", \"timestamp\": \"2023-09-15 09:30:22\", \"content\": \"안녕하세요 여러분, 오늘 회의 시간 확인차 연락드립니다.\"}\n"
     ]
    }
   ],
   "source": [
    "# 유니코드 디코딩 (한글 문자들이 유니코드 이스케이프 시퀀스로 인코딩되어 있음)\n",
    "from langchain_core.documents import Document\n",
    "\n",
    "decoded_json_docs = []\n",
    "\n",
    "for doc in json_docs:\n",
    "    decoded_data = json.loads(doc.page_content)\n",
    "\n",
    "    # decoded_json_docs.append({\n",
    "    #     \"metadata\": doc.metadata,\n",
    "    #     \"page_content\": json.dumps(decoded_data, ensure_ascii=False)\n",
    "    # })\n",
    "\n",
    "    document_obj = Document(page_content=json.dumps(decoded_data, ensure_ascii=False), metadata=doc.metadata)\n",
    "    decoded_json_docs.append(document_obj)\n",
    "\n",
    "print(\"문서의 수:\", len(decoded_json_docs))\n",
    "print(\"-\" * 50)\n",
    "# print(\"처음 문서의 메타데이터: \\n\", decoded_json_docs[0][\"metadata\"])\n",
    "print(\"처음 문서의 메타데이터: \\n\", decoded_json_docs[0].metadata)\n",
    "print(\"-\" * 50)\n",
    "# print(\"처음 문서의 내용: \\n\", decoded_json_docs[0][\"page_content\"])\n",
    "print(\"처음 문서의 내용: \\n\", decoded_json_docs[0].page_content)\n"
   ]
  },
  {
   "cell_type": "code",
   "execution_count": 11,
   "id": "28339f39",
   "metadata": {},
   "outputs": [
    {
     "name": "stdout",
     "output_type": "stream",
     "text": [
      "문서의 수: 5\n",
      "--------------------------------------------------\n",
      "처음 문서의 메타데이터:\n",
      " {'sender': '김철수', 'timestamp': '2023-09-15 09:30:22'}\n",
      "--------------------------------------------------\n",
      "처음 문서의 내용:\n",
      " 안녕하세요 여러분, 오늘 회의 시간 확인차 연락드립니다.\n"
     ]
    }
   ],
   "source": [
    "# LangChain Document 객체로 변경\n",
    "\n",
    "from langchain_core.documents import Document\n",
    "\n",
    "decoded_json_docs = []\n",
    "\n",
    "for doc in json_docs:\n",
    "    decoded_data = json.loads(doc.page_content)\n",
    "    \n",
    "    # Document 객체 생성 - 디코딩된 내용을 page_content로 사용\n",
    "    document = Document(\n",
    "        page_content=decoded_data.get(\"content\", \"\"),  # content 필드 추출\n",
    "        metadata={\n",
    "            **doc.metadata,  # 기존 메타데이터 유지 (딕셔너리 언패킹 연산자를 사용하여 기존 메타데이터의 모든 키-값 쌍을 새로운 딕셔너리에 복사)\n",
    "            \"sender\": decoded_data.get(\"sender\", \"\"),  # sender 필드 추가 \n",
    "            \"timestamp\": decoded_data.get(\"timestamp\", \"\")  # timestamp 필드 추가\n",
    "        }\n",
    "    )\n",
    "    decoded_json_docs.append(document)\n",
    "\n",
    "print(\"문서의 수:\", len(decoded_json_docs))\n",
    "print(\"-\" * 50)\n",
    "print(\"처음 문서의 메타데이터:\\n\", decoded_json_docs[0].metadata)\n",
    "print(\"-\" * 50) \n",
    "print(\"처음 문서의 내용:\\n\", decoded_json_docs[0].page_content)"
   ]
  },
  {
   "cell_type": "code",
   "execution_count": 12,
   "id": "c112cbea",
   "metadata": {},
   "outputs": [
    {
     "name": "stdout",
     "output_type": "stream",
     "text": [
      "문서의 수: 5\n",
      "--------------------------------------------------\n",
      "처음 문서의 메타데이터: \n",
      " {'source': '/Users/gu.han/Documents/AI.WORK/RAG_Master/data/kakao_chat.json', 'seq_num': 1, 'sender': '김철수', 'timestamp': '2023-09-15 09:30:22'}\n",
      "--------------------------------------------------\n",
      "처음 문서의 내용: \n",
      " 안녕하세요 여러분, 오늘 회의 시간 확인차 연락드립니다.\n"
     ]
    }
   ],
   "source": [
    "# 메타데이터 추가하기\n",
    "def metadata_func(record: dict, metadata: dict) -> dict:\n",
    "    metadata[\"sender\"] = record.get(\"sender\")\n",
    "    metadata[\"timestamp\"] = record.get(\"timestamp\")\n",
    "    return metadata\n",
    "\n",
    "\n",
    "json_loader = JSONLoader(\n",
    "    file_path=\"./data/kakao_chat.json\",\n",
    "    jq_schema=\".messages[]\",\n",
    "    content_key=\"content\",\n",
    "    metadata_func=metadata_func,\n",
    ")\n",
    "\n",
    "json_docs = json_loader.load()\n",
    "\n",
    "print(\"문서의 수:\", len(json_docs))\n",
    "print(\"-\" * 50)\n",
    "print(\"처음 문서의 메타데이터: \\n\", json_docs[0].metadata)\n",
    "print(\"-\" * 50)\n",
    "print(\"처음 문서의 내용: \\n\", json_docs[0].page_content)\n"
   ]
  },
  {
   "cell_type": "markdown",
   "id": "ee0d5ede",
   "metadata": {},
   "source": [
    "```json\n",
    "{\"sender\": \"김철수\", \"timestamp\": \"2023-09-15 09:30:22\", \"content\": \"안녕하세요 여러분, 오늘 회의 시간 확인차 연락드립니다.\"}\n",
    "{\"sender\": \"이영희\", \"timestamp\": \"2023-09-15 09:31:05\", \"content\": \"네, 안녕하세요. 오후 2시에 하기로 했어요.\"}\n",
    "```"
   ]
  },
  {
   "cell_type": "code",
   "execution_count": 13,
   "id": "32253193",
   "metadata": {},
   "outputs": [
    {
     "name": "stdout",
     "output_type": "stream",
     "text": [
      "문서의 수: 5\n",
      "--------------------------------------------------\n",
      "처음 문서의 메타데이터: \n",
      " {'source': '/Users/gu.han/Documents/AI.WORK/RAG_Master/data/kakao_chat.jsonl', 'seq_num': 1}\n",
      "--------------------------------------------------\n",
      "처음 문서의 내용: \n",
      " 안녕하세요 여러분, 오늘 회의 시간 확인차 연락드립니다.\n"
     ]
    }
   ],
   "source": [
    "# JSONL 파일 로드하기\n",
    "json_loader = JSONLoader(\n",
    "    file_path=\"./data/kakao_chat.jsonl\",\n",
    "    jq_schema=\".content\",\n",
    "    json_lines=True,\n",
    ")\n",
    "\n",
    "json_docs = json_loader.load()\n",
    "\n",
    "print(\"문서의 수:\", len(json_docs))\n",
    "print(\"-\" * 50)\n",
    "print(\"처음 문서의 메타데이터: \\n\", json_docs[0].metadata)\n",
    "print(\"-\" * 50)\n",
    "print(\"처음 문서의 내용: \\n\", json_docs[0].page_content)\n"
   ]
  },
  {
   "cell_type": "code",
   "execution_count": 35,
   "id": "9335e1f3",
   "metadata": {},
   "outputs": [
    {
     "name": "stdout",
     "output_type": "stream",
     "text": [
      "문서의 수: 5\n",
      "--------------------------------------------------\n",
      "처음 문서의 메타데이터: \n",
      " {'source': '/Users/gu.han/Documents/AI.WORK/RAG_Master/data/kakao_chat.jsonl', 'seq_num': 1}\n",
      "--------------------------------------------------\n",
      "처음 문서의 내용: \n",
      " 안녕하세요 여러분, 오늘 회의 시간 확인차 연락드립니다.\n"
     ]
    }
   ],
   "source": [
    "# JSONL 파일 로드하기\n",
    "json_loader = JSONLoader(\n",
    "    file_path=\"./data/kakao_chat.jsonl\",\n",
    "    jq_schema=\".\",\n",
    "    content_key=\"content\",\n",
    "    json_lines=True,\n",
    ")\n",
    "\n",
    "json_docs = json_loader.load()\n",
    "\n",
    "print(\"문서의 수:\", len(json_docs))\n",
    "print(\"-\" * 50)\n",
    "print(\"처음 문서의 메타데이터: \\n\", json_docs[0].metadata)\n",
    "print(\"-\" * 50)\n",
    "print(\"처음 문서의 내용: \\n\", json_docs[0].page_content)\n"
   ]
  },
  {
   "cell_type": "code",
   "execution_count": 36,
   "id": "255e4ff1",
   "metadata": {},
   "outputs": [
    {
     "name": "stdout",
     "output_type": "stream",
     "text": [
      "문서의 수: 5\n",
      "--------------------------------------------------\n",
      "처음 문서의 메타데이터: \n",
      " {'source': '/Users/gu.han/Documents/AI.WORK/RAG_Master/data/kakao_chat.jsonl', 'seq_num': 1, 'sender': '김철수', 'timestamp': '2023-09-15 09:30:22'}\n",
      "--------------------------------------------------\n",
      "처음 문서의 내용: \n",
      " 안녕하세요 여러분, 오늘 회의 시간 확인차 연락드립니다.\n"
     ]
    }
   ],
   "source": [
    "# 메타데이터 추가하기\n",
    "def metadata_func(record: dict, metadata: dict) -> dict:\n",
    "    metadata[\"sender\"] = record.get(\"sender\")\n",
    "    metadata[\"timestamp\"] = record.get(\"timestamp\")\n",
    "    return metadata\n",
    "\n",
    "json_loader = JSONLoader(\n",
    "    file_path=\"./data/kakao_chat.jsonl\",\n",
    "    jq_schema=\".\",\n",
    "    content_key=\"content\",\n",
    "    metadata_func=metadata_func,\n",
    "    json_lines=True,\n",
    ")\n",
    "\n",
    "json_docs = json_loader.load()\n",
    "\n",
    "print(\"문서의 수:\", len(json_docs))\n",
    "print(\"-\" * 50)\n",
    "print(\"처음 문서의 메타데이터: \\n\", json_docs[0].metadata)\n",
    "print(\"-\" * 50)\n",
    "print(\"처음 문서의 내용: \\n\", json_docs[0].page_content)"
   ]
  },
  {
   "cell_type": "markdown",
   "id": "c1ae07e1",
   "metadata": {},
   "source": [
    "### 2.4  CSV 문서 "
   ]
  },
  {
   "cell_type": "code",
   "execution_count": 14,
   "id": "ba7a8b7e",
   "metadata": {},
   "outputs": [
    {
     "name": "stdout",
     "output_type": "stream",
     "text": [
      "문서의 수: 10\n",
      "--------------------------------------------------\n",
      "처음 문서의 메타데이터: \n",
      " {'source': './data/kbo_teams_2023.csv', 'row': 0}\n",
      "--------------------------------------------------\n",
      "처음 문서의 내용: \n",
      " Team: KIA 타이거즈\n",
      "City: 광주\n",
      "Founded: 1982\n",
      "Home Stadium: 광주-기아 챔피언스 필드\n",
      "Championships: 11\n",
      "Introduction: KBO 리그의 전통 강호로, 역대 최다 우승 기록을 보유하고 있다. '타이거즈 스피릿'으로 유명하며, 양현종, 안치홍 등 스타 선수들을 배출했다. 광주를 연고로 하는 유일한 프로야구팀으로 지역 사랑이 강하다.\n"
     ]
    }
   ],
   "source": [
    "from langchain_community.document_loaders.csv_loader import CSVLoader\n",
    "\n",
    "csv_loader = CSVLoader(\"./data/kbo_teams_2023.csv\")\n",
    "csv_docs = csv_loader.load()\n",
    "\n",
    "print(\"문서의 수:\", len(csv_docs))\n",
    "print(\"-\" * 50)\n",
    "print(\"처음 문서의 메타데이터: \\n\", csv_docs[0].metadata)\n",
    "print(\"-\" * 50)\n",
    "print(\"처음 문서의 내용: \\n\", csv_docs[0].page_content)"
   ]
  },
  {
   "cell_type": "markdown",
   "id": "8aae49f4",
   "metadata": {},
   "source": [
    "## 3. 효과적인 텍스트 분할 전략"
   ]
  },
  {
   "cell_type": "markdown",
   "id": "7e7e0cf4",
   "metadata": {},
   "source": [
    "### 3-1 RecursiveCharacterTextSplitter"
   ]
  },
  {
   "cell_type": "code",
   "execution_count": 38,
   "id": "7dc4bc25",
   "metadata": {},
   "outputs": [
    {
     "name": "stdout",
     "output_type": "stream",
     "text": [
      "생성된 텍스트 청크 수: 52\n",
      "각 청크의 길이: [981, 910, 975, 451, 932, 998, 904, 907, 995, 385, 926, 953, 216, 920, 996, 829, 975, 910, 906, 870, 929, 961, 945, 997, 195, 977, 968, 947, 933, 965, 938, 915, 733, 952, 945, 948, 618, 980, 989, 994, 624, 945, 914, 946, 918, 988, 929, 929, 849, 812, 814, 817]\n"
     ]
    }
   ],
   "source": [
    "from langchain_text_splitters import RecursiveCharacterTextSplitter\n",
    "\n",
    "text_splitter = RecursiveCharacterTextSplitter(\n",
    "    chunk_size=1000,        # 청크 크기  \n",
    "    chunk_overlap=200,      # 청크 중 중복되는 부분 크기\n",
    "    length_function=len,    # 글자 수를 기준으로 분할\n",
    "    #separators=[\"\\n\\n\", \"\\n\",],  # 구분자 \n",
    "    separators=[\"\\n\\n\", \"\\n\", \".\", \" \", \"\",]  # 구분자 \n",
    ")\n",
    "\n",
    "texts = text_splitter.split_documents(pdf_docs)\n",
    "print(f\"생성된 텍스트 청크 수: {len(texts)}\")\n",
    "print(f\"각 청크의 길이: {list(len(text.page_content) for text in texts)}\")"
   ]
  },
  {
   "cell_type": "markdown",
   "id": "4ee0ca46",
   "metadata": {},
   "source": [
    "- RecursiveCharacterTextSplitter는 이름에서 알 수 있듯이 재귀적으로 텍스트를 분할합니다. \n",
    "- 구분자를 순차적으로 적용하여 큰 청크에서 시작하여 점진적으로 더 작은 단위로 나눕니다. \n",
    "- 일반적으로 CharacterTextSplitter보다 더 엄격하게 크기를 준수하려고 합니다.\n"
   ]
  },
  {
   "cell_type": "code",
   "execution_count": 39,
   "id": "714ba916",
   "metadata": {},
   "outputs": [
    {
     "name": "stdout",
     "output_type": "stream",
     "text": [
      "Provided proper attribution is provided, Google hereby grants permission to\n",
      "reproduce the tables and figures in this paper solely for use in journalistic or\n",
      "scholarly works.\n",
      "Attention Is All You Need\n",
      "\n",
      "--------------------------------------------------------------------------------------------------------------------------------------------------------------------------------------------------------\n",
      "the encoder and decoder through an attention\n",
      "mechanism. We propose a new simple network architecture, the Transformer,\n",
      "based solely on attention mechanisms, dispensing with recurrence and convolutions\n",
      "========================================================================================================================================================================================================\n",
      "\n",
      "mechanism. We propose a new simple network architecture, the Transformer,\n",
      "based solely on attention mechanisms, dispensing with recurrence and convolutions\n",
      "entirely. Experiments on two machine transla\n",
      "--------------------------------------------------------------------------------------------------------------------------------------------------------------------------------------------------------\n",
      "the\n",
      "best models from the literature. We show that the Transformer generalizes well to\n",
      "other tasks by applying it successfully to English constituency parsing both with\n",
      "large and limited training data.\n",
      "========================================================================================================================================================================================================\n",
      "\n",
      "best models from the literature. We show that the Transformer generalizes well to\n",
      "other tasks by applying it successfully to English constituency parsing both with\n",
      "large and limited training data.\n",
      "∗Eq\n",
      "--------------------------------------------------------------------------------------------------------------------------------------------------------------------------------------------------------\n",
      " experimented with novel model variants, was responsible for our initial codebase, and\n",
      "efficient inference and visualizations. Lukasz and Aidan spent countless long days designing various parts of and\n",
      "========================================================================================================================================================================================================\n",
      "\n",
      "efficient inference and visualizations. Lukasz and Aidan spent countless long days designing various parts of and\n",
      "implementing tensor2tensor, replacing our earlier codebase, greatly improving results \n",
      "--------------------------------------------------------------------------------------------------------------------------------------------------------------------------------------------------------\n",
      "ormed while at Google Brain.\n",
      "‡Work performed while at Google Research.\n",
      "31st Conference on Neural Information Processing Systems (NIPS 2017), Long Beach, CA, USA.arXiv:1706.03762v7  [cs.CL]  2 Aug 2023\n",
      "========================================================================================================================================================================================================\n",
      "\n",
      "1 Introduction\n",
      "Recurrent neural networks, long short-term memory [ 13] and gated recurrent [ 7] neural networks\n",
      "in particular, have been firmly established as state of the art approaches in sequence m\n",
      "--------------------------------------------------------------------------------------------------------------------------------------------------------------------------------------------------------\n",
      "\n",
      "sequential nature precludes parallelization within training examples, which becomes critical at longer\n",
      "sequence lengths, as memory constraints limit batching across examples. Recent work has achieved\n",
      "========================================================================================================================================================================================================\n",
      "\n"
     ]
    }
   ],
   "source": [
    "# 각 청크의 시작 부분과 끝 부분 확인\n",
    "for text in texts[:5]:\n",
    "    print(text.page_content[:200])\n",
    "    print(\"-\" * 200)\n",
    "    print(text.page_content[-200:])\n",
    "    print(\"=\" * 200)\n",
    "    print()"
   ]
  },
  {
   "cell_type": "markdown",
   "id": "fae8677d",
   "metadata": {},
   "source": [
    "### 3-2 정규표현식 사용"
   ]
  },
  {
   "cell_type": "code",
   "execution_count": 45,
   "id": "98e6e771",
   "metadata": {},
   "outputs": [
    {
     "name": "stderr",
     "output_type": "stream",
     "text": [
      "Created a chunk of size 11, which is longer than the specified 10\n",
      "Created a chunk of size 13, which is longer than the specified 10\n"
     ]
    },
    {
     "name": "stdout",
     "output_type": "stream",
     "text": [
      "생성된 텍스트 청크 수: 9\n",
      "각 청크의 길이: [31, 9, 15, 7, 11, 11, 27, 13, 13]\n",
      "\n",
      "안녕하세요 여러분, 오늘 회의 시간 확인차 연락드립니다.\n",
      "--------------------------------------------------\n",
      "안녕하세요 여러분, 오늘 회의 시간 확인차 연락드립니다.\n",
      "==================================================\n",
      "\n",
      "네, 안녕하세요.\n",
      "--------------------------------------------------\n",
      "네, 안녕하세요.\n",
      "==================================================\n",
      "\n",
      "오후 2시에 하기로 했어요.\n",
      "--------------------------------------------------\n",
      "오후 2시에 하기로 했어요.\n",
      "==================================================\n",
      "\n",
      "확인했습니다.\n",
      "--------------------------------------------------\n",
      "확인했습니다.\n",
      "==================================================\n",
      "\n",
      "회의실은 어디인가요?\n",
      "--------------------------------------------------\n",
      "회의실은 어디인가요?\n",
      "==================================================\n",
      "\n",
      "3층 대회의실입니다.\n",
      "--------------------------------------------------\n",
      "3층 대회의실입니다.\n",
      "==================================================\n",
      "\n",
      "프로젝트 진행 상황 정리해오시는 거 잊지 마세요!\n",
      "--------------------------------------------------\n",
      "프로젝트 진행 상황 정리해오시는 거 잊지 마세요!\n",
      "==================================================\n",
      "\n",
      "네, 모두 준비했습니다.\n",
      "--------------------------------------------------\n",
      "네, 모두 준비했습니다.\n",
      "==================================================\n",
      "\n",
      "회의 때 뵙겠습니다 :)\n",
      "--------------------------------------------------\n",
      "회의 때 뵙겠습니다 :)\n",
      "==================================================\n",
      "\n"
     ]
    }
   ],
   "source": [
    "# 문장을 구분하여 분할 (마침표, 느낌표, 물음표 다음에 공백이 오는 경우 문장의 끝으로 판단)\n",
    "from langchain_text_splitters import CharacterTextSplitter\n",
    "\n",
    "text_splitter = CharacterTextSplitter(\n",
    "    chunk_size=10,\n",
    "    chunk_overlap=0,\n",
    "    separator=r'(?<=[.!?])\\s+',\n",
    "    is_separator_regex=True,\n",
    "    keep_separator=True,\n",
    ")\n",
    "\n",
    "texts = text_splitter.split_documents(json_docs)\n",
    "print(f\"생성된 텍스트 청크 수: {len(texts)}\")\n",
    "print(f\"각 청크의 길이: {list(len(text.page_content) for text in texts)}\")\n",
    "print()\n",
    "\n",
    "# 각 청크의 시작 부분과 끝 부분 확인\n",
    "for text in texts[:50]:\n",
    "    print(text.page_content[:50])\n",
    "    print(\"-\" * 50)\n",
    "    print(text.page_content[-50:])\n",
    "    print(\"=\" * 50)\n",
    "    print()"
   ]
  },
  {
   "cell_type": "markdown",
   "id": "8bbe562f",
   "metadata": {},
   "source": [
    "### 3-3 토큰 수를 기반으로 분할"
   ]
  },
  {
   "cell_type": "markdown",
   "id": "d9198b73",
   "metadata": {},
   "source": [
    "`(1) tiktoken`  \n",
    "- OpenAI에서 만든 BPE Tokenizer"
   ]
  },
  {
   "cell_type": "code",
   "execution_count": 48,
   "id": "bdea518c",
   "metadata": {},
   "outputs": [
    {
     "data": {
      "text/plain": [
       "2853"
      ]
     },
     "execution_count": 48,
     "metadata": {},
     "output_type": "execute_result"
    }
   ],
   "source": [
    "len(pdf_docs[0].page_content)"
   ]
  },
  {
   "cell_type": "code",
   "execution_count": 50,
   "id": "49b5fda6",
   "metadata": {},
   "outputs": [
    {
     "name": "stdout",
     "output_type": "stream",
     "text": [
      "생성된 청크 수: 3\n",
      "각 청크의 길이: [1140, 1374, 337]\n",
      "Provided proper attribution is provided, Google he\n",
      "--------------------------------------------------\n",
      "ng more parallelizable and requiring significantly\n",
      "==================================================\n",
      "\n",
      "less time to train. Our model achieves 28.4 BLEU o\n",
      "--------------------------------------------------\n",
      "countless long days designing various parts of and\n",
      "==================================================\n",
      "\n",
      "implementing tensor2tensor, replacing our earlier \n",
      "--------------------------------------------------\n",
      "h, CA, USA.arXiv:1706.03762v7  [cs.CL]  2 Aug 2023\n",
      "==================================================\n",
      "\n"
     ]
    }
   ],
   "source": [
    "from langchain_text_splitters import RecursiveCharacterTextSplitter\n",
    "\n",
    "text_splitter = RecursiveCharacterTextSplitter.from_tiktoken_encoder(\n",
    "    encoding_name=\"cl100k_base\", \n",
    "    # model_name=\"gpt-4o-mini\",\n",
    "    chunk_size=300, \n",
    "    chunk_overlap=0,\n",
    ")\n",
    "\n",
    "chunks = text_splitter.split_documents(pdf_docs[:1])\n",
    "\n",
    "print(f\"생성된 청크 수: {len(chunks)}\")\n",
    "print(f\"각 청크의 길이: {list(len(chunk.page_content) for chunk in chunks)}\")\n",
    "\n",
    "# 각 청크의 시작 부분과 끝 부분 확인\n",
    "for chunk in chunks[:5]:\n",
    "    print(chunk.page_content[:50])\n",
    "    print(\"-\" * 50)\n",
    "    print(chunk.page_content[-50:])\n",
    "    print(\"=\" * 50)\n",
    "    print()"
   ]
  },
  {
   "cell_type": "code",
   "execution_count": 51,
   "id": "f10e8b4b",
   "metadata": {},
   "outputs": [
    {
     "name": "stdout",
     "output_type": "stream",
     "text": [
      "283\n",
      "[36919, 291, 6300, 63124, 374, 3984, 11, 5195, 22552, 25076]\n",
      "['Provid', 'ed', ' proper', ' attribution', ' is', ' provided', ',', ' Google', ' hereby', ' grants']\n",
      "==================================================\n",
      "\n",
      "291\n",
      "[1752, 892, 311, 5542, 13, 5751, 1646, 83691, 220, 1591]\n",
      "['less', ' time', ' to', ' train', '.', ' Our', ' model', ' achieves', ' ', '28']\n",
      "==================================================\n",
      "\n",
      "83\n",
      "[95574, 287, 16000, 17, 47211, 11, 25935, 1057, 6931, 2082]\n",
      "['implement', 'ing', ' tensor', '2', 'tensor', ',', ' replacing', ' our', ' earlier', ' code']\n",
      "==================================================\n",
      "\n"
     ]
    }
   ],
   "source": [
    "import tiktoken\n",
    "\n",
    "tokenizer = tiktoken.get_encoding(\"cl100k_base\")\n",
    "# tokenizer = tiktoken.encoding_for_model(\"gpt-4o-mini\")\n",
    "\n",
    "for chunk in chunks[:5]:\n",
    "\n",
    "    # 각 청크를 토큰화\n",
    "    tokens = tokenizer.encode(chunk.page_content)\n",
    "    # 각 청크의 단어 수 확인\n",
    "    print(len(tokens))\n",
    "    # 각 청크의 토큰화 결과 확인 (첫 10개 토큰만 출력)\n",
    "    print(tokens[:10])\n",
    "    # 토큰 ID를 실제 토큰(문자열)로 변환해서 출력\n",
    "    token_strings = [tokenizer.decode([token]) for token in tokens[:10]]\n",
    "    print(token_strings)\n",
    "\n",
    "    print(\"=\" * 50)\n",
    "    print()"
   ]
  },
  {
   "cell_type": "markdown",
   "id": "a4b01677",
   "metadata": {},
   "source": [
    "`(2) Hugging Face 토크나이저`  \n",
    "- Hugging Face tokenizer 모델이 토큰 수를 기준으로 분할"
   ]
  },
  {
   "cell_type": "code",
   "execution_count": 52,
   "id": "c6872bee",
   "metadata": {},
   "outputs": [
    {
     "name": "stderr",
     "output_type": "stream",
     "text": [
      "/Users/gu.han/Documents/AI.WORK/RAG_Master/langchain_env/lib/python3.11/site-packages/tqdm/auto.py:21: TqdmWarning: IProgress not found. Please update jupyter and ipywidgets. See https://ipywidgets.readthedocs.io/en/stable/user_install.html\n",
      "  from .autonotebook import tqdm as notebook_tqdm\n"
     ]
    },
    {
     "data": {
      "text/plain": [
       "XLMRobertaTokenizerFast(name_or_path='BAAI/bge-m3', vocab_size=250002, model_max_length=8192, is_fast=True, padding_side='right', truncation_side='right', special_tokens={'bos_token': '<s>', 'eos_token': '</s>', 'unk_token': '<unk>', 'sep_token': '</s>', 'pad_token': '<pad>', 'cls_token': '<s>', 'mask_token': '<mask>'}, clean_up_tokenization_spaces=True),  added_tokens_decoder={\n",
       "\t0: AddedToken(\"<s>\", rstrip=False, lstrip=False, single_word=False, normalized=False, special=True),\n",
       "\t1: AddedToken(\"<pad>\", rstrip=False, lstrip=False, single_word=False, normalized=False, special=True),\n",
       "\t2: AddedToken(\"</s>\", rstrip=False, lstrip=False, single_word=False, normalized=False, special=True),\n",
       "\t3: AddedToken(\"<unk>\", rstrip=False, lstrip=False, single_word=False, normalized=False, special=True),\n",
       "\t250001: AddedToken(\"<mask>\", rstrip=False, lstrip=True, single_word=False, normalized=False, special=True),\n",
       "}"
      ]
     },
     "execution_count": 52,
     "metadata": {},
     "output_type": "execute_result"
    }
   ],
   "source": [
    "from transformers import AutoTokenizer\n",
    "tokenizer = AutoTokenizer.from_pretrained(\"BAAI/bge-m3\")\n",
    "\n",
    "tokenizer"
   ]
  },
  {
   "cell_type": "code",
   "execution_count": 53,
   "id": "1477bfbc",
   "metadata": {},
   "outputs": [
    {
     "name": "stdout",
     "output_type": "stream",
     "text": [
      "[0, 107687, 5, 20451, 54272, 16367, 5, 2]\n"
     ]
    }
   ],
   "source": [
    "# 토크나이저 인코딩\n",
    "tokens = tokenizer.encode(\"안녕하세요. 반갑습니다.\")\n",
    "print(tokens)"
   ]
  },
  {
   "cell_type": "code",
   "execution_count": 54,
   "id": "c07cafbc",
   "metadata": {},
   "outputs": [
    {
     "name": "stdout",
     "output_type": "stream",
     "text": [
      "['<s>', '▁안녕하세요', '.', '▁반', '갑', '습니다', '.', '</s>']\n"
     ]
    }
   ],
   "source": [
    "# 토큰을 출력\n",
    "print(tokenizer.convert_ids_to_tokens(tokens)) "
   ]
  },
  {
   "cell_type": "code",
   "execution_count": 55,
   "id": "fdcf6a3a",
   "metadata": {},
   "outputs": [
    {
     "name": "stdout",
     "output_type": "stream",
     "text": [
      "<s> 안녕하세요. 반갑습니다.</s>\n"
     ]
    }
   ],
   "source": [
    "# 디코딩\n",
    "print(tokenizer.decode(tokens))"
   ]
  },
  {
   "cell_type": "code",
   "execution_count": 56,
   "id": "311dec97",
   "metadata": {},
   "outputs": [
    {
     "name": "stdout",
     "output_type": "stream",
     "text": [
      "생성된 청크 수: 3\n",
      "각 청크의 길이: [749, 1094, 1008]\n",
      "\n",
      "204\n",
      "[0, 123089, 71, 27798, 99, 179236, 83, 62952, 4, 1815]\n",
      "['<s>', '▁Provide', 'd', '▁proper', '▁at', 'tribution', '▁is', '▁provided', ',', '▁Google']\n",
      "==================================================\n",
      "\n",
      "248\n",
      "[0, 51339, 214, 115774, 2843, 37067, 70, 22, 587, 820]\n",
      "['<s>', '▁perform', 'ing', '▁models', '▁also', '▁connect', '▁the', '▁en', 'co', 'der']\n",
      "==================================================\n",
      "\n",
      "232\n",
      "[0, 70, 71834, 47, 151575, 13, 903, 6528, 5, 62]\n",
      "['<s>', '▁the', '▁effort', '▁to', '▁evaluat', 'e', '▁this', '▁idea', '.', '▁A']\n",
      "==================================================\n",
      "\n"
     ]
    }
   ],
   "source": [
    "from langchain_text_splitters import RecursiveCharacterTextSplitter\n",
    "\n",
    "text_splitter = RecursiveCharacterTextSplitter.from_huggingface_tokenizer(\n",
    "    tokenizer=tokenizer,\n",
    "    chunk_size=300, \n",
    "    chunk_overlap=0,\n",
    ")\n",
    "\n",
    "chunks = text_splitter.split_documents(pdf_docs[:1])\n",
    "\n",
    "print(f\"생성된 청크 수: {len(chunks)}\")\n",
    "print(f\"각 청크의 길이: {list(len(chunk.page_content) for chunk in chunks)}\")\n",
    "print()\n",
    "\n",
    "for chunk in chunks[:5]:\n",
    "\n",
    "    # 각 청크를 토큰화\n",
    "    tokens = tokenizer.encode(chunk.page_content)\n",
    "    # 각 청크의 단어 수 확인\n",
    "    print(len(tokens))\n",
    "    # 각 청크의 토큰화 결과 확인 (첫 10개 토큰만 출력)\n",
    "    print(tokens[:10])\n",
    "    # 토큰 ID를 실제 토큰(문자열)로 변환해서 출력\n",
    "    token_strings = tokenizer.convert_ids_to_tokens(tokens[:10]) \n",
    "    print(token_strings)\n",
    "\n",
    "    print(\"=\" * 50)\n",
    "    print()"
   ]
  },
  {
   "cell_type": "markdown",
   "id": "2bc751ee",
   "metadata": {},
   "source": [
    "### 3-4 Semantic Chunking"
   ]
  },
  {
   "cell_type": "code",
   "execution_count": 57,
   "id": "043984b2",
   "metadata": {},
   "outputs": [],
   "source": [
    "from langchain_experimental.text_splitter import SemanticChunker\n",
    "from langchain_openai.embeddings import OpenAIEmbeddings\n",
    "\n",
    "# 임베딩 모델을 사용하여 SemanticChunker를 초기화 \n",
    "text_splitter = SemanticChunker(\n",
    "    embeddings=OpenAIEmbeddings(),         # OpenAI 임베딩 사용\n",
    "    breakpoint_threshold_type=\"gradient\",  # 기준점 타입 설정 (gradient, percentile, standard_deviation, interquartile)\n",
    "    )"
   ]
  },
  {
   "cell_type": "code",
   "execution_count": 40,
   "id": "e067dc67",
   "metadata": {},
   "outputs": [
    {
     "name": "stdout",
     "output_type": "stream",
     "text": [
      "생성된 청크 수: 2\n",
      "각 청크의 길이: [1736, 1116]\n",
      "\n",
      "424\n",
      "Provided proper attribution is provided, Google hereby grants permission to\n",
      "reproduce the tables and\n",
      "==================================================\n",
      "\n",
      "237\n",
      "∗Equal contribution. Listing order is random. Jakob proposed replacing RNNs with self-attention and \n",
      "==================================================\n",
      "\n"
     ]
    }
   ],
   "source": [
    "chunks = text_splitter.split_documents(pdf_docs[:1])\n",
    "\n",
    "print(f\"생성된 청크 수: {len(chunks)}\")\n",
    "print(f\"각 청크의 길이: {list(len(chunk.page_content) for chunk in chunks)}\")\n",
    "print()\n",
    "\n",
    "\n",
    "tokenizer = tiktoken.get_encoding(\"cl100k_base\")\n",
    "\n",
    "\n",
    "for chunk in chunks[:5]:\n",
    "\n",
    "    # 각 청크를 토큰화\n",
    "\n",
    "    tokens = tokenizer.encode(chunk.page_content)\n",
    "    # 각 청크의 단어 수 확인\n",
    "    print(len(tokens))\n",
    "    # 각 청크의 내용을 확인\n",
    "    print(chunk.page_content[:100])\n",
    "\n",
    "    print(\"=\" * 50)\n",
    "    print()"
   ]
  },
  {
   "cell_type": "markdown",
   "id": "6dc16413",
   "metadata": {},
   "source": [
    "## 4. 문서 임베딩(Embedding) 모델"
   ]
  },
  {
   "cell_type": "markdown",
   "id": "315e28ef",
   "metadata": {},
   "source": [
    "### 4-1 OpenAI "
   ]
  },
  {
   "cell_type": "markdown",
   "id": "d905110a",
   "metadata": {},
   "source": [
    "`(1) embedding 모델`"
   ]
  },
  {
   "cell_type": "code",
   "execution_count": 58,
   "id": "617a2cfb",
   "metadata": {},
   "outputs": [
    {
     "data": {
      "text/plain": [
       "OpenAIEmbeddings(client=<openai.resources.embeddings.Embeddings object at 0x169797250>, async_client=<openai.resources.embeddings.AsyncEmbeddings object at 0x169797ed0>, model='text-embedding-3-small', dimensions=None, deployment='text-embedding-ada-002', openai_api_version='', openai_api_base=None, openai_api_type='', openai_proxy='', embedding_ctx_length=8191, openai_api_key=SecretStr('**********'), openai_organization=None, allowed_special=None, disallowed_special=None, chunk_size=1000, max_retries=2, request_timeout=None, headers=None, tiktoken_enabled=True, tiktoken_model_name=None, show_progress_bar=False, model_kwargs={}, skip_empty=False, default_headers=None, default_query=None, retry_min_seconds=4, retry_max_seconds=20, http_client=None, http_async_client=None, check_embedding_ctx_length=True)"
      ]
     },
     "execution_count": 58,
     "metadata": {},
     "output_type": "execute_result"
    }
   ],
   "source": [
    "from langchain_openai import OpenAIEmbeddings\n",
    "\n",
    "# OpenAIEmbeddings 모델 생성\n",
    "embeddings_model = OpenAIEmbeddings(model=\"text-embedding-3-small\")\n",
    "\n",
    "# 임베딩 객체 출력\n",
    "embeddings_model"
   ]
  },
  {
   "cell_type": "code",
   "execution_count": 59,
   "id": "9f3123b5",
   "metadata": {},
   "outputs": [
    {
     "data": {
      "text/plain": [
       "8191"
      ]
     },
     "execution_count": 59,
     "metadata": {},
     "output_type": "execute_result"
    }
   ],
   "source": [
    "# 임베딩 모델의 컨텍스트 길이 확인\n",
    "embeddings_model.embedding_ctx_length"
   ]
  },
  {
   "cell_type": "markdown",
   "id": "8ac45eaf",
   "metadata": {},
   "source": [
    "`(2) embed_documents 사용`"
   ]
  },
  {
   "cell_type": "code",
   "execution_count": 60,
   "id": "adb43129",
   "metadata": {},
   "outputs": [
    {
     "name": "stdout",
     "output_type": "stream",
     "text": [
      "임베딩 벡터의 개수: 5\n",
      "임베딩 벡터의 차원: 1536\n",
      "[-0.0022905757650732994, 0.012087209150195122, -0.002460706979036331, 0.0150526762008667, 0.018495863303542137, -0.045644763857126236, -0.0031232049223035574, 0.04701482504606247, -0.01824348233640194, -0.031872015446424484, 0.006908908020704985, 0.007035098038613796, -0.01865810714662075, -0.02707679010927677, 0.004961974918842316, -0.015575463883578777, -0.041678786277770996, 0.01007718127220869, 0.05159372463822365, -0.045825034379959106, -0.0146019970998168, -0.02781590446829796, -0.01878429763019085, -0.022678162902593613, 0.004382852464914322, -0.03973185271024704, 0.05029577016830444, 0.017675627022981644, 0.0003442060260567814, -0.023309113457798958, 0.0488896518945694, -0.015269001945853233, -0.029943108558654785, -0.06168893352150917, 0.020496876910328865, 0.035369280725717545, 0.002609431045129895, -0.006854826584458351, -0.005079151596873999, 0.02473326027393341, 0.007575912866741419, 0.027545496821403503, -0.0025688698515295982, 0.025977132841944695, -0.017955048009753227, 0.005475748796015978, -0.02583291567862034, 0.0036752866581082344, 0.007521831430494785, 0.05674948915839195, -0.024931559339165688, 0.029997190460562706, 0.00800405815243721, -0.034882549196481705, -0.0020224216859787703, 0.09539971500635147, 0.013745707459747791, 0.029240049421787262, 0.003842037869617343, 0.030249569565057755, 0.015205906704068184, 0.0150526762008667, 0.003627965459600091, 0.020965583622455597, -0.051846105605363846, -0.0244448259472847, 0.03641485795378685, 0.026139378547668457, -0.01992000825703144, -0.029149912297725677, 0.008954990655183792, -0.01968565583229065, -0.04506789147853851, 0.02125401794910431, -0.0006315138307400048, -0.012393670156598091, -0.06496987491846085, 0.02545434609055519, 0.012790268287062645, 0.024354688823223114, -0.0042228614911437035, 0.000484761520056054, 0.04795223847031593, -0.059922270476818085, -0.009256944991648197, -0.022894490510225296, -0.0010906429961323738, -0.057759013026952744, -0.05321616679430008, -0.0046374863013625145, -0.030483921989798546, 0.04899781197309494, 0.0044234138913452625, 0.004134979099035263, -0.05303589627146721, 0.03234072029590607, 0.06103995442390442, -0.05217059329152107, 0.0037203545216470957, 0.027851957827806473, -0.05166583135724068, -0.005683061201125383, 0.031872015446424484, 0.05476650223135948, 0.001870317617431283, -0.021578507497906685, -0.007174808531999588, 0.01981184631586075, -0.021704697981476784, 0.008202356286346912, -0.010230411775410175, -0.004984509199857712, -0.07564195245504379, 0.040669266134500504, -0.0579032301902771, -0.019469330087304115, 0.028573043644428253, -0.023309113457798958, -0.023435303941369057, -0.00734155997633934, -0.02352544106543064, 0.029582565650343895, 0.034467924386262894, -0.004497775807976723, -0.018018143251538277, -0.024823395535349846, 0.014890431426465511, -0.03266520798206329, -0.0250938031822443, -0.004315250553190708, -0.004777196794748306, -0.026644138619303703, -0.01209622249007225, 0.028014201670885086, 0.04182300344109535, -0.016512876376509666, 0.0053270249627530575, 0.0252199936658144, -0.0014049916062504053, -0.05328827723860741, 0.019216949120163918, -0.019523411989212036, 0.017783790826797485, 0.012772240675985813, -0.029023723676800728, -0.0524950809776783, -0.012952512130141258, 0.018027156591415405, 0.039876073598861694, 0.04164273291826248, -0.04694271832704544, -0.018820352852344513, -0.07063040137290955, -0.03922709450125694, -0.05051209405064583, 0.02413836307823658, 0.0004827897937502712, 0.03282745182514191, -0.011780747212469578, -0.02864515222609043, 0.008265451528131962, -0.008143768645823002, -0.03329616039991379, 0.009969018399715424, -0.02612135000526905, 0.04056110233068466, -0.02233564853668213, 0.04687060788273811, -0.01871218904852867, 0.002377331256866455, -0.027906039729714394, -0.01038364227861166, -0.024462852627038956, -0.02130809985101223, 0.0058272783644497395, 0.01462903805077076, 0.021326126530766487, 0.01576474867761135, -0.04892570525407791, -0.026211487129330635, -0.030970655381679535, -0.018748244270682335, -0.00028927953098900616, 0.027004681527614594, -0.008260944858193398, -0.024877477437257767, 0.01668413355946541, -0.047699857503175735, -0.029149912297725677, 0.019361166283488274, 0.036504995077848434, 0.026157405227422714, 0.01919892244040966, 0.04362571984529495, 0.008287985809147358, -0.02653597481548786, -0.0012269733706489205, -0.05375698208808899, -0.0108072804287076, -0.003283195896074176, 0.028987668454647064, -0.040416885167360306, -0.025382237508893013, -0.013944006524980068, 0.012249452993273735, 0.006570898927748203, 0.04182300344109535, 0.006854826584458351, -0.031619634479284286, -0.026896517723798752, -0.018748244270682335, -0.025472372770309448, 0.07319025695323944, 0.0006117966258898377, -0.0340893529355526, -0.06031886860728264, 0.020244497805833817, 0.0076209804974496365, -0.01414230465888977, 0.030141407623887062, -0.006548364646732807, -0.008148275315761566, 0.013024620711803436, -0.005299984011799097, 0.005128726363182068, -0.0026229512877762318, 0.021650616079568863, -0.036270640790462494, 0.025905024260282516, -0.034215543419122696, -0.023561494424939156, 0.029780862852931023, 0.002848290838301182, -0.008351080119609833, 0.0023593041114509106, -0.01326798740774393, -0.011789760552346706, -0.022660136222839355, 0.011564421467483044, 0.005759676918387413, 0.00839164201170206, -0.0003154752484988421, -0.00520534161478281, -0.020010145381093025, -0.008734157308936119, -0.005899387411773205, -0.00046025586198084056, 0.027311142534017563, -0.004011042416095734, -0.011816801503300667, 0.0179460346698761, -0.028789369389414787, 0.0235434677451849, -0.021163882687687874, 0.011330068111419678, 0.004646499641239643, 0.03008732572197914, -0.02684243768453598, 0.005408147349953651, -0.001976227154955268, -0.01450284756720066, 0.013520367443561554, -0.02612135000526905, -0.032286640256643295, 0.013150811195373535, 0.007269450929015875, -0.002967720851302147, 0.027058763429522514, -0.03893866017460823, -0.026157405227422714, -0.013231933116912842, 0.040416885167360306, 0.014620024710893631, -0.025436319410800934, -0.04070531949400902, 0.012483806349337101, -0.03690158948302269, 0.021740751340985298, -0.022515919059515, 0.050476040691137314, -0.05231481045484543, 0.02990705333650112, 0.04575292393565178, -0.003510788781568408, -0.0017001862870529294, -1.3476355888997205e-05, -0.03664921224117279, -0.020929530262947083, -0.0121593177318573, -0.06284266710281372, 0.0625181794166565, 0.002154245274141431, -0.01589093916118145, 0.043193068355321884, 0.029762836173176765, -0.017801817506551743, -0.011429217644035816, 0.04687060788273811, -0.005263929720968008, 0.006534844636917114, 0.023759793490171432, -0.058299824595451355, -0.017729708924889565, -0.020478850230574608, 0.004853812046349049, 0.023922037333250046, -0.04943046346306801, 0.016107264906167984, -0.002154245274141431, -0.03702777996659279, -0.015548422932624817, 0.007282971404492855, 0.07448821514844894, 0.009072166867554188, -0.02745535969734192, -0.016287537291646004, -0.017441274598240852, -0.05711003392934799, 0.002897865604609251, -0.017224948853254318, -0.014755228534340858, 0.03814546391367912, 0.012348602525889874, -0.02792406640946865, -0.03057405911386013, 0.012790268287062645, -0.0008653035620227456, 0.019289057701826096, -0.01462903805077076, -0.047339316457509995, 0.07167597860097885, 0.061544716358184814, -0.030483921989798546, 0.0049124001525342464, -0.008139261044561863, -0.034395817667245865, -0.026806382462382317, 0.014187372289597988, -0.050836581736803055, -0.035910096019506454, -0.0563528947532177, 0.02148837223649025, -0.04802434518933296, 0.0501876063644886, 0.010338574647903442, 0.0001730888761812821, -0.0020449557341635227, 0.007760690990835428, 0.019649600610136986, -0.0005903894198127091, 0.01878429763019085, -0.01132105477154255, -0.017486343160271645, -0.02035265974700451, -0.03690158948302269, -0.006561885122209787, -0.0470869354903698, -0.008716130629181862, -0.024300608783960342, -0.04027266800403595, -0.048384889960289, -0.0012573942076414824, 0.03792914003133774, 0.042580146342515945, 0.03976790979504585, 0.010068167001008987, 0.0025080281775444746, -0.02673427388072014, -0.007017070893198252, 0.001536815194413066, -0.03226860985159874, -0.0004580024688038975, 0.011979046277701855, -0.0715317577123642, -0.00930201355367899, -0.029889026656746864, -0.01836967281997204, 0.027058763429522514, -0.045716870576143265, 0.016170360147953033, 0.02635570429265499, 0.05501888319849968, 0.007373107131570578, -0.022515919059515, -0.032286640256643295, 0.005336038302630186, -0.011077688075602055, -0.012628023512661457, -0.06864741444587708, 0.032286640256643295, 0.0292039941996336, -0.031998202204704285, -0.02931215800344944, 0.003814997151494026, -0.012294521555304527, -0.02738325111567974, -0.01878429763019085, -0.05537942796945572, -0.039587635546922684, 0.024534961208701134, -0.0315294973552227, -0.031042763963341713, -0.024390744045376778, 0.02197510376572609, 0.014547916129231453, -0.040236614644527435, 0.05620867758989334, 0.0597059428691864, 0.009707624092698097, 0.03450397774577141, 0.00418230053037405, -0.06259028613567352, 0.03850600868463516, -0.00040307597373612225, -0.035189010202884674, -0.049142029136419296, -0.01986592635512352, 0.03329616039991379, 0.020785313099622726, 0.0006917921709828079, 0.01950538344681263, 0.02732917107641697, 0.03991212695837021, -0.03459411486983299, 0.007147768046706915, 0.020442796871066093, 0.03738832473754883, 0.005345052108168602, 0.05285562574863434, -0.012249452993273735, -0.0047456491738557816, 0.006778211332857609, -0.023309113457798958, -0.0033215037547051907, -0.05177399516105652, -0.0007340433076024055, 0.02323700487613678, 0.015584477223455906, -0.009698610752820969, 0.024516934528946877, 0.0031975670717656612, -0.02118190936744213, 0.0061968350782990456, -0.02148837223649025, -0.014052169397473335, 0.03846995532512665, -0.02925807610154152, -0.02498563937842846, -0.01092445757240057, -0.05357671156525612, 0.029023723676800728, -0.06525830924510956, 0.03106079250574112, 0.038902606815099716, -0.015566450543701649, -0.04935835674405098, 0.021199936047196388, -0.03454003483057022, 0.011357109062373638, 0.02485944889485836, -0.000714889436494559, 0.016648080199956894, -0.026031214743852615, -0.008233903907239437, -0.005660527385771275, 0.038433898240327835, 0.046365849673748016, 0.006823278963565826, -0.051485560834407806, 0.03846995532512665, -0.011248946189880371, -0.03569377213716507, 0.01799110323190689, -0.023092787712812424, 0.015070703811943531, -0.00013104898971505463, -0.0044842553324997425, -0.013051661662757397, -0.04485156759619713, -0.007179315201938152, 0.00860346108675003, -0.00249000103212893, 0.010744186118245125, 0.011266972869634628, 0.035910096019506454, 0.04229171201586723, -0.06731340289115906, 0.005921921227127314, 0.0599583238363266, -0.004718608222901821, 0.012393670156598091, -0.03266520798206329, 0.07939159870147705, 0.0025418291334062815, 0.02961861900985241, 0.04899781197309494, -0.012195372022688389, 0.006444708909839392, 0.010735171847045422, 0.013195878826081753, 0.023489385843276978, -0.029744809493422508, -0.010230411775410175, 0.027761822566390038, 0.005525323562324047, -0.0004667343746405095, -0.052278757095336914, 0.02202918566763401, -0.0043062372133135796, -0.019721709191799164, 0.03207031264901161, 0.04304885119199753, -0.0036843002308160067, 0.009743678383529186, -0.009779732674360275, 0.006593432743102312, -0.009338067844510078, 0.007972510531544685, 0.027184953913092613, -0.027221007272601128, -0.009311026893556118, -0.02226353995501995, -0.02900569513440132, 0.0022883221972733736, -0.00012971102842129767, -0.05418963357806206, -0.009563406929373741, -0.016584984958171844, 0.00953636597841978, -0.017179880291223526, 0.016206413507461548, -0.017179880291223526, 0.015548422932624817, -0.039154984056949615, -0.018027156591415405, 0.01294349879026413, 0.010140275582671165, 0.015169852413237095, -0.04189511388540268, -0.010563913732767105, 0.01637767255306244, -0.014809309504926205, 0.009338067844510078, 0.02503972128033638, -0.007246917113661766, 0.04705088213086128, -0.011068674735724926, -0.03713594377040863, 0.0038690785877406597, 0.029041750356554985, 0.02046082355082035, 0.00031519358162768185, 0.03695567324757576, -0.022948570549488068, 0.011158809997141361, -0.004641992971301079, 0.0065032970160245895, -0.025923052802681923, -0.0026274581905454397, -0.026950599625706673, 0.008558392524719238, -0.020803339779376984, -0.04214749485254288, -0.004204834345728159, 0.00840065535157919, 0.010491805151104927, 0.028500935062766075, -0.016404712572693825, 0.021866941824555397, 0.02949242852628231, -0.04550054296851158, 0.029780862852931023, -0.016359645873308182, 0.06248212605714798, -0.009833814576268196, -0.04207538440823555, 0.010041126981377602, -0.02732917107641697, -0.012114250101149082, 0.02455298788845539, 0.020496876910328865, 0.01544026006013155, 0.0320342592895031, 0.013141797855496407, 0.04081348329782486, 2.7392828997108154e-05, 0.002771675353869796, 0.020550958812236786, 0.03266520798206329, -0.02931215800344944, 0.03417949005961418, 0.018549945205450058, -0.013880911283195019, -0.02727508917450905, -0.02570672705769539, -0.01571066677570343, 0.007666048593819141, 0.01626049540936947, 0.01380880270153284, 0.02437271736562252, -0.004880852997303009, 0.012862376868724823, 0.020478850230574608, 0.005263929720968008, -0.024877477437257767, -0.03167371451854706, -0.015800803899765015, 0.03618050366640091, 0.007458736188709736, -0.010428710840642452, -0.01342121884226799, 0.008333053439855576, 0.008067152462899685, -0.023218978196382523, -0.005782210733741522, -0.011104729026556015, 0.0005348995327949524, 8.316434832522646e-05, 0.026103323325514793, -0.015007608570158482, 0.008783732540905476, -0.006449215579777956, 0.033674728125333786, -0.016143320128321648, 0.004324264358729124, -0.0310067106038332, 0.001276548020541668, -0.009383135475218296, -0.020857421681284904, 0.0017238468863070011, 0.007652528118342161, 0.07322631031274796, -0.013646557927131653, 0.036018259823322296, -0.009482285007834435, -0.06597939878702164, -0.011266972869634628, -0.0063230255618691444, 0.012483806349337101, -0.009374122135341167, -0.022606054320931435, 0.004563124384731054, 0.009482285007834435, -0.031042763963341713, 0.02936623990535736, -0.008806265890598297, 0.00109514978248626, -0.028699234127998352, 0.009013578295707703, 0.00686383992433548, 0.0033936123363673687, -0.025382237508893013, -0.033386293798685074, 0.012591969221830368, -0.004549603909254074, -0.01680131070315838, -0.003623458556830883, -0.03051997721195221, 0.02395809255540371, 0.0016246975865215063, 0.009914936497807503, -0.013889924623072147, 0.02040674164891243, -0.015395192429423332, -0.006647514179348946, 0.04647400975227356, 0.019487356767058372, 0.03646893799304962, -0.007012564223259687, -0.011699625290930271, -0.02851896360516548, 0.01937919482588768, 0.011077688075602055, 0.009608474560081959, -0.04034477844834328, 0.03374683856964111, 0.0021350914612412453, 0.017378179356455803, 0.04283252730965614, 0.038073357194662094, -0.015025635249912739, -0.01828855089843273, -0.018144333735108376, -0.043733883649110794, 0.01716185361146927, 0.0042949700728058815, 0.014412712305784225, 0.018856406211853027, 0.019523411989212036, -0.06302294135093689, 0.015845870599150658, 0.02913188561797142, -0.025075776502490044, -0.004651006776839495, -0.06522225588560104, -0.013042648322880268, 0.01865810714662075, -0.0396236926317215, -0.03273731842637062, 0.025436319410800934, -0.024769313633441925, 0.008837813511490822, 0.01212326344102621, -0.02352544106543064, -0.02576080709695816, -0.015755735337734222, 0.045356325805187225, -0.007747170981019735, -0.010870375670492649, -0.003594164503738284, -0.019829872995615005, 0.0005920794210396707, -0.018216442316770554, -0.01044673752039671, 0.03609037026762962, -0.00833756010979414, 0.044563133269548416, -0.022588027641177177, 0.00959946122020483, -0.04286858066916466, -0.026680191978812218, -0.025868970900774002, -0.012465779669582844, -0.012483806349337101, -0.00521886209025979, -0.027058763429522514, -0.03919104114174843, -0.007931949570775032, -0.033855002373456955, -0.0003194187011104077, 0.025256047025322914, -0.010672076605260372, -0.021632589399814606, -0.008598954416811466, 0.05999438092112541, -0.00800405815243721, -0.03875838965177536, -0.004353558644652367, -0.023741766810417175, -0.017558451741933823, 9.950145613402128e-05, -0.018748244270682335, 0.027184953913092613, 0.03491860255599022, -0.017603518441319466, 0.026229513809084892, 0.00017604645108804107, 0.0018556704744696617, 0.013799788430333138, -0.04434680566191673, 0.009923949837684631, -0.0029046256095170975, 0.03194412216544151, -0.025544481351971626, 0.00039941418799571693, -0.009978031739592552, 0.012988566420972347, 0.0051016854122281075, 0.013646557927131653, -0.023128842934966087, 0.024390744045376778, 0.020785313099622726, 0.0016370911616832018, 0.009166809730231762, 0.0016562450909987092, 0.0021519919391721487, 0.0042589157819747925, -0.023687684908509254, -0.0028099832125008106, 0.012555914930999279, 0.02900569513440132, -0.01288040354847908, -0.005660527385771275, 0.001425272086635232, 0.040128450840711594, -0.0016213174676522613, 0.006219369359314442, -0.04791618511080742, -0.005876853130757809, 0.03145739063620567, 0.011582448147237301, -0.02015436254441738, -0.01943327486515045, -0.0015492087695747614, -0.008076166734099388, -0.021199936047196388, 0.026319649070501328, 0.03329616039991379, -0.00957242026925087, -0.024426797404885292, -0.004998029209673405, 0.02130809985101223, -0.04052504897117615, -0.004984509199857712, -0.013412204571068287, 0.01176272053271532, 0.002924906322732568, 0.01209622249007225, 0.002859557745978236, -0.002823503455147147, 0.03821757435798645, 0.00770210288465023, 0.04369783028960228, 0.034522004425525665, 0.05400936305522919, 0.009162303060293198, -0.015305056236684322, 0.04575292393565178, -0.04701482504606247, -0.02918596751987934, 0.032539017498493195, -0.010572928003966808, -0.015196893364191055, 0.04578898102045059, -0.019595520570874214, -0.03257507458329201, -0.008878374472260475, -0.0026184446178376675, -0.0058543193154037, -0.014394684694707394, 0.031565550714731216, 0.00039631579420529306, -0.005683061201125383, -0.010509832762181759, 0.038614172488451004, -0.014863391406834126, -0.018081238493323326, 0.02365162968635559, -0.03131317347288132, 0.00475466251373291, 0.07686779648065567, 0.018910488113760948, 0.03394513577222824, 0.0005909527535550296, 0.03502676635980606, 0.0009621995268389583, -0.017837872728705406, -0.010221398435533047, -0.028122365474700928, 0.03237677365541458, -0.013772748410701752, 0.006507803685963154, 0.002304096007719636, 0.018144333735108376, -0.03504479303956032, -0.0024787341244518757, -0.017711682245135307, 0.016891445964574814, -0.021650616079568863, -0.006255423650145531, -0.031637661159038544, 0.007287478074431419, 0.024895504117012024, -0.009743678383529186, 0.06637599319219589, 0.013277001678943634, 0.018396714702248573, -0.015368151478469372, 0.020857421681284904, -0.007742663845419884, 0.011897923424839973, 0.034107379615306854, 0.03574785217642784, -0.017360152676701546, 0.032178476452827454, -0.01727903075516224, 0.0011424710974097252, 0.022227484732866287, 0.0010213510831817985, 0.015854883939027786, 0.029149912297725677, 0.05170188844203949, -0.014746214263141155, -0.01738719269633293, -0.016332603991031647, -0.024967612698674202, -0.005061124451458454, 0.02197510376572609, -0.010780240409076214, -0.014376658014953136, 0.012664077803492546, -0.08213172852993011, 0.024571014568209648, -0.03482846915721893, 0.01836065948009491, -0.008810773491859436, -0.011915951035916805, 0.025616589933633804, -0.04737536981701851, 0.04207538440823555, -0.003048843005672097, -0.03273731842637062, 0.011393163353204727, -0.012718159705400467, 0.028392773121595383, 0.03980396315455437, -0.018459808081388474, 0.009923949837684631, -0.0033778385259211063, 0.010726158507168293, -0.02010028064250946, -0.027239033952355385, -0.014340603724122047, -0.0370638370513916, -0.018189402297139168, 0.020496876910328865, 0.016296550631523132, 0.013772748410701752, 0.015620531514286995, -0.03657710179686546, 0.013934992253780365, 0.023922037333250046, -0.0004901133361272514, -0.021686669439077377, 0.011591462418437004, -0.054081469774246216, 0.013493327423930168, 0.023795846849679947, -0.07470454275608063, -0.004736635368317366, -0.008991044946014881, -0.009563406929373741, -0.0013847110094502568, 0.004513549618422985, 0.026752300560474396, 0.02792406640946865, -0.04030872508883476, -0.05162977799773216, -0.0317818783223629, 0.021921023726463318, 0.0026815396267920732, -0.010230411775410175, 0.010491805151104927, -0.012402684427797794, -0.0052909706719219685, 0.001353163504973054, -0.011546393856406212, 0.008022084832191467, 0.008594446815550327, -0.06983720511198044, 0.0003354741202201694, -0.030718276277184486, -0.013087715953588486, -0.006724129430949688, -0.032124392688274384, 0.006602446548640728, 0.025562508031725883, 0.006868347059935331, 0.010491805151104927, 0.048060402274131775, 0.007769704796373844, -0.06388824433088303, 0.023164896294474602, -0.002084390027448535, 0.027473388239741325, 0.01828855089843273, 0.058155607432127, 0.00621486222371459, -0.011239932850003242, 0.01077122613787651, 0.0008292492129839957, -0.053108006715774536, 0.005259423051029444, -0.01291645783931017, -0.013439245522022247, -0.011032620444893837, 0.003154752543196082, -0.009491298347711563, 0.006674555130302906, 0.01907273195683956, 0.015350124798715115, -0.019108787178993225, 0.027130872011184692, 0.01378176175057888, 0.009446230717003345, -0.02179483324289322, 0.02473326027393341, -0.03239480033516884, -0.020442796871066093, -0.03652302175760269, 0.05483861267566681, 0.006485269870609045, 0.005547857843339443, -0.01600811630487442, 0.03980396315455437, -0.007138754241168499, 0.02534618228673935, 0.017783790826797485, -0.001030928106047213, -0.014674105681478977, -0.0010675457306206226, -0.03800124675035477, 0.002787449164316058, -0.05242297425866127, 0.043193068355321884, -0.008351080119609833, -0.0008168555796146393, -0.04762775078415871, -0.017053689807653427, 0.0022241005208343267, -0.02552645467221737, 0.0166030116379261, -0.021830886602401733, -0.022588027641177177, 0.008896402083337307, -0.028807397931814194, -0.04557265341281891, -0.00016463865176774561, 0.01655794307589531, 0.028969641774892807, 0.03026759624481201, -0.012835335917770863, 0.0216145608574152, -0.00022984624956734478, 0.03356656804680824, 0.02287646196782589, -0.030862493440508842, 0.013971046544611454, 0.01708974502980709, -0.002771675353869796, 0.009851841256022453, -0.0375685952603817, 0.027888013049960136, -0.04550054296851158, -0.015990087762475014, 0.0035288159269839525, 0.0244448259472847, -0.016864405944943428, 0.003848798107355833, 0.01847783662378788, -0.02311081625521183, 0.004984509199857712, -0.004554110579192638, 0.02275027148425579, -0.015638558194041252, 0.049863118678331375, -0.0226421095430851, -0.02377782016992569, 0.054622285068035126, 0.005439694505184889, -9.358629904454574e-05, 0.021344153210520744, -0.007508310955017805, 0.009761705994606018, -0.007958989590406418, 0.010509832762181759, -0.03311588615179062, -0.014457779936492443, -0.006232889834791422, 0.05649711191654205, 0.02540026418864727, 0.006994537077844143, -0.026644138619303703, 0.030790384858846664, -0.023507412523031235, 0.027851957827806473, -0.043553613126277924, 0.006917921360582113, -0.0007791112293489277, -9.738890366861597e-05, -0.036216557025909424, -0.0020381954964250326, -0.00909019447863102, 0.02071320451796055, -0.010203370824456215, 0.012781254015862942, -0.013953019864857197, 0.024841422215104103, -0.00014259763702284545, -0.007197342347353697, 8.6896528955549e-05, -0.00923891831189394, 0.010149289853870869, -0.03243085741996765, 0.013538395054638386, 0.007602953352034092, -0.05476650223135948, -0.03340432047843933, 0.012348602525889874, 0.009022592566907406, 0.02413836307823658, 0.02064109407365322, 0.021235991269350052, 0.02244381047785282, 0.005660527385771275, 0.029762836173176765, 0.017324097454547882, 0.006751170381903648, 0.005426174495369196, -0.020208442583680153, -0.035603635013103485, -0.008828800171613693, -0.016891445964574814, -0.004110191948711872, -0.0043062372133135796, 0.01909075863659382, -0.017414234578609467, 0.026283595710992813, 0.019397221505641937, -0.018982596695423126, 0.007233396638184786, 0.01963157393038273, -0.026806382462382317, 0.009743678383529186, -0.011041633784770966, -0.017306070774793625, -0.018513889983296394, -0.0414264090359211, 0.00968959741294384, 0.03944341838359833, 0.028663180768489838, 0.026572030037641525, 0.014097237028181553, -0.005182807799428701, -0.03652302175760269, 0.01943327486515045, -0.018405728042125702, 0.009311026893556118, -0.005507296416908503, 0.02287646196782589, -0.009518339298665524, -0.0029947615694254637, -0.04539238288998604, 0.029402293264865875, 0.016891445964574814, -0.0023638110142201185, -0.010933470912277699, 0.009969018399715424, 0.0034995218738913536, 0.010554900392889977, -0.03279139846563339, 0.013989074155688286, 0.0092659592628479, -0.010302520357072353, 0.02498563937842846, -0.03306180611252785, -0.011068674735724926, 0.0008816406480036676, -0.012961526401340961, 0.02154245227575302, -0.005665034055709839, 0.0170446764677763, -0.014583970420062542, 0.0009886769112199545, -0.018549945205450058, 0.0006732016336172819, -0.03533322736620903, -0.008954990655183792, 0.02673427388072014, -0.0022939557675272226, 0.008080673404037952, -0.005921921227127314, -0.016648080199956894, -0.012628023512661457, 0.010104221291840076, -0.030501950532197952, -0.004430173896253109, 0.0232910867780447, -0.003929920494556427, 0.05112501606345177, 0.016287537291646004, -0.03417949005961418, -0.027130872011184692, 0.029582565650343895, -0.04362571984529495, 0.005610952619463205, 0.01134809572249651, -0.024895504117012024, 0.02637373097240925, -0.01914484053850174, -0.0159540344029665, -0.0061247264966368675, 0.005579404998570681, 0.006719622761011124, 0.015151825733482838, -0.004651006776839495, 0.0027942094020545483, -0.0014207653002813458, -0.005142246372997761, -0.006097686011344194, 0.011510339565575123, 0.061003901064395905, 0.0079139219596982, -0.05328827723860741, -0.028807397931814194, -0.01164554338902235, 0.031168954446911812, 0.017792804166674614, 0.017116785049438477, -0.024462852627038956, -0.04485156759619713, -0.009419189766049385, -0.034936629235744476, -0.006471749395132065, -0.05015155300498009, 0.010636022314429283, -0.036811456084251404, -0.020731231197714806, -0.01973973773419857, -0.013051661662757397, -0.015314070507884026, -0.0033079832792282104, 0.011275987140834332, -0.03872233256697655, 0.04492367431521416, 0.004421160090714693, -0.013934992253780365, 0.0055523645132780075, 0.003959214314818382, -0.020028172060847282, 0.021109800785779953, -0.04723115265369415, -0.03646893799304962, -0.06853925436735153, -0.02372373826801777, -0.011357109062373638, -0.019307086244225502, -0.010149289853870869, -0.004004282411187887, 0.019721709191799164, -0.012402684427797794, 0.02725706249475479, 0.02462509647011757, -0.0012742946855723858, 0.01011323556303978, 0.0032786892261356115, -0.03098868392407894, -0.034702278673648834, 0.05451412498950958, 0.05786717310547829, -0.017549438402056694, -0.006295984610915184, 0.02990705333650112, -0.00013464032963383943, -0.013871897011995316, 0.006043604575097561, 0.00028618110809475183, -0.0033868520986288786, -0.03282745182514191, -0.019595520570874214, -0.01631457731127739, 0.026229513809084892, -0.002861811313778162, -0.019487356767058372, -0.024336662143468857, -0.006944962311536074, 0.006512310355901718, -0.023507412523031235, 0.0021012905053794384, -0.0044121467508375645, -0.03556758165359497, 0.029384266585111618, -0.01429553609341383, 0.009374122135341167, 0.001643851399421692, 0.008265451528131962, -0.012772240675985813, -0.018513889983296394, 0.04503183811903, 0.004114698618650436, -0.010455750860273838, -0.025616589933633804, 0.01836967281997204, 0.02154245227575302, 0.025075776502490044, -0.016639066860079765, -0.008684583008289337, 0.018333619460463524, -0.036378804594278336, 0.027239033952355385, -0.0019818604923784733, 0.0005768690025433898, -0.035062819719314575, -0.0015954034170135856, -0.020496876910328865, 0.02215537615120411, -0.013340095989406109, -0.00023519806563854218, -0.030303651466965675, 0.0015999102033674717, -0.00830150581896305, 0.017891952767968178, 0.007909415289759636, 0.02707679010927677, -0.004608192015439272, -0.0012562675401568413, -0.03998423367738724, 0.0234172772616148, -0.009139768779277802, 0.03261112794280052, -0.04074137657880783, 0.016575971618294716, -0.01873021572828293, 0.007485777139663696, 0.001648358185775578, -0.022227484732866287, 0.0011864122934639454, -0.017819844186306, 0.007742663845419884, 0.006755677051842213, 0.036685265600681305, 0.007724636700004339, -0.0028392772655934095, -0.005894880276173353, 0.00806264579296112, -0.02900569513440132, 0.003778942860662937, 0.016702160239219666, 0.020568985491991043, -0.03093460202217102, -0.002607177710160613, 0.0216145608574152, 0.00026139378314837813, -0.01733311079442501, 0.02581488899886608, -0.010933470912277699, -0.03026759624481201, 0.006597939413040876, 0.0011007832363247871, 0.0126099968329072, 0.026644138619303703, 0.009292999282479286, -0.06983720511198044, -0.017071718350052834, 0.017188893631100655, 0.001424145419150591, 0.020749257877469063, 0.004799730610102415, 0.00017618729907553643, 0.013529381714761257, 0.009707624092698097, -0.007629994302988052, -0.02714889869093895, -0.026590056717395782, -0.006746663711965084, -0.0007284097955562174, -0.0007588306325487792, -0.008909922093153, 0.018549945205450058, -0.005038590636104345, -0.006115713156759739, -0.0002895612269639969, 0.03872233256697655, -0.002559856278821826, -0.026463866233825684, 0.04290463402867317, 0.0029068791773170233, -0.012024113908410072, 0.011816801503300667, -0.01752239651978016, -0.03306180611252785, 0.0053991335444152355, 0.014160332269966602, 0.04701482504606247, 0.0002498451212886721, -0.023381222039461136, 0.04124613478779793, -0.02527407370507717, 0.0039727347902953625, 0.0014196386327967048, -0.02040674164891243, -0.028446853160858154, -0.04074137657880783, -0.013934992253780365, 0.001754267723299563, -0.023453330621123314, -0.005439694505184889, 0.002019041683524847, 0.025850944221019745, 0.001013464294373989, -0.0028663179837167263, 0.019595520570874214, -0.0023615576792508364, -0.025923052802681923, 0.031024737283587456, 0.01336713694036007, -0.01450284756720066, 0.0033440375700592995, 0.04200327768921852, -0.0003870205255225301, -0.016584984958171844, -0.02010028064250946, 0.01788293942809105, -0.011104729026556015, 0.03257507458329201, 0.029582565650343895, 0.04045294225215912, -0.036504995077848434, 0.04351755604147911, -0.0006596812745556235, -0.021830886602401733, 0.05361276492476463, 0.003627965459600091, -0.01973973773419857, -0.038794443011283875, 0.031096845865249634, 0.0034972685389220715, 0.005565884988754988, 0.047519586980342865, -0.01763957366347313, 0.019343139603734016, 0.020478850230574608, -0.044454969465732574, -0.012447752058506012, 0.034395817667245865, -0.0019548197742551565, 0.022732244804501534, -0.008896402083337307, 0.02305673435330391, 0.02424652688205242, 0.004110191948711872, 0.004436933901160955, 0.016053183004260063, -0.029348211362957954, 0.036811456084251404, -0.012555914930999279, -0.03194412216544151, 0.012628023512661457, 0.00043659520451910794, -0.021776806563138962, -0.014971554279327393, 0.013898937962949276, 0.03901076689362526, -0.005421667359769344, 0.030610112473368645, -0.009698610752820969, -0.017414234578609467, 0.004123712424188852, 0.010978538542985916, -0.01847783662378788, 0.005466735456138849, 0.035116903483867645, -0.013168837875127792, -0.0031299651600420475, 0.024426797404885292, -0.0064672427251935005, 0.024120336398482323, -0.003965974785387516, 0.002332263393327594, 0.03207031264901161, 0.0062058488838374615, -0.0066925822757184505, -0.025183938443660736, -0.024661151692271233, 0.020334633067250252, 0.04340939596295357, -0.014971554279327393, 0.010663063265383244, 0.007472256664186716, -0.0018951048841699958, -0.01600811630487442, 0.030538003891706467, 0.00963551551103592, 0.010392656549811363, 0.0002751958090811968, 0.004538336768746376, 0.024823395535349846, 0.0030240556225180626, 0.004078644327819347, 0.0005453214980661869, 0.022245511412620544, -0.026698220521211624, 0.024354688823223114, 0.028753316029906273, -0.01636865921318531, 0.009779732674360275, -0.007395641412585974, 0.0018117292784154415, 0.025868970900774002, 0.009554393589496613, -0.007819279097020626, 0.02087544836103916, -0.005295477341860533, 0.030177460983395576, 0.02792406640946865, -0.027311142534017563, 0.031385280191898346, 0.01549434196203947, -0.013376150280237198, -0.02936623990535736, -0.014890431426465511, 0.01937919482588768, 0.005286464001983404, -0.030375760048627853, -0.02280435338616371, 0.008139261044561863, 0.004051603376865387, -0.023038707673549652, -0.016179373487830162, -0.011086701415479183, -0.03160160779953003, 0.005728129297494888, 0.030682221055030823, -0.00019984794198535383, 0.012384656816720963, -0.016467807814478874, 0.0338369756937027, -0.005007043015211821, -0.014872404746711254, 0.015386179089546204, 0.030970655381679535, 0.006007550284266472, -0.009788746014237404, -0.026409786194562912, 0.02172272466123104, 0.009833814576268196, 0.013682612217962742, -0.0004833531565964222, -0.0004070193972438574, 0.004952961578965187, 0.018946541473269463, 0.00035716305137611926, -0.008328546769917011, -0.0396236926317215, -0.005354065913707018, -0.01751338317990303, -0.016179373487830162, 0.007783225271850824, -0.025111829861998558, 0.021506398916244507, -0.012240439653396606, 0.02750944159924984, -0.022191431373357773, -0.0069674961268901825, 0.008242917247116566, -0.024516934528946877, -0.03749648854136467, 0.008630501106381416, -0.0470869354903698, 0.007602953352034092, 0.015521381981670856, 0.03125908970832825, -0.0026544989086687565, -0.003848798107355833, 0.012420711107552052, 0.0002257619780721143]\n"
     ]
    }
   ],
   "source": [
    "# 문서 컬렉션\n",
    "documents = [\n",
    "    \"인공지능은 컴퓨터 과학의 한 분야입니다.\",\n",
    "    \"머신러닝은 인공지능의 하위 분야입니다.\",\n",
    "    \"딥러닝은 머신러닝의 한 종류입니다.\",\n",
    "    \"자연어 처리는 컴퓨터가 인간의 언어를 이해하고 생성하는 기술입니다.\",\n",
    "    \"컴퓨터 비전은 컴퓨터가 디지털 이미지나 비디오를 이해하는 방법을 연구합니다.\"\n",
    "]\n",
    "\n",
    "# 문서 임베딩\n",
    "document_embeddings = embeddings_model.embed_documents(documents)\n",
    "\n",
    "# 임베딩 결과 출력\n",
    "print(f\"임베딩 벡터의 개수: {len(document_embeddings)}\")\n",
    "print(f\"임베딩 벡터의 차원: {len(document_embeddings[0])}\")\n",
    "print(document_embeddings[0])"
   ]
  },
  {
   "cell_type": "markdown",
   "id": "7ef1d8f7",
   "metadata": {},
   "source": [
    "`(3) embed_query 사용`"
   ]
  },
  {
   "cell_type": "code",
   "execution_count": 44,
   "id": "f2da83df",
   "metadata": {},
   "outputs": [
    {
     "name": "stdout",
     "output_type": "stream",
     "text": [
      "쿼리 임베딩 벡터의 차원: 1536\n",
      "[-0.022442810237407684, 0.022195978090167046, 0.0003776662633754313, 0.005681904498487711, 0.01217076275497675, -0.04473372548818588, -0.026259228587150574, 0.03582875058054924, -0.002586999209597707, 0.014762508682906628, -0.0020446786656975746, 0.0008562018047086895, -0.0048796976916491985, -0.07355621457099915, 0.008971428498625755, -0.01542705949395895, -0.05988547205924988, -0.022404836490750313, 0.022480785846710205, -0.06911322474479675, -0.029278185218572617, 0.02320229634642601, -0.036873046308755875, 0.0041249580681324005, 0.011097989045083523, -0.052746303379535675, 0.010756220668554306, 8.507133316015825e-05, -0.010746726766228676, -0.034271806478500366, 0.02527189627289772, -0.01883525215089321, -0.0015961072640493512, -0.05882218852639198, 0.04970835894346237, -0.0034485410433262587, -0.002881299937143922, -0.00852522999048233, -0.004564036149531603, 0.022860528901219368, -0.011971398256719112, 0.038031261414289474, 0.0033488585613667965, 0.03527812287211418, -0.05137922614812851, 0.03438572958111763, -0.02848072536289692, 0.00469931960105896, -0.013604292646050453, 0.03858188912272453, -0.04526536539196968, 0.034499652683734894, -0.007613847032189369, -0.009593257680535316, -0.0030616777949035168, 0.06486010551452637, 0.011468238197267056, 0.03138575702905655, -0.005914497189223766, 0.04727800190448761, -0.0003524489584378898, -0.003676386782899499, 0.016585275530815125, 0.03907555341720581, -0.06235380098223686, -0.02056308276951313, -0.0027317760977894068, 0.035430021584033966, -0.0376325324177742, -0.021208645775914192, 0.041543882340192795, 0.002169281942769885, -0.07218914479017258, -0.005278427619487047, -0.019765622913837433, 0.013993529602885246, -0.02082890272140503, 0.04348057135939598, -0.0008229742525145411, 0.012446076609194279, 0.019594738259911537, 0.009332183748483658, 0.0011730497935786843, -0.044202085584402084, -0.00968819297850132, -0.016870083287358284, -0.020639032125473022, -0.054189324378967285, -0.05236655846238136, -7.987952994881198e-05, -0.018730822950601578, 0.0617082379758358, -0.025328857824206352, 0.03149968013167381, -0.019841572269797325, 0.03934137523174286, 0.07860679924488068, -0.008729342371225357, 0.010946092195808887, 0.023714950308203697, -0.03197436034679413, 0.0038140437100082636, 0.016841601580381393, 0.034214843064546585, 0.024189628660678864, -0.057682961225509644, -0.01708843559026718, 0.028594648465514183, 0.02851869910955429, 0.01059482991695404, 0.021322568878531456, 0.009778382256627083, -0.08437889069318771, 0.0369110181927681, -0.020733967423439026, -0.0020873998291790485, 0.007423975504934788, -0.020069416612386703, -0.012892275117337704, -0.03784139081835747, -0.029202235862612724, -0.011335328221321106, 0.02758832834661007, -0.0022594707552343607, -0.030721208080649376, -0.02933514676988125, -0.002641587285324931, -0.030930066481232643, -0.023999758064746857, -0.010091669857501984, -0.013613786548376083, 0.025461768731474876, -0.030455388128757477, 0.00748093705624342, 0.02261369489133358, -0.07173345237970352, 0.022442810237407684, 0.038373030722141266, -0.012009372003376484, -0.04758179560303688, 0.012721390463411808, -0.0017349508125334978, -0.02377191185951233, -0.002191829029470682, -0.026961753144860268, -0.04192362725734711, -0.0019900905899703503, -0.01542705949395895, -0.0008182274759747088, -0.005496779922395945, -0.057455115020275116, -0.007822705432772636, -0.043062854558229446, -0.029771851375699043, -0.04256919026374817, 0.03580976277589798, -0.01190494280308485, 0.03615153208374977, -0.0007191383047029376, -0.0040703704580664635, -0.034803446382284164, 0.0017586847534403205, -0.007571125868707895, -0.0029691155068576336, -0.05783485993742943, 0.06015129014849663, -0.023695962503552437, 0.003232562215998769, 0.016803627833724022, -0.006028419826179743, -0.05415135249495506, -0.0026890551671385765, -0.018417535349726677, 0.007984096184372902, -0.0007719463319517672, -0.021379530429840088, 0.01847449690103531, 0.0009724980918690562, -0.0068591078743338585, -0.05054379254579544, -0.05077163875102997, -0.03704392910003662, -0.03639836609363556, 0.01847449690103531, -0.03472749516367912, 0.014715041033923626, -0.02639213763177395, -0.012797338888049126, 0.0017005365807563066, 0.01880677230656147, 0.016803627833724022, 0.04340462386608124, 0.034271806478500366, 0.027721239253878593, 0.006075887940824032, -0.020980801433324814, -0.0021609750110656023, -0.010737232863903046, 0.02935413271188736, 0.015721360221505165, 0.04313880577683449, -0.049214690923690796, 0.02320229634642601, -0.004466726910322905, 0.005933484528213739, 0.020961813628673553, 0.05323996767401695, -0.009730914607644081, -0.04169578105211258, -0.005919244140386581, 0.02322128415107727, -0.019594738259911537, 0.07108788937330246, -0.04735395312309265, -0.016908057034015656, -0.01736374758183956, 0.021645350381731987, 0.027512380853295326, -0.03852492570877075, 0.028575660660862923, -0.03349333256483078, 0.0038781254552304745, -0.023278245702385902, 0.003780816216021776, -0.022746605798602104, 0.00882427766919136, 0.011980891227722168, -0.03533508628606796, 0.023107361048460007, -0.03736671060323715, -0.030360452830791473, -0.02322128415107727, 0.005942977964878082, -0.009493574500083923, -0.024854179471731186, -0.0188162662088871, -0.010347996838390827, -0.0011427890276536345, 0.015493514016270638, 0.011221405118703842, 0.013139107264578342, 0.03286675736308098, -0.012218231335282326, 0.0027626303490251303, 0.004647105000913143, 0.011107482947409153, 0.023866847157478333, 0.026752894744277, -0.006365442182868719, -0.01675616018474102, 0.007310052867978811, -0.03742367401719093, 0.03533508628606796, -0.006289493292570114, 0.0032468026038259268, -0.003180347615852952, 0.02502506412565708, 0.029885774478316307, 0.0018108993535861373, 0.02174028567969799, -0.012597973458468914, 0.02382887341082096, -0.024037731811404228, -0.025404807180166245, 0.005036341492086649, 0.002398314420133829, 0.02500607632100582, 0.03117690049111843, -0.007234103977680206, -0.039797067642211914, -0.041543882340192795, 0.010917611420154572, 0.01703147403895855, -0.02109472267329693, -0.021645350381731987, 0.01231316663324833, 0.00471118651330471, 0.0032752833794802427, -0.029202235862612724, 0.03751860931515694, -0.04340462386608124, -0.010822675190865993, 0.04059452563524246, -0.019879546016454697, 0.012559999711811543, 0.00588601641356945, -0.010689765214920044, -0.06299936026334763, -0.056847527623176575, -0.030056657269597054, 0.07465746998786926, -0.002127747517079115, 0.008909719996154308, 0.028708569705486298, 0.027987059205770493, -0.007623340468853712, 0.028119968250393867, 0.04902482032775879, -0.009137566201388836, 0.014012516476213932, 0.08711304515600204, -0.036322418600320816, -0.06725248694419861, -0.04678433761000633, -0.028594648465514183, 0.05969559773802757, -0.045948904007673264, 0.011278366670012474, 0.002909780712798238, -0.02874654531478882, 0.026885803788900375, 0.03442370146512985, 0.037442658096551895, -0.024816203862428665, -0.008473015390336514, -0.02969590201973915, 0.0061803171411156654, -0.01936689205467701, 0.043594494462013245, 0.003403446637094021, -0.0018844746518880129, -0.007414482068270445, -0.004447740036994219, -0.018284624442458153, -0.03755658119916916, -0.00909959152340889, 0.010215086862444878, -0.002356779994443059, -0.02580353617668152, -0.0164523646235466, 0.039493270218372345, 0.043898291885852814, -0.02876553125679493, -0.011942917481064796, -0.013215056620538235, -0.00910908542573452, -0.03140474483370781, 0.014183401130139828, -0.04606282711029053, -0.041581857949495316, -0.04883494973182678, 0.02671491913497448, -0.05840447172522545, 0.0281769298017025, 0.039569221436977386, -0.0075378986075520515, -0.03140474483370781, -0.0006562433554790914, 0.0002463879354763776, 0.031309809535741806, 0.03858188912272453, -0.02698073908686638, -0.007485684007406235, -0.053581736981868744, -0.03379712626338005, 0.0009582577040418983, -0.006569553632289171, 0.0002959325211122632, -0.02113269828259945, -0.031025003641843796, -0.08483458310365677, -0.028025032952427864, 0.030151594430208206, 0.04294893145561218, -0.00010391014075139537, 0.004355177283287048, 0.015768827870488167, -0.0205061212182045, -0.006854360923171043, -0.025670627132058144, -0.006322721019387245, -0.015702372416853905, 0.026202267035841942, -0.04621472209692001, -0.0071818893775343895, -0.002973862225189805, -0.010205592960119247, 0.02641112543642521, -0.01965169981122017, 0.028423763811588287, 0.01734476163983345, 0.0369110181927681, -0.019803596660494804, -0.06394872069358826, -0.021854208782315254, 0.01906309835612774, 0.009208767674863338, -0.03706291690468788, -0.04424005746841431, 0.04879697412252426, 0.03934137523174286, -0.03580976277589798, -0.024759244173765182, -0.010177112184464931, -0.06334113329648972, 0.0023247392382472754, -0.028879454359412193, -0.03286675736308098, -0.01581629551947117, 0.0033702191431075335, -0.014705547131597996, -0.00183463329449296, -0.009237248450517654, -0.03582875058054924, -0.0019022750202566385, -0.04674636200070381, 0.031879425048828125, 0.042455267161130905, -0.0014631971716880798, 0.05878421664237976, 0.04989822953939438, -0.027550354599952698, 0.04469574987888336, -0.0029975962825119495, -0.01291126199066639, -0.035449009388685226, 0.00770878279581666, 0.0012638322077691555, 0.01159165520220995, 0.006446137558668852, 0.0276452898979187, -0.00912332534790039, -0.014344791881740093, -0.05407540127635002, -0.004965139552950859, 0.009204020723700523, 0.030759181827306747, 0.017145397141575813, 0.07272078096866608, -0.04078439623117447, 0.025708600878715515, 0.038297079503536224, -0.023354195058345795, -0.02198711968958378, -0.05115137994289398, 0.011050521396100521, 0.02673390693962574, -0.01349036954343319, 0.018009312450885773, 0.036816082894802094, -0.015113770961761475, -0.025765562430024147, 0.005871776025742292, -0.03089209273457527, -0.05434122309088707, 0.026050370186567307, -0.04401221498847008, 0.004578276537358761, -0.020411185920238495, -0.08088526129722595, -0.009147059172391891, -0.0272845346480608, 0.03463255986571312, 0.05756903812289238, -4.619310402631527e-06, -0.05229061096906662, 0.013851125724613667, -0.01275936421006918, 0.0155599694699049, 0.016613755375146866, -0.03527812287211418, -0.016661223024129868, -0.007400241680443287, 0.04431600868701935, -0.005354376044124365, -0.005036341492086649, 0.007599606644362211, 0.011667603626847267, -0.03436674177646637, -0.0030426906887441874, -0.08004982024431229, -0.048075463622808456, 0.049176719039678574, -0.02525290846824646, 0.012218231335282326, 0.040670473128557205, 0.02117067202925682, -0.029885774478316307, -0.03432876616716385, 0.013727709650993347, 0.013281511142849922, -0.018085259944200516, 0.018379561603069305, 0.0004067403497174382, 0.04526536539196968, 0.036284442991018295, -0.06691071391105652, -0.011933423578739166, 0.04602485150098801, -0.014809977263212204, -0.023126348853111267, -0.029752863571047783, 0.06820183992385864, -0.001331473933532834, 0.05399945378303528, 0.02206306718289852, 0.008605925366282463, -0.042455267161130905, -0.0023128720931708813, 0.0023199922870844603, 0.0027317760977894068, -0.025328857824206352, -0.02618327923119068, 0.04788559302687645, -0.010803688317537308, -0.016271987929940224, 0.003239682409912348, 0.020639032125473022, -0.02029726281762123, -0.025082025676965714, -0.004720679949969053, 0.016499832272529602, 0.007599606644362211, 0.0059050037525594234, 0.004115464631468058, 0.01967068761587143, 0.0007185449358075857, 0.03698696941137314, 0.031879425048828125, -0.014667573384940624, 0.002845698967576027, 0.013737202621996403, -0.012664428912103176, -0.0020838396158069372, -0.0032515493221580982, -0.04139198735356331, -0.037138864398002625, -0.006840120535343885, -0.007542645093053579, -0.02616429328918457, 0.005753106437623501, -0.005254693794995546, 0.00955528300255537, -0.007352773565798998, -0.026582010090351105, 0.008169220760464668, 0.027702251449227333, 0.01847449690103531, -0.01967068761587143, 0.027740225195884705, 0.017183370888233185, 0.012066333554685116, 0.0065220859833061695, -0.005012607667595148, 0.0010508201085031033, 0.008648646995425224, -0.008088525384664536, -0.045075494796037674, -0.01643337868154049, 0.05544247850775719, 0.03972111642360687, 0.008952440693974495, 0.026031382381916046, -0.03755658119916916, 0.035145215690135956, 0.013851125724613667, -0.0033132575917989016, -0.006792652886360884, -0.0013706348836421967, -0.007760997395962477, -0.0030094631947577, -0.014192894101142883, -0.02935413271188736, -0.01968967355787754, -0.007158155553042889, -0.015436552464962006, 0.022974452003836632, -0.02789212390780449, 0.02090485207736492, 0.020126378163695335, -0.05122733116149902, 0.012730884365737438, -0.0005989852361381054, 0.04515144228935242, -0.020942825824022293, -0.0238098856061697, 0.02139851823449135, -0.040062885731458664, 0.0029833558946847916, 0.04670839011669159, 0.004300589207559824, 0.0023472863249480724, -0.004841723013669252, 0.008135993964970112, 0.03662621229887009, 0.004075116943567991, -0.01455365028232336, 0.033056627959012985, 0.020373212173581123, -0.001339780748821795, 0.029278185218572617, -0.0004889190895482898, 0.007053726352751255, -0.04644256830215454, -0.004984126891940832, -0.0007784731569699943, 0.013082146644592285, -0.0008473015623167157, -0.01844601519405842, 0.04017680883407593, 0.007485684007406235, 0.010965079069137573, 0.00984483677893877, 0.006479364819824696, -0.02090485207736492, -0.02109472267329693, -0.003346485085785389, 0.02493012696504593, 0.022480785846710205, -0.037727467715740204, -0.011192924343049526, -0.0024754495825618505, 0.0002729402913246304, -0.02141750417649746, -0.043670445680618286, -0.008904973044991493, -0.0077989716082811356, 0.017790960147976875, 0.046290669590234756, -0.02200610749423504, -0.020714979618787766, -0.013604292646050453, 0.04697420820593834, -0.01070875208824873, -0.012161269783973694, -0.020430173724889755, -0.006792652886360884, -0.0020233180839568377, -0.03385408967733383, -0.00396831426769495, 0.002449342282488942, 0.0686575323343277, -0.0243415255099535, 0.00909009762108326, 0.006939803250133991, -0.049442537128925323, -0.011876462027430534, -0.014734027907252312, 0.028366802260279655, -0.01541756559163332, -0.030683234333992004, 0.015616931021213531, 0.018436523154377937, -0.030018683522939682, 0.01527516171336174, -0.015692878514528275, -0.02906932681798935, -0.012113801203668118, 0.01363277342170477, -0.01481947023421526, -0.012531518936157227, -0.03968314453959465, -0.033037640154361725, -0.007428722456097603, 0.021265607327222824, -0.002800604561343789, -0.004148692358285189, -0.016234012320637703, 0.02821490541100502, -0.018161209300160408, 0.008121753111481667, -0.014933393336832523, 0.017392229288816452, 0.0071106874383986, -0.008506243117153645, 0.033322446048259735, 0.047771669924259186, 0.021664338186383247, 0.031860437244176865, -0.011857475154101849, -0.04837925732135773, -0.014287830330431461, -0.008919213898479939, 0.011715071275830269, -0.016670716926455498, 0.017221344634890556, -0.030930066481232643, 0.005292668007314205, 0.015104277990758419, 0.009968253783881664, -0.0038638850674033165, 0.005895509850233793, -0.02259470894932747, -0.0158732570707798, 0.025423793122172356, 0.036588236689567566, 0.04074642434716225, 0.018949175253510475, -0.0029833558946847916, -0.05908801034092903, 0.001855993876233697, 0.025195946916937828, 0.00242204824462533, 0.003695374121889472, -0.038316067308187485, 0.028385788202285767, 0.0005856349016539752, 0.00542083103209734, -0.03241106495261192, 0.03379712626338005, -0.012607467360794544, 0.03856290131807327, 0.015664398670196533, -0.032714858651161194, -0.008254663087427616, -0.010632803663611412, 0.0240757055580616, -0.011639122851192951, 0.01764855533838272, 0.010063189081847668, -0.025746574625372887, 0.00319458800368011, 0.01070875208824873, -0.014838457107543945, 0.02287951484322548, 0.022499771788716316, 0.03820214420557022, 0.0010976946214213967, -0.006113862153142691, -0.025689613074064255, -0.01350935734808445, -0.006398669444024563, 0.001812086091376841, -0.012265698984265327, 0.0021728419233113527, -0.01967068761587143, -0.05206276476383209, -0.008197701536118984, -0.02293647639453411, -0.023449130356311798, -0.003996795043349266, -0.029544005170464516, -0.022556733340024948, 0.004656598437577486, 0.05578424781560898, -0.018132727593183517, -0.04032870754599571, 0.0016732425428926945, -0.050657715648412704, 0.0038994858041405678, 0.031537655740976334, -0.006716704461723566, 0.03113892488181591, -0.026790868490934372, -0.022993437945842743, 0.017809946089982986, -0.011629628948867321, 0.03282878175377846, 0.02851869910955429, -0.018626393750309944, -0.002127747517079115, 0.00011006613203790039, 0.017971336841583252, 0.0016269613988697529, 0.01117393746972084, 0.021550415083765984, 0.01497136801481247, -0.03134778514504433, 0.025404807180166245, 0.008776810020208359, 0.01497136801481247, -0.0068448674865067005, 0.010376477614045143, 0.02523392252624035, -0.001432343153283, 0.0008289077668450773, 0.015085290186107159, 0.009474587626755238, 0.014496688731014729, 0.02821490541100502, -0.00176224485039711, -0.016347935423254967, 0.022480785846710205, 0.017135903239250183, 0.04002491012215614, 0.0068258801475167274, -0.0055822222493588924, -0.03535407409071922, -0.01349986344575882, 0.02963894046843052, -0.0071818893775343895, -0.0029548751190304756, -0.0038781254552304745, 0.0018999016610905528, -0.0035505970008671284, 0.0027199091855436563, 0.019262462854385376, 0.007865427061915398, -0.005762599874287844, -0.01670869253575802, -0.01044293213635683, 0.02646808698773384, -0.0029453816823661327, -0.026752894744277, -0.005971458740532398, 0.015332123264670372, 0.007651821244508028, 0.020430173724889755, 0.010927104391157627, -0.02141750417649746, 0.02086687833070755, 0.022082054987549782, 0.01648084633052349, 0.048645079135894775, 0.02441747486591339, 0.006778412498533726, -0.017563113942742348, 0.03355029225349426, -0.01972764916718006, -0.03467053547501564, 0.021873196586966515, 0.008283143863081932, -0.024265578016638756, 0.020809916779398918, -0.023980770260095596, -0.023354195058345795, -0.008107513189315796, -0.004227014258503914, -0.008639153093099594, -0.012968223541975021, 0.03987301513552666, -0.0025893724523484707, 0.027816174551844597, -0.006569553632289171, 0.0404806025326252, 0.017828933894634247, -0.029221223667263985, -0.01263594813644886, -0.02671491913497448, 0.003916099667549133, 0.062429748475551605, 0.02230990119278431, 0.028328826650977135, 0.00020796862372662872, 0.026525048539042473, 0.011420770548284054, -0.018854239955544472, -0.02521493472158909, -0.031537655740976334, 0.012863794341683388, -0.02793009765446186, 0.01045242603868246, -0.01381315104663372, 0.05559437349438667, -0.02170231193304062, 0.019243476912379265, -0.009417626075446606, 0.0021882690489292145, 0.024018744006752968, -0.013148601166903973, -0.022499771788716316, -0.004464353434741497, 0.05464501678943634, 0.005966711789369583, 0.03580976277589798, 0.0048749507404863834, 0.012227724306285381, -0.014753015711903572, -0.003037943970412016, -0.026582010090351105, -0.005971458740532398, 0.03653127700090408, 0.03911352902650833, 0.010177112184464931, 0.02147446572780609, -0.007817958481609821, -0.013528344221413136, -0.004908178001642227, -0.010623310692608356, -0.006004686001688242, 0.03205030784010887, 0.03296169266104698, -0.0231833104044199, -0.025917459279298782, 0.024322539567947388, -0.006683476734906435, 0.0006331027834676206, 0.06755627691745758, -0.008881239220499992, -0.020468147471547127, 0.012930248863995075, -0.04663243889808655, 0.0037760694976896048, -0.03318953886628151, -0.036854058504104614, -0.0185504462569952, 0.0051692514680325985, 0.02912628836929798, -0.02029726281762123, 0.025082025676965714, 0.0034295539371669292, -0.015759333968162537, 0.018151715397834778, -0.028063006699085236, 0.020487135276198387, 0.035392045974731445, 0.016585275530815125, 0.026638971641659737, -0.00456640962511301, -0.00690657552331686, -2.801717164402362e-05, -0.03873378410935402, -0.009569523856043816, -0.01759159378707409, -0.011553680524230003, 0.03358826786279678, 0.026202267035841942, 0.043670445680618286, 0.019015630707144737, -0.02316432259976864, -0.011154950596392155, 0.018151715397834778, 0.023012425750494003, -0.026259228587150574, -0.005340135656297207, -0.02610733173787594, -0.010965079069137573, 0.010613816790282726, -0.042151473462581635, -0.058632317930459976, 0.0199744813144207, 0.023430142551660538, 0.009678700007498264, 0.012294179759919643, 0.005691397935152054, 0.015037822537124157, -0.02939210832118988, -0.02876553125679493, -0.011952410452067852, 0.011164444498717785, -0.016908057034015656, -0.023657988756895065, -0.015654904767870903, 0.0120378527790308, 0.019196009263396263, 0.003958820831030607, -0.028689583763480186, 0.00253478460945189, -0.0005245200009085238, -0.07006258517503738, 0.0025751322973519564, -0.025936447083950043, -0.01275936421006918, -0.009692939929664135, -0.03520217537879944, -0.002134867710992694, 0.01884474605321884, 0.02673390693962574, 0.0012626454699784517, 0.03662621229887009, 0.03643634170293808, -0.06512592732906342, 0.027094662189483643, 0.006849614437669516, 0.015047316439449787, -0.00922300759702921, 0.060682930052280426, 0.010756220668554306, -0.010177112184464931, -0.0010442932834848762, 0.011012546718120575, -0.02236686274409294, 0.004656598437577486, -0.02523392252624035, 0.008563204668462276, -0.00579108064994216, 0.006783159449696541, 0.021626364439725876, 0.0011807633563876152, 0.0226516705006361, -0.025651639327406883, 0.00594772445037961, 0.03180347755551338, 0.01026255451142788, 0.01045242603868246, 0.007685048971325159, 0.027550354599952698, -0.01368024107068777, -0.0061850640922784805, -0.003322751261293888, 0.033930037170648575, -0.0033702191431075335, -0.0002331859286641702, -0.018721329048275948, 0.028651608154177666, 0.02999969758093357, 0.01884474605321884, 0.023620015010237694, -0.007988843135535717, 0.011544186621904373, 0.001955676358193159, -0.06273354589939117, 0.025328857824206352, -0.021341556683182716, 0.052708327770233154, -0.020050430670380592, -0.0030972787644714117, -0.029809825122356415, 0.012882781215012074, -0.023297233507037163, 0.011135963723063469, 0.04883494973182678, -0.0032301887404173613, -0.014639092609286308, -0.019917519763112068, -0.036588236689567566, -0.023601027205586433, -0.019575752317905426, -0.013101133517920971, 0.019537776708602905, 0.0328097939491272, 0.024170640856027603, 0.024550383910536766, 0.0005052362103015184, 0.026506060734391212, 0.02758832834661007, -0.04401221498847008, -0.010537868365645409, 0.03199334815144539, 0.0003497788857202977, 0.01649034023284912, 0.003204081440344453, 0.03930339962244034, -0.03472749516367912, 0.0281769298017025, -0.02052510902285576, 0.010537868365645409, -0.006517339032143354, 0.03586672618985176, -0.005966711789369583, -0.007310052867978811, 0.011430264450609684, 0.00792713463306427, 0.021531427279114723, -0.018322600051760674, 0.0429869070649147, -0.02639213763177395, -0.014078971929848194, 0.04925266653299332, 0.01614857092499733, -0.01309163961559534, 0.014430234208703041, -0.041278064250946045, 0.029619954526424408, 0.016376417130231857, 0.006147089879959822, -0.03193638473749161, 0.01734476163983345, 0.020714979618787766, 0.036854058504104614, 0.023297233507037163, -0.007718276232481003, -0.012275191955268383, 0.022176990285515785, -0.01057584211230278, 0.004082237370312214, -0.047429900616407394, 0.0065505667589604855, -0.013423915021121502, -0.002025691559538245, -0.0065220859833061695, -0.020487135276198387, -0.03056931123137474, 0.01515174563974142, -0.002249977318570018, -0.017382735386490822, -0.007590113207697868, -0.004469100385904312, -0.004203280434012413, 0.008349599316716194, 0.00363841257058084, 0.0030711714643985033, 0.02555670402944088, -0.04724003002047539, 0.016803627833724022, 0.037708479911088943, -0.03899960592389107, -0.03345535695552826, 0.012360634282231331, 0.005055328831076622, 0.035695843398571014, 0.011468238197267056, 0.015170732513070107, 0.0281769298017025, 0.019575752317905426, 0.0284427497535944, 0.015218200162053108, 0.021930158138275146, 0.024474436417222023, 0.012161269783973694, -0.018607405945658684, -0.008273650892078876, -0.017107421532273293, -0.020752955228090286, -0.0038211639039218426, 0.027436431497335434, -0.0005458805826492608, 0.02561366558074951, 0.031006015837192535, -0.031537655740976334, -0.00013187168224249035, 0.04180970415472984, -0.008463522419333458, 0.02232888899743557, -0.012939742766320705, -0.0205061212182045, -0.005700891837477684, -0.03372117877006531, 0.026600996032357216, 0.029866786673665047, 0.006189811043441296, 0.01846500299870968, 0.004969886504113674, -0.018066272139549255, -0.010480906814336777, 0.01497136801481247, -0.006636008620262146, 0.003996795043349266, 0.023923808708786964, 0.017468178644776344, -0.013433408923447132, 0.00040703703416511416, -0.04112616553902626, 0.014050491154193878, 0.013708721846342087, 0.01588275097310543, -0.022518759593367577, 0.038392018526792526, 0.021075736731290817, -0.004742040764540434, 0.006113862153142691, 0.011012546718120575, 0.0058290548622608185, -0.02992374822497368, 0.013158095069229603, -0.04674636200070381, 0.015218200162053108, -0.008268903940916061, 0.0028623128309845924, 0.005605956073850393, -0.012161269783973694, -0.012939742766320705, -0.012607467360794544, 0.003102025482803583, -0.01968967355787754, 0.02377191185951233, -0.023050399497151375, 0.00986382458359003, 0.003780816216021776, 0.001605600817129016, -0.009303702972829342, -0.0034841420128941536, -0.009346424601972103, 0.016357429325580597, -0.01232266053557396, -0.04203755035996437, -0.021303582936525345, 0.0006900642183609307, -0.047733694314956665, 0.03199334815144539, 0.008582191541790962, -0.029240211471915245, -0.022518759593367577, 0.03533508628606796, -0.020430173724889755, 0.024037731811404228, -0.01103153359144926, -0.009460347704589367, 0.045379288494586945, 0.008753076195716858, 0.0013801284367218614, 0.008553710766136646, -0.014572637155652046, 0.0026154799852520227, 0.021322568878531456, 0.02058207057416439, 0.01880677230656147, -0.014610611833631992, 0.019224489107728004, -0.027569342404603958, 0.03429079428315163, 0.03915150463581085, 0.02758832834661007, -0.018721329048275948, -0.010908117517828941, 0.013841631822288036, 0.004478593822568655, 0.017411217093467712, 0.01542705949395895, -0.03233511745929718, -0.020126378163695335, 0.013272017240524292, -0.0353160984814167, -0.0012709522852674127, -0.021512441337108612, -0.014069478027522564, -0.06049305945634842, -0.026866817846894264, 0.006128102540969849, -0.0133764473721385, -0.004217520821839571, -0.0012116174912080169, -0.019898533821105957, -0.031309809535741806, 0.04287298396229744, -0.011696084402501583, -0.03520217537879944, -0.006721450947225094, 0.01648084633052349, 0.009294210001826286, 0.011468238197267056, -0.04750584810972214, -0.030018683522939682, -0.04910076782107353, -0.03706291690468788, -0.0007048979168757796, -0.013025185093283653, -0.0017930989852175117, 0.01481947023421526, 0.03148069605231285, -0.016803627833724022, 0.004269735421985388, 0.02202509343624115, -0.017496658489108086, 0.00017755951557774097, 0.01993650756776333, -0.02147446572780609, -0.030930066481232643, 0.003367845667526126, 0.04336664825677872, -0.0014691307442262769, 0.008321118541061878, 0.015607437118887901, -0.00853472389280796, -0.015351110137999058, -0.01250303816050291, 0.010480906814336777, -0.016357429325580597, -0.021930158138275146, -0.0005328268744051456, -0.004314829595386982, 0.012018865905702114, -0.012892275117337704, -0.019006136804819107, -0.006446137558668852, -0.028404776006937027, -0.0052309599705040455, -0.014629598706960678, 0.008866999298334122, 0.0052167195826768875, 0.006298986729234457, 0.014335297979414463, -0.0036479062400758266, -0.013917581178247929, 0.016347935423254967, 0.0025181707460433245, 0.0014169160276651382, -0.01583528332412243, 0.03487939387559891, -0.005316401831805706, -0.020411185920238495, -0.0453033410012722, 0.022765591740608215, 0.021246621385216713, 0.020695993676781654, -0.021835222840309143, -0.025347845628857613, 0.023695962503552437, -0.023582039400935173, -0.006085381377488375, 0.016034647822380066, 0.011544186621904373, -0.028708569705486298, -0.01846500299870968, -0.04442993178963661, 0.04492359608411789, -0.007984096184372902, 0.00879104994237423, -0.012711896561086178, 0.006265759468078613, 0.008335358463227749, 0.007794225122779608, 0.0027839909307658672, 0.016870083287358284, -0.01562642492353916, -0.020487135276198387, 0.010006227530539036, -0.002572758821770549, -0.023885834962129593, 0.018597913905978203, -0.025765562430024147, 0.00031773807131685317, -0.02027827687561512, -0.008387573063373566, 0.03795531392097473, -0.025442780926823616, -0.012028359808027744, -0.0033868327736854553, 0.01045242603868246, -0.01423086877912283, 0.03603760898113251, 0.0045379288494586945, 0.014658079482614994, -0.014601117931306362, 0.025423793122172356, -0.01586376316845417, -0.004606757313013077, -0.010167618282139301, 0.02880350686609745, -0.006279999855905771, -0.019224489107728004, 0.0231833104044199, -0.007499924395233393, -0.0033868327736854553, 0.023582039400935173, -0.0014418367063626647, -0.04553118348121643, 0.008444534614682198, 0.0017788585973903537, 0.016034647822380066, 0.03463255986571312, -0.002672441303730011, -0.06721451133489609, -0.018123233690857887, 0.0003560090553946793, 0.015037822537124157, 0.007414482068270445, 0.009227754548192024, -0.0035268631763756275, -0.00691606942564249, -0.014401753433048725, -0.0018619273323565722, 0.003977807704359293, -0.01191443670541048, -0.0062135448679327965, -0.010974572971463203, -0.04218944534659386, 0.005605956073850393, -0.014876431785523891, 0.0010484466329216957, 0.010072682984173298, 0.0029382614884525537, 0.029809825122356415, 0.0005461772088892758, -0.028955403715372086, 0.018578926101326942, 0.014050491154193878, -0.005928737577050924, 0.022518759593367577, 0.014325804077088833, -0.033664215356111526, -0.04150591045618057, 0.020354224368929863, 0.03203132003545761, 0.004931912291795015, -0.029866786673665047, 0.041543882340192795, -0.057720936834812164, 0.002283204812556505, -0.02582252398133278, -0.028974389657378197, -0.0002800604561343789, -0.03693000599741936, 0.01584477722644806, 0.011999879032373428, -0.0068448674865067005, -0.005995192565023899, 0.02965792827308178, 0.035999637097120285, -0.009816356003284454, -0.01085115596652031, 0.0010793007677420974, -0.0032349356915801764, -0.0033203777857124805, 0.038923658430576324, 0.030911080539226532, -0.019556764513254166, 0.028081994503736496, 0.014515675604343414, -0.02147446572780609, -0.027949083596467972, -0.035069264471530914, 0.01514225173741579, -0.01382264494895935, -0.002130120759829879, 0.05342983826994896, 0.04112616553902626, -0.045417264103889465, 0.020487135276198387, 0.03201233595609665, -0.012616961263120174, 0.052176687866449356, -0.0009404572774656117, -0.025936447083950043, -0.035392045974731445, 0.0057863336987793446, 0.031537655740976334, 0.040670473128557205, 0.04613877460360527, 0.003223068779334426, -0.001268578926101327, 0.005325895734131336, -0.02232888899743557, 0.005705638322979212, 0.020790928974747658, -0.009370158426463604, 0.007950869388878345, -0.0328097939491272, 0.0035007556434720755, 0.031233862042427063, 0.015379590913653374, -0.0243415255099535, 0.02641112543642521, -0.027246559038758278, 0.03434775397181511, -0.023904820904135704, -0.03108196333050728, 0.011866969056427479, 0.0015249054413288832, -0.033056627959012985, -0.0329047292470932, 0.005207225680351257, 0.035107240080833435, -0.009094844572246075, 0.0386958122253418, -0.00476102763786912, -0.001812086091376841, 0.009317943826317787, 0.011344822123646736, 0.010775207541882992, -0.006711957510560751, 0.05453109368681908, -0.01131634134799242, -0.01027204841375351, 0.01673717238008976, -0.004238881170749664, -0.004713559988886118, 0.0202403012663126, -0.008164474740624428, 0.014753015711903572, 0.04108819365501404, -0.02234787493944168, -0.011677097529172897, -0.013006197288632393, 0.027094662189483643, 0.02464532107114792, 0.010803688317537308, 0.016234012320637703, 7.238850957946852e-05, 0.028006045147776604, 0.01853145845234394, 0.022385848686099052, 0.03339839726686478, -0.009118578396737576, 0.0065030986443161964, -0.003882872173562646, 0.027569342404603958, 0.01132583525031805, -0.02971488982439041, 0.01585426926612854, -0.0061660767532885075, -0.01845550909638405, 0.023316219449043274, 0.0074761901050806046, -0.012616961263120174, 0.020809916779398918, 0.006954043637961149, 0.012977716512978077, 0.02551872842013836, 0.025651639327406883, -0.013015691190958023, 0.038297079503536224, -0.018075766041874886, 0.021797247231006622, 0.000658616772852838, -0.03734772279858589, 0.07708782702684402, 0.024816203862428665, -0.008980921469628811, 0.01528465561568737, -0.03411990776658058, -0.002413741312921047, 0.008748329244554043, -0.045645106583833694, 0.008088525384664536, 0.014268843457102776, 0.007789478171616793, -0.015654904767870903, -0.025423793122172356, -0.009873317554593086, -0.006835374049842358, -0.008648646995425224, 0.01704096607863903, -0.036246467381715775, 0.02352507784962654, -0.005995192565023899, 0.024018744006752968, -0.00031833144021220505, 0.006118609104305506, 0.04545523598790169, -0.0011350755812600255, -0.018408041447401047, -0.041240088641643524, -0.015702372416853905, 0.02117067202925682, -0.003424807218834758, 0.01382264494895935, -0.038885682821273804, -0.010566349141299725, -0.0031993347220122814, 0.02202509343624115, 0.01699349842965603, 0.006607528310269117, -0.062125954777002335, 0.017563113942742348, -0.014923899434506893, -0.011990385130047798, -0.006740438286215067, -0.022423824295401573, 0.03903758153319359, -0.005259440280497074, 0.01275936421006918, -0.025309870019555092, 0.012835313566029072, 0.02502506412565708, 0.01249354425817728, -0.024322539567947388, 0.030474375933408737, -0.04465777799487114, 0.029904760420322418, 0.00883377157151699, 0.023601027205586433, 0.004283975809812546, 0.01072773989289999, -0.0005972051876597106, 0.022101042792201042]\n"
     ]
    }
   ],
   "source": [
    "embedded_query = embeddings_model.embed_query(\"인공지능이란 무엇인가요?\")\n",
    "\n",
    "# 쿼리 임베딩 결과 출력\n",
    "print(f\"쿼리 임베딩 벡터의 차원: {len(embedded_query)}\")\n",
    "print(embedded_query)"
   ]
  },
  {
   "cell_type": "markdown",
   "id": "8d6a23e3",
   "metadata": {},
   "source": [
    "`(4) 유사도 기반 검색`"
   ]
  },
  {
   "cell_type": "code",
   "execution_count": 71,
   "id": "a5c3435d",
   "metadata": {},
   "outputs": [
    {
     "name": "stdout",
     "output_type": "stream",
     "text": [
      "쿼리: 인공지능이란 무엇인가요?\n",
      "가장 유사한 문서: 인공지능은 컴퓨터 과학의 한 분야입니다.\n",
      "유사도: 0.7271\n",
      "\n",
      "쿼리: 딥러닝과 머신러닝의 관계는 어떻게 되나요?\n",
      "가장 유사한 문서: 딥러닝은 머신러닝의 한 종류입니다.\n",
      "유사도: 0.7052\n",
      "\n",
      "쿼리: 컴퓨터가 이미지를 이해하는 방법은?\n",
      "가장 유사한 문서: 컴퓨터 비전은 컴퓨터가 디지털 이미지나 비디오를 이해하는 방법을 연구합니다.\n",
      "유사도: 0.6836\n",
      "\n"
     ]
    }
   ],
   "source": [
    "from langchain_community.utils.math import cosine_similarity\n",
    "import numpy as np\n",
    "\n",
    "# 쿼리와 가장 유사한 문서 찾기 함수\n",
    "def find_most_similar(query, doc_embeddings):\n",
    "    query_embedding = embeddings_model.embed_query(query)\n",
    "    # similarities = [cosine_similarity(query_embedding, doc_emb) for doc_emb in doc_embeddings]\n",
    "    similarities = cosine_similarity([query_embedding], doc_embeddings)[0]\n",
    "    most_similar_idx = np.argmax(similarities)\n",
    "    return documents[most_similar_idx], similarities[most_similar_idx]\n",
    "\n",
    "# 예제 쿼리\n",
    "queries = [\n",
    "    \"인공지능이란 무엇인가요?\",\n",
    "    \"딥러닝과 머신러닝의 관계는 어떻게 되나요?\",\n",
    "    \"컴퓨터가 이미지를 이해하는 방법은?\"\n",
    "]\n",
    "\n",
    "# 각 쿼리에 대해 가장 유사한 문서 찾기\n",
    "for query in queries:\n",
    "    most_similar_doc, similarity = find_most_similar(query, document_embeddings)\n",
    "    print(f\"쿼리: {query}\")\n",
    "    print(f\"가장 유사한 문서: {most_similar_doc}\")\n",
    "    print(f\"유사도: {similarity:.4f}\")\n",
    "    print()"
   ]
  },
  {
   "cell_type": "markdown",
   "id": "e4fcfdce",
   "metadata": {},
   "source": [
    "### 4-2 Huggingface - 오픈소스 LLM\n"
   ]
  },
  {
   "cell_type": "markdown",
   "id": "a1572d97",
   "metadata": {},
   "source": [
    "`(1) embedding 모델`"
   ]
  },
  {
   "cell_type": "code",
   "execution_count": 72,
   "id": "dd7af1f5",
   "metadata": {},
   "outputs": [
    {
     "data": {
      "text/plain": [
       "HuggingFaceEmbeddings(client=SentenceTransformer(\n",
       "  (0): Transformer({'max_seq_length': 8192, 'do_lower_case': False}) with Transformer model: XLMRobertaModel \n",
       "  (1): Pooling({'word_embedding_dimension': 1024, 'pooling_mode_cls_token': True, 'pooling_mode_mean_tokens': False, 'pooling_mode_max_tokens': False, 'pooling_mode_mean_sqrt_len_tokens': False, 'pooling_mode_weightedmean_tokens': False, 'pooling_mode_lasttoken': False, 'include_prompt': True})\n",
       "  (2): Normalize()\n",
       "), model_name='BAAI/bge-m3', cache_folder=None, model_kwargs={}, encode_kwargs={}, multi_process=False, show_progress=False)"
      ]
     },
     "execution_count": 72,
     "metadata": {},
     "output_type": "execute_result"
    }
   ],
   "source": [
    "from langchain_huggingface.embeddings import HuggingFaceEmbeddings\n",
    "\n",
    "# Hugging Face의 임베딩 모델 생성\n",
    "embeddings_model = HuggingFaceEmbeddings(model_name=\"BAAI/bge-m3\")\n",
    "\n",
    "# 임베딩 객체 출력\n",
    "embeddings_model"
   ]
  },
  {
   "cell_type": "markdown",
   "id": "06cbe740",
   "metadata": {},
   "source": [
    "`(2) embed_documents 사용`"
   ]
  },
  {
   "cell_type": "code",
   "execution_count": 62,
   "id": "094a8891",
   "metadata": {},
   "outputs": [
    {
     "name": "stdout",
     "output_type": "stream",
     "text": [
      "임베딩 벡터의 개수: 5\n",
      "임베딩 벡터의 차원: 1024\n",
      "[-0.039414506405591965, 0.008764867670834064, -0.012681699357926846, 0.0024532009847462177, -0.008944734930992126, -0.007383684627711773, -0.005377371795475483, -0.00905588734894991, 0.03291522338986397, 0.006045500282198191, -0.027012929320335388, -0.027740975841879845, 0.0004441519267857075, 0.03013649396598339, 0.01724293828010559, 0.017090370878577232, 0.025524822995066643, -0.021856000646948814, -0.011341311037540436, -0.0570225864648819, -0.0003016249684151262, 0.01354304514825344, -0.007450145669281483, 0.018574517220258713, 0.0028947044629603624, 0.00863064918667078, -0.0007445151568390429, -0.028904207050800323, 0.02072783373296261, -0.02050071954727173, 0.008069852367043495, -0.026754239574074745, 0.00396308209747076, -0.016303882002830505, -0.07406219840049744, -0.03365035355091095, -0.02387143485248089, -0.03454999998211861, -0.03478589281439781, 0.005483039654791355, -0.05003359168767929, -0.002803672570735216, -0.023146970197558403, -0.07491154223680496, -0.011434302665293217, -0.02899271994829178, -0.03418302908539772, -0.02552463673055172, -0.06156910955905914, 0.01355790812522173, 0.024401230737566948, -0.03127637505531311, 0.050569575279951096, 0.012972638010978699, -0.06420642137527466, 0.02719488926231861, 0.006821609567850828, 0.010405509732663631, -0.06427156925201416, -0.016028327867388725, -0.020655473694205284, 0.030117683112621307, -0.006331657990813255, -0.013117503374814987, -0.0005492513882927597, 0.046959493309259415, 0.007765627931803465, 0.029756546020507812, -0.03474414348602295, -0.036357227712869644, 0.021413961425423622, 0.01758047379553318, -0.03352203592658043, 0.013690554536879063, -0.05232352390885353, 0.048478420823812485, -0.013382824137806892, -0.017212651669979095, -0.03435652330517769, 0.02108718641102314, -0.022802669554948807, -0.006211890839040279, -0.012333744205534458, -0.045900002121925354, -0.04362522065639496, -0.03322094678878784, -0.030902836471796036, 0.06267780810594559, -0.013041095808148384, 0.003060580464079976, -0.03402116522192955, -0.01181149110198021, 0.06983621418476105, -0.06787189841270447, -0.041217122226953506, -0.04542513191699982, -0.0595475435256958, 0.02657206915318966, 0.021793382242321968, 0.01664949394762516, -0.00479549914598465, 0.05578596144914627, 0.005842116661369801, -0.004925725981593132, 0.0052034128457307816, 0.012360422872006893, 0.015873540192842484, 0.013678202405571938, -0.004320642910897732, -0.01677749678492546, 0.024673383682966232, 0.07882758229970932, -0.0033149837981909513, 0.02773296646773815, -0.014849877916276455, -0.036296550184488297, -0.007080193143337965, -0.005244807340204716, 0.03123795986175537, 0.028104538097977638, 0.021445242688059807, 0.02693263627588749, -0.018261419609189034, -0.035457052290439606, 0.025494445115327835, -0.014402592554688454, 0.04316111281514168, -0.006512517109513283, -0.00238686497323215, -0.025424929335713387, 0.0072543323040008545, 0.001666857162490487, -0.06067405268549919, 0.0021369310561567545, -0.0793343260884285, -0.031682346016168594, -0.026456257328391075, -0.03457324579358101, 0.0011899035889655352, -0.026784734800457954, 0.03188107907772064, 0.008707351982593536, -0.03449936956167221, -0.026013918220996857, 0.028248094022274017, 0.02884901501238346, 0.011804196052253246, 0.006611325778067112, -0.040282152593135834, 0.006595062557607889, -0.04195799678564072, 0.0018759324448183179, -0.016849199309945107, -0.0003244091058149934, 0.00859364215284586, 0.05727246776223183, 0.03451268747448921, 0.01829136162996292, -0.03627156466245651, 0.019243258982896805, -0.01102619618177414, -0.05107642710208893, -0.011925853788852692, 0.034413956105709076, 0.025015445426106453, 0.005875315051525831, 0.002254019258543849, 0.05663306638598442, -0.025044439360499382, -0.05167185515165329, -0.040701501071453094, -0.003823731793090701, -0.08939448744058609, 0.013491128571331501, 0.032876841723918915, 0.02079869993031025, 0.041252296417951584, 0.03118395432829857, 0.010359549894928932, -0.032930485904216766, -0.02438640594482422, -0.01563599891960621, -0.017844513058662415, 0.016319477930665016, -0.0033740797080099583, -0.008289521560072899, 0.007997686043381691, 0.01757998950779438, 0.00581501005217433, -0.0015097000868991017, 0.03361954912543297, -0.02357887290418148, 0.01816856488585472, -0.013307568617165089, -0.010974808596074581, -0.06073553487658501, 0.03531350567936897, 0.033253274857997894, 0.003598386188969016, -0.009528705850243568, -0.03346244618296623, 0.0264558307826519, 0.0048452457413077354, -0.005232746247202158, -0.028605012223124504, 0.03523757681250572, -0.0023232558742165565, -0.03342476114630699, 0.020695967599749565, -0.01664680428802967, 0.05031397193670273, 0.005382817704230547, 0.006805229000747204, -0.04224148020148277, -0.05043673515319824, -0.023666471242904663, -0.00038129123277030885, 0.017486879602074623, -0.021624598652124405, -0.05115277320146561, -0.005384381394833326, -0.007931917905807495, 0.012596547603607178, 0.04038440063595772, 0.023643111810088158, 0.011450223624706268, -0.012604158371686935, -0.024017605930566788, 0.059375129640102386, 0.022746846079826355, -0.014662771485745907, 0.02844349294900894, 0.002861069282516837, -0.027433982118964195, 0.0026598952244967222, -0.012619022279977798, -0.01932583749294281, 0.0012929243966937065, 0.024065811187028885, 0.005560034886002541, 0.00046929880045354366, -0.012332899495959282, 0.008361593820154667, 0.007104433607310057, -0.014163840562105179, -0.025789793580770493, -0.00906689278781414, 0.011334830895066261, -0.03867330774664879, 0.012458676472306252, -0.014846637845039368, -0.05338025093078613, 0.000701126700732857, -0.03762822970747948, 0.024404404684901237, -0.022411514073610306, -0.003127612406387925, 0.005926284473389387, 0.02924334444105625, 0.012872369959950447, -0.02525155059993267, -0.017893904820084572, -0.032658811658620834, 0.01578870788216591, 0.03683767467737198, -0.019260223954916, 0.0041532739996910095, -0.00861515011638403, 0.025600170716643333, 0.03141617029905319, 0.013882034458220005, 0.01661592721939087, 0.026485878974199295, 0.016514798626303673, 0.03710564598441124, 0.01717054657638073, 0.016321644186973572, -0.022120622918009758, 0.027621973305940628, 0.024099646136164665, -0.02487603947520256, -0.034905191510915756, 0.010859512723982334, 0.037536170333623886, 0.03244509920477867, -0.0029510471504181623, -0.02130080573260784, -0.0008491955231875181, -0.04943310469388962, -0.05027167126536369, -0.055717624723911285, -0.03578627482056618, 0.05165392905473709, -0.0265004001557827, -0.02994447946548462, 0.040849074721336365, -0.002776477951556444, -0.15416240692138672, 0.05287330970168114, -0.04404010996222496, 0.024527814239263535, 0.0007718064589425921, -0.023125752806663513, 0.028217673301696777, 0.020606188103556633, -0.06491445004940033, 0.05870112404227257, -0.015259725041687489, -0.05291964113712311, -0.02674366533756256, -0.016040120273828506, 0.035134635865688324, 0.036927372217178345, 0.01824098452925682, -0.00014411499432753772, -0.025382116436958313, -0.0042936974205076694, -0.04096043109893799, -0.05058603733778, 0.01501424703747034, -0.03581550344824791, 0.029789995402097702, -0.04509016498923302, -0.020970819517970085, -0.023698952049016953, -0.029049579054117203, -0.03439372032880783, -0.018698520958423615, -0.009413927793502808, -0.021368438377976418, 0.04190988838672638, 0.022590192034840584, 0.008137786760926247, 0.0034019455779343843, -0.03497297316789627, 0.05352342501282692, 0.006330586038529873, -0.009400919079780579, 0.03403530642390251, 0.013987424783408642, 0.005095567554235458, -0.0004018988984171301, -0.022481314837932587, 0.03870449215173721, 0.0006443148013204336, -0.013815943151712418, 0.009313243441283703, -0.024370521306991577, -0.05039580166339874, 0.04627172276377678, -0.02121719904243946, -0.033464621752500534, 0.006026174407452345, 0.010226188227534294, 0.0693257600069046, 0.022632384672760963, 0.012569012120366096, -0.04025657847523689, -0.03471669927239418, 0.019841838628053665, 0.014833883382380009, 0.013841305859386921, -0.04672104865312576, 0.0554732084274292, 0.01116588432341814, 0.02145715430378914, -0.02226240374147892, 0.0364818312227726, -0.0014091057237237692, 0.05106915161013603, -0.016896676272153854, -0.0002581436128821224, 0.049261584877967834, 0.0077941580675542355, -0.07784531265497208, -0.05160054191946983, -0.08172131329774857, 0.00018152824486605823, -0.002750897081568837, -0.009116008877754211, -0.004651396069675684, -0.04209817200899124, -0.002210954437032342, -0.010076090693473816, -0.027880754321813583, 0.0506029836833477, 0.20528995990753174, 0.026444366201758385, -0.00022553461894858629, -0.026649296283721924, 0.03717317432165146, -0.008842280134558678, -0.01433812640607357, -0.019308635964989662, 0.017481038346886635, -0.010157167911529541, 0.009985273703932762, -0.022104574367403984, -0.0012158568715676665, 0.006270172540098429, 0.013725189492106438, 0.025201896205544472, -0.0338592603802681, -0.0011371340369805694, 0.08596232533454895, 0.02185937575995922, -0.007644860539585352, -0.0030849839095026255, 0.04453139752149582, -0.0013037065509706736, -0.02889559045433998, -0.02633528597652912, 0.002809355966746807, 0.010797240771353245, -0.019451234489679337, -0.036453619599342346, 0.0050882697105407715, 0.029914001002907753, -0.010682019405066967, 0.006684987805783749, 0.02388148382306099, 0.01771303080022335, 0.0014705505454912782, -0.018951749429106712, 0.009166063740849495, 0.00766475684940815, -0.020509880036115646, -0.01571505144238472, -0.0014612063532695174, 0.0074295345693826675, 0.00956694781780243, 0.010711098089814186, 0.0068983896635472775, -0.009391086176037788, -0.019545594230294228, -0.03545309603214264, -0.061767302453517914, -0.022272732108831406, -0.04311840981245041, 0.01835276558995247, -0.002340220380574465, -0.00422269944101572, -0.043274860829114914, 0.02585822530090809, 0.017618361860513687, 0.008789414539933205, 0.039438944309949875, 0.008824560791254044, 0.03327030688524246, 0.025980493053793907, -0.009331435896456242, -0.0054289898835122585, -0.037402983754873276, -0.058240797370672226, 0.058875858783721924, -0.0037429374642670155, 0.013186962343752384, 0.014792917296290398, -0.04668257758021355, -0.022107314318418503, 0.006471619009971619, 0.003505755914375186, 0.03154461085796356, 0.02669130638241768, 0.028576398268342018, 0.028033677488565445, -0.02931990474462509, 0.010856691747903824, -0.027783231809735298, 0.037868671119213104, 0.0077422261238098145, -0.051455311477184296, -0.01412085723131895, 0.05561636760830879, 0.017498372122645378, -0.02479569986462593, 0.013818266801536083, 0.008258625864982605, -0.009095261804759502, 0.044248491525650024, -0.013298487290740013, 0.022851167246699333, 0.007554715033620596, -0.005556170362979174, -0.026851342990994453, 0.04283815249800682, -0.030624451115727425, -0.04370544105768204, -0.00968047697097063, -0.006718880496919155, 0.01662776619195938, 0.020827744156122208, 0.020590845495462418, 0.055483631789684296, 0.009113834239542484, 0.04802144691348076, 0.0028951093554496765, 0.02698773890733719, -0.05199013650417328, -0.04606860503554344, 0.014079541899263859, -0.010256839916110039, 0.020945701748132706, 0.02068706415593624, 0.006968684494495392, 0.014875870198011398, -0.03136385604739189, 0.0012488826178014278, 0.01880243606865406, 0.03199196234345436, 0.0002879343228414655, -0.027227675542235374, 0.04708479344844818, 0.03383410722017288, -0.015768835321068764, 0.019647087901830673, 0.06061578914523125, 0.001848235260695219, 0.0040047247894108295, 0.048760153353214264, 0.022826706990599632, 0.0142844682559371, -0.014066280797123909, 0.021967420354485512, 0.059862151741981506, 0.0002834253537002951, 0.01490852516144514, 0.0070231095887720585, 0.02441646158695221, 0.00801575742661953, 0.010872703976929188, 0.0016236165538430214, -0.01364692859351635, 0.04847626015543938, -0.023516202345490456, -0.006223441567271948, 0.0007702250150032341, -0.02226429246366024, 0.0582638718187809, -0.042533211410045624, -0.00877674575895071, -0.029510995373129845, -0.021039333194494247, -0.005618779454380274, 0.03724335506558418, -0.022321272641420364, 0.029593130573630333, 0.022220823913812637, 0.06000768393278122, 0.054337214678525925, -0.013108969666063786, 0.04675418138504028, -0.004019581712782383, -0.020036783069372177, -0.009979243390262127, -0.05236499384045601, 0.012971448712050915, -0.02396409586071968, -0.04701240733265877, 0.017680194228887558, -0.06316708028316498, -0.012216110713779926, -0.05153880640864372, 0.016716087237000465, 0.002896387130022049, 0.0023543431889265776, 0.04698435589671135, 0.005236208438873291, 0.028605928644537926, 0.018033532425761223, 0.002688370877876878, 0.012599244713783264, 0.043125901371240616, -0.012468867003917694, 0.01619088649749756, -0.03503521531820297, -0.013990393839776516, 0.08501619845628738, -0.0006753566558472812, -0.03510758653283119, 0.018908197060227394, -0.043884195387363434, 0.01817839965224266, -0.014595248736441135, 0.050743017345666885, -0.014598737470805645, -0.012248530983924866, -0.05382176488637924, 0.009177226573228836, -0.01329107116907835, -0.026121458038687706, 0.019020963460206985, -0.009157744236290455, 0.01595836877822876, -0.012059232220053673, 0.023945879191160202, 0.010822133161127567, 0.0012781659606844187, -0.04741377383470535, 0.028183531016111374, -0.030282050371170044, 0.03450246527791023, -0.035452041774988174, 0.010610558092594147, 0.021758023649454117, -0.07106906175613403, -0.011429257690906525, -0.0007577438955195248, 0.0009730433230288327, -0.06687962263822556, 0.0017513284692540765, 0.030837969854474068, -0.013645186088979244, -0.020122895017266273, -0.019696654751896858, 0.046432673931121826, -0.004844012204557657, -0.08160029351711273, 0.04044301062822342, 0.004950518254190683, 0.03106466494500637, 0.0052508884109556675, -0.006103181745857, 0.014033682644367218, -0.021181851625442505, -0.019575435668230057, 0.02588142454624176, -0.02679476886987686, 0.06484155356884003, 0.017436448484659195, 0.025304006412625313, 0.012567288242280483, 0.006157785654067993, -0.015259044244885445, -0.002980021759867668, 0.004574254155158997, -0.011685575358569622, -0.04778241366147995, 0.04852068051695824, 0.027301784604787827, 0.019908620044589043, -0.046112414449453354, 0.04947075620293617, -0.01553407497704029, -0.022958816960453987, 0.007057557348161936, 0.011417122557759285, 0.02811117097735405, -0.0009655279573053122, 0.005214649718254805, 0.005879665724933147, 0.040908873081207275, 0.046704310923814774, 0.013859572820365429, -0.04856504872441292, -0.036418549716472626, 0.03055667318403721, -0.0033170473761856556, -0.039982497692108154, -0.032323919236660004, 0.032081615179777145, -0.0022121802903711796, -0.03743819147348404, 0.047036830335855484, 0.04756614938378334, -0.0037211980670690536, -0.004849877208471298, 0.05456385388970375, 0.00876213051378727, 0.014281773008406162, 0.013041573576629162, -0.005775419529527426, 0.011362392455339432, 0.005727315787225962, 0.028392257168889046, -0.037431806325912476, 0.017423436045646667, 0.009146109223365784, -0.04311308637261391, 0.010060307569801807, -0.013028831221163273, 0.02631347067654133, -0.008787108585238457, 0.048813071101903915, -0.02394178882241249, -0.00841747596859932, -0.030199868604540825, -0.011565504595637321, -0.008227395825088024, -0.0007780512678436935, 0.036086298525333405, 0.019429689273238182, 0.01580185256898403, -0.06475581228733063, 0.03227154165506363, -0.019714727997779846, 0.012444748543202877, 0.0005195762496441603, 0.037241242825984955, 0.04861581325531006, -0.030769040808081627, -0.011096974834799767, 0.030283967033028603, -0.049534741789102554, 0.05492832511663437, -0.0020627137273550034, 0.04958366975188255, 0.0007331269443966448, -0.006119904574006796, -0.023130297660827637, 0.009980852715671062, 0.023883391171693802, -0.01945853792130947, -0.03200140967965126, 0.02911381796002388, -0.0537077933549881, -0.01284673810005188, 0.03300868347287178, -0.0024577854201197624, 0.02562248893082142, 0.0028969666454941034, -0.01608634926378727, -0.019892826676368713, -0.03626822680234909, 0.05153733864426613, 0.025978239253163338, -0.02375458925962448, -0.002132719149813056, 0.05663066357374191, -0.021224917843937874, 0.026157768443226814, -0.030654985457658768, -0.009088467806577682, -0.0013654323993250728, 0.00737178698182106, 0.01401554886251688, -0.03881572559475899, -0.005175841506570578, -0.020652510225772858, -0.0854281485080719, 0.032869771122932434, -0.021121645346283913, -0.001704646972939372, -0.023852897807955742, 0.010193340480327606, 0.0031529031693935394, -0.04626762121915817, 0.004378447309136391, 0.012766391970217228, 0.031889189034700394, -0.006445509381592274, 0.06173042207956314, 0.027293384075164795, -0.04018539935350418, 0.012747344560921192, -0.0434139147400856, -0.03434223681688309, 0.02402898669242859, 0.04511084780097008, -0.0642278864979744, -0.002670884598046541, 0.015765801072120667, -0.04633606970310211, 0.015471960417926311, -0.012264130637049675, 0.004063921049237251, 0.0028699173126369715, -0.05909804254770279, -0.04977879300713539, -0.03188005089759827, 0.004282412584871054, -0.0406380333006382, -0.010036916472017765, -0.020495107397437096, 0.043494291603565216, 0.009182985872030258, -0.021456949412822723, -0.03666564077138901, 0.038714148104190826, -0.028576983138918877, -0.12108984589576721, 0.011257929727435112, -0.021855786442756653, 0.03847655653953552, -0.020778842270374298, 0.026198485866189003, -0.005205607507377863, 0.007620566058903933, 0.023885361850261688, -0.06817092001438141, -0.010705174878239632, 0.03838728368282318, 0.02087843045592308, -0.013643636368215084, -0.0012991324765607715, 0.018895719200372696, -0.010627114214003086, 0.01909423992037773, 0.007303036283701658, 0.0251211766153574, -0.0030899355188012123, 0.01935054175555706, 0.045457590371370316, -0.006982704624533653, 0.016584403812885284, -0.0040834336541593075, 0.006178684998303652, 0.010033586993813515, -0.061605218797922134, 0.00809912197291851, 0.05615945905447006, -0.05707831680774689, 0.005859679076820612, 0.0026495447382330894, -0.05222032591700554, -0.029950352385640144, -0.04529858008027077, 0.004038650076836348, -0.027647927403450012, 0.03871117904782295, -0.03272442892193794, 0.02715751715004444, 0.03960354998707771, -0.011242388747632504, 0.015820413827896118, 0.08895591646432877, -0.03150157630443573, -0.01673172041773796, -0.014683895744383335, -0.020741142332553864, 0.029698120430111885, -0.026172753423452377, -0.01239081472158432, 0.05219879746437073, -0.012780115008354187, 0.016312725841999054, -0.05087517946958542, 0.009121689014136791, -0.0031363870948553085, 0.07734200358390808, -0.04193487390875816, 0.0007514889584854245, -0.03058459609746933, 0.013006280176341534, -0.007410443387925625, 0.030986012890934944, -0.057321060448884964, -0.010988288559019566, -0.015135129913687706, 0.006888886447995901, 0.008642470464110374, 0.06573324650526047, 0.033710818737745285, -0.03401569649577141, 0.029345475137233734, 0.011673986911773682, 0.05105677992105484, 0.007065164856612682, 0.019811013713479042, -0.03461383283138275, 0.016095640137791634, 0.012484773993492126, -0.04676220566034317, -0.027515796944499016, 0.010376487858593464, -0.02294735237956047, -0.03412258252501488, -0.0032300003804266453, -0.008177249692380428, -0.023371698334813118, -0.04848460853099823, -0.011113768443465233, -0.019519254565238953, -0.003848863998427987, -0.04734363034367561, 0.013848814181983471, 0.002097134245559573, 0.012429097667336464, -0.01607224904000759, -0.012233549728989601, -0.007150476798415184, -0.005227197892963886, 0.009924860671162605, -0.0023524495773017406, -0.020415935665369034, 0.034599218517541885, 0.0664309561252594, -0.010721678845584393, 0.05480984225869179, -0.03403068333864212, 0.0091176088899374, -0.014219596050679684, -0.05166008695960045, 0.03949762135744095, -0.002909543924033642, -0.012116209603846073, 0.016222907230257988, 0.06202349066734314, 0.015340356156229973, 0.03206446394324303, 0.046687763184309006, -0.026615360751748085, 0.0022646773140877485, -0.018055269494652748, 0.06148134544491768, 0.0034601488150656223, 0.0007894954760558903, 0.04581809043884277, 0.049780093133449554, 4.803483761861571e-07, 0.015820739790797234, -0.028666513040661812, 0.051331374794244766, -0.019402513280510902, 0.050145670771598816, 0.0012629767879843712, 0.06666208058595657, 0.032211024314165115, -0.07578148692846298, -0.026775605976581573, -0.022792577743530273, -0.013899164274334908, -0.0027473277878016233, -0.017225272953510284, -0.052030302584171295, -0.00638596061617136, 0.02829081006348133, -0.05922165513038635, -0.006042611785233021, -0.010329890064895153, -0.020534275099635124, -0.025234270840883255, 0.006484991870820522, 0.059877391904592514, -0.06461496651172638, 0.03917224705219269, -0.03935934603214264, 0.011597109027206898, -0.00500121247023344, -0.02177669294178486, 0.024796081706881523, -0.021055838093161583, -0.014341452158987522, 0.005037396680563688, -0.026903189718723297, -0.015666145831346512, -0.020005537196993828, -0.017518386244773865, -0.0021191814448684454, 0.03180161863565445, 0.03315678611397743, 0.06110072135925293, -0.021780243143439293, -0.0072005875408649445, 0.023457041010260582, 0.004500436596572399, -0.03394931182265282, 0.030627747997641563, 0.050583407282829285, 0.019436275586485863, 0.03036518581211567, -0.008498143404722214, 0.03861607611179352, 0.024106720462441444, -0.029866864904761314, -0.02248373068869114, -0.029365167021751404, 0.05913861095905304, 0.023994220420718193, -0.05173463374376297, -0.021445536985993385, -0.008028729818761349, -0.04587527737021446, 0.01853397861123085, -0.012980978935956955, 0.06204553321003914, 0.025514397770166397, 0.030436046421527863, -0.013861746527254581, 0.01149924099445343, -0.07689797133207321, -0.015685612335801125, 0.031369227916002274, -0.010092446580529213, -0.004928550682961941, 0.005839597433805466, -0.05361058935523033, -0.0019884202629327774, -0.023305853828787804, -0.012968618422746658, 0.008794059045612812, 0.01889726147055626, 0.0008404382388107479, -0.007589272689074278, 0.04887894541025162, -0.05043135955929756, 0.012652047909796238, -0.005049610510468483, -0.015551931224763393, 0.003674154169857502, 0.002969010267406702, 0.007681485265493393, -0.026818662881851196, -0.010751428082585335, 0.013961073011159897, -0.03150840103626251, 0.010267585515975952, 0.05015919357538223, -0.035111915320158005, -0.0008258344605565071, -0.028183458372950554, -0.024121396243572235, 0.0028527481481432915, 0.0204217117279768, -0.013471560552716255, -0.014262241311371326, 0.022602275013923645, 0.03897459805011749, -0.008240493014454842, -0.015732232481241226, 0.05449066683650017, 0.008341766893863678, 0.03494129329919815, -0.01774808019399643]\n"
     ]
    }
   ],
   "source": [
    "# 문서 임베딩\n",
    "document_embeddings = embeddings_model.embed_documents(documents)\n",
    "\n",
    "# 임베딩 결과 출력\n",
    "print(f\"임베딩 벡터의 개수: {len(document_embeddings)}\")\n",
    "print(f\"임베딩 벡터의 차원: {len(document_embeddings[0])}\")\n",
    "print(document_embeddings[0])"
   ]
  },
  {
   "cell_type": "markdown",
   "id": "17ba092f",
   "metadata": {},
   "source": [
    "`(3) embed_query 사용`"
   ]
  },
  {
   "cell_type": "code",
   "execution_count": 63,
   "id": "6d3832ff",
   "metadata": {},
   "outputs": [
    {
     "name": "stdout",
     "output_type": "stream",
     "text": [
      "쿼리 임베딩 벡터의 차원: 1024\n",
      "[-0.037039030343294144, -0.004837994463741779, 0.002937298733741045, -0.015514631755650043, -0.0009442030568607152, -0.04150163382291794, -0.00657445564866066, 0.011289623565971851, 0.021614037454128265, 0.004928715527057648, -0.020340673625469208, 0.016905175521969795, -0.012874155305325985, 0.005518904887139797, 0.014988373965024948, 0.024228788912296295, 0.007369150873273611, -0.028049813583493233, -0.01493906695395708, -0.05185189098119736, -0.006704994477331638, -0.009251502342522144, -0.016980856657028198, 0.006491496693342924, 0.0529317781329155, 0.04813728481531143, -0.0080695990473032, -0.02317175269126892, 0.018143029883503914, -0.011328164488077164, -0.00424042996019125, -0.006354684475809336, -0.0022717658430337906, 0.014329480938613415, -0.035636693239212036, -0.008155842311680317, -0.011798126623034477, -0.04542405530810356, -0.04073285311460495, 0.002213900675997138, -0.012132350355386734, 0.017896022647619247, -0.01914466731250286, -0.041924428194761276, 0.0009191324352286756, -0.03915581852197647, -0.02435966022312641, -0.024489102885127068, -0.02218923345208168, -0.004594750702381134, 0.03145500272512436, -0.04872867092490196, 0.017981428653001785, 0.024992113932967186, 0.0022375856060534716, 0.0484931580722332, -0.008275439962744713, 0.028034649789333344, -0.07396603375673294, -0.02046187035739422, -0.026336675509810448, -0.0075730388052761555, -0.038946885615587234, -0.017513683065772057, 0.019220877438783646, 0.0637216567993164, 0.02034897916018963, -0.011644161306321621, -0.018541252240538597, -0.040831178426742554, 0.002421577926725149, 0.04151126369833946, -0.057807132601737976, 0.05268530175089836, -0.045980364084243774, 0.011361492797732353, 0.020731991156935692, 0.0062156496569514275, -0.03468089923262596, 0.0175649281591177, 0.048580996692180634, -0.011552015319466591, -0.02953089401125908, -0.013280287384986877, -0.00610039196908474, -0.001902568619698286, -0.019761258736252785, 0.06854028254747391, -0.010714998468756676, 0.0023070559836924076, -0.04258964955806732, -0.0015900988364592195, 0.05118924379348755, -0.1059907078742981, -0.01865953952074051, -0.08233025670051575, -0.033288538455963135, 0.010936737060546875, 0.014399317093193531, 0.03203717619180679, -0.005423192400485277, 0.04439565911889076, 0.016004174947738647, -0.026697106659412384, 0.02955283224582672, 0.005722373723983765, 0.0007926360704004765, 0.009445477277040482, -0.03795607388019562, -0.00655910512432456, 0.038131773471832275, 0.03867703676223755, 0.01900191605091095, 0.03200117498636246, -0.046790510416030884, -0.053457461297512054, 0.008922801353037357, 0.0013820846797898412, 0.023152247071266174, 0.040909115225076675, -0.007746937684714794, 0.020619885995984077, -0.03608465567231178, -0.042336609214544296, -0.008937316946685314, -0.016762085258960724, 0.03305099532008171, 0.03457774221897125, -0.00610665138810873, -0.014311673119664192, 0.02695600502192974, -0.017395058646798134, -0.0762530118227005, -0.0060472385957837105, -0.05990399420261383, -0.020366016775369644, 0.0069059585221111774, -0.031208079308271408, 0.02491198666393757, -0.033270463347435, 0.034372542053461075, 0.006273969542235136, -0.03359512984752655, -0.02889167331159115, 0.018341217190027237, 0.006629381328821182, 0.004403333179652691, -0.007898840121924877, -0.010449236258864403, 0.02449903078377247, -0.01784856617450714, -0.023140758275985718, -0.026498014107346535, -0.009703976102173328, 0.008640225976705551, 0.046334803104400635, 0.010182281024754047, 0.023935390636324883, -0.052029188722372055, 0.03454333916306496, 0.04255598783493042, -0.0006983892526477575, 0.006904142443090677, 0.02455483004450798, -0.009249940514564514, 0.0037498963065445423, 0.001992254052311182, 0.022435257211327553, -0.007651567924767733, -0.026824569329619408, -0.037184298038482666, 0.010140115395188332, -0.033303309231996536, 0.03516100347042084, 0.01415296457707882, 0.0015180453192442656, 0.06473011523485184, 0.03341678902506828, -0.009922678582370281, -0.008217359893023968, -0.05554000288248062, -0.017524708062410355, -0.01137109287083149, 0.0038229639176279306, -0.0037375413812696934, 0.011147863231599331, 0.015892677009105682, 0.011535858735442162, 0.019301947206258774, 6.593637954210863e-05, -0.016626065596938133, -0.021884573623538017, 0.01334231998771429, -0.004614592529833317, -0.001308741164393723, -0.029976263642311096, 0.033687543123960495, 0.04602937772870064, -0.004229745827615261, -0.04002344235777855, -0.027000224217772484, 0.02847192995250225, 0.016615111380815506, 0.007434023544192314, -0.04309452325105667, 0.013872272334992886, 0.004785322584211826, -0.04215668514370918, 0.011164175346493721, -0.03745193034410477, 0.01899045892059803, 0.0484260730445385, 0.049872227013111115, -0.023933308199048042, -0.05517065152525902, -0.008649099618196487, -0.0191673394292593, 0.04419619217514992, -0.007545499596744776, -0.012426579371094704, -0.013597351498901844, 0.019231373444199562, 0.0015144365606829524, 0.025551609694957733, 0.03561319410800934, -0.0017695979913696647, 0.03700567036867142, -0.019344206899404526, 0.02111252397298813, 0.010621205903589725, 0.0018154492136090994, 0.05887378007173538, 0.016217175871133804, -0.03262636438012123, 0.0010106484405696392, -0.014767223969101906, -0.03783579170703888, -0.02151411399245262, 0.00684019923210144, 0.01949603296816349, -0.024711336940526962, 0.0021765597630292177, -0.032640181481838226, 0.02691703476011753, -0.01172175258398056, -0.013111719861626625, -0.016775185242295265, -0.02588157169520855, -0.012007074430584908, 0.0254293754696846, -0.001238982891663909, -0.03878544643521309, 0.005284748040139675, -0.01224251464009285, 0.05315485969185829, 0.014017321169376373, -0.010207852348685265, 0.005708544049412012, 0.007218025159090757, 0.036552924662828445, 0.010486863553524017, -0.023656044155359268, 0.0005250907270237803, 0.032815348356962204, 0.053955771028995514, 0.010052750818431377, 0.0018817022209987044, -0.03236304596066475, 0.01933574676513672, 0.03375532850623131, -0.014729073271155357, -0.020189428701996803, -0.020224370062351227, 0.003361435141414404, 0.03844422847032547, -0.014588406309485435, -0.008461161516606808, -0.01572740450501442, 0.025322988629341125, 0.009637261740863323, -0.02126588672399521, -0.056229062378406525, -0.014719386585056782, 0.046484969556331635, 0.024742839857935905, -0.025216154754161835, -0.031498685479164124, 0.0021102135069668293, -0.0018524829065427184, -0.03766098618507385, -0.01068531721830368, -0.021195488050580025, 0.05994454026222229, -0.01754099689424038, -0.029294420033693314, -0.016515012830495834, -0.033342745155096054, -0.13450632989406586, 0.014861973002552986, -0.03051019459962845, 0.02387097105383873, -0.008990838192403316, -0.030506957322359085, 0.01990993693470955, -0.012341994792222977, 0.0009846205357462168, 0.029325300827622414, 0.008167611435055733, -0.04651210084557533, -0.049962759017944336, -0.03237046301364899, 0.03154982998967171, 0.005826668813824654, 0.017247967422008514, -0.012478457763791084, -0.03253534808754921, -0.04868704453110695, -0.016888227313756943, -0.06612599641084671, 0.008022114634513855, -0.0514935627579689, 0.05662037059664726, -0.011946949176490307, 0.014184593223035336, -0.0032263146713376045, -0.04714829847216606, -0.057101283222436905, -0.013619886711239815, -0.04022349789738655, -0.009091470390558243, 0.053464777767658234, 0.051880236715078354, 0.005872110370546579, -0.003309097606688738, -0.02414250187575817, 0.04166967794299126, -0.006590474862605333, 0.0012395817320793867, 0.004078519530594349, 0.027110585942864418, 0.04170548915863037, 0.004624223802238703, 0.017327366396784782, 0.03122679330408573, -0.018804429098963737, 0.022112922742962837, -0.001415818347595632, -0.031641434878110886, -0.0038417016621679068, 0.04987512156367302, -0.04317929595708847, 0.019453587010502815, -0.004618083126842976, 0.03876296803355217, 0.07492455840110779, 0.04673231393098831, -0.012821970507502556, -0.04926644638180733, 0.03639507666230202, -0.016499213874340057, 0.023837415501475334, -0.014056256972253323, -0.008350454270839691, 0.07635486125946045, 0.021610723808407784, -0.006471771281212568, -0.029888348653912544, 0.04298751801252365, -0.006319564767181873, 0.003482891945168376, -0.011994404718279839, 0.018967214971780777, 0.03665360063314438, 0.011891392059624195, -0.05531255155801773, -0.04361612722277641, -0.07883036881685257, 0.026639582589268684, -0.016894210129976273, -0.0008406381239183247, -0.0007741227163933218, -0.020351026207208633, -0.019341671839356422, -0.0019193952903151512, 0.0029371909331530333, 0.016311682760715485, 0.24095182120800018, -0.020463088527321815, 0.01600288785994053, -0.023172389715909958, -0.009749178774654865, -0.005551554728299379, -0.02299223281443119, -0.021734153851866722, 0.010987706482410431, -0.02273481711745262, 0.005074276123195887, -0.016034072265028954, 0.00748206814751029, 0.003896913258358836, 0.02499455213546753, 0.06091340631246567, -0.03454163298010826, 0.008022178895771503, 0.06798809766769409, 0.01188615057617426, 0.0013998926151543856, 0.012132946401834488, 0.033472295850515366, 0.012255714274942875, -0.02356652542948723, -0.006584750954061747, 0.016387859359383583, 0.03231015428900719, -0.01211629994213581, -0.020721757784485817, -0.0006229373975656927, 0.006029628217220306, 0.015111153945326805, -0.005422516725957394, 0.002463565906509757, 0.008051231503486633, -0.012814374640583992, -0.026078201830387115, 0.016747476533055305, -0.0022051436826586723, -0.02984962798655033, -0.021296178922057152, 0.03523929417133331, -0.0066303592175245285, 0.009591849520802498, 0.018282288685441017, 0.017618834972381592, 0.01873541995882988, -0.0649481862783432, -0.019879961386322975, -0.033681195229291916, -0.0021162782795727253, -0.05129683390259743, 0.002209992380812764, -0.011080165393650532, -0.020890453830361366, -0.015042401850223541, 0.038950059562921524, 0.01661718636751175, -0.017477544024586678, 0.06690272688865662, -0.004562978632748127, 0.023438848555088043, -0.027878032997250557, 0.008510063402354717, -0.016472864896059036, -0.032951463013887405, -0.08128275722265244, -0.011990680359303951, 0.005866083782166243, 5.3788604418514296e-05, -0.00349260657094419, -0.03506448492407799, -0.005048451013863087, 0.0237740445882082, 0.02924026921391487, 0.03066261298954487, 0.03821929544210434, 0.007099481299519539, 0.010195622220635414, 0.015867657959461212, 0.003633967600762844, -0.0426153689622879, 0.014660627581179142, 0.009449576959013939, -0.039429694414138794, -0.02807416021823883, 0.04945925623178482, 0.028142256662249565, -0.04472806677222252, 0.0467730276286602, -0.018533173948526382, -0.04007842391729355, 0.031544510275125504, 0.011868322268128395, -0.01265532523393631, 0.06579036265611649, 0.01306093204766512, 0.010287136770784855, 0.04188523069024086, -0.03937176987528801, -0.02285066433250904, 0.00016460096230730414, 0.0556056834757328, 0.049515463411808014, -0.008175376802682877, 0.010815383866429329, 0.06870773434638977, 0.007081456016749144, 0.09678668528795242, -0.01700117439031601, -0.005990379024296999, -0.03747916221618652, -0.002882096217945218, 0.024536604061722755, 0.0067350356839597225, 0.028513966128230095, -0.023954451084136963, 0.008569208905100822, 0.014626221731305122, -0.04774690791964531, 0.027444059029221535, -0.000999655807390809, -0.023877527564764023, 0.024636898189783096, -0.032172173261642456, 0.03437189757823944, -0.010820255614817142, -0.013791005127131939, 0.015677299350500107, 0.039712075144052505, 0.007031195797026157, 0.033247824758291245, 0.0676274523139, 0.04346625879406929, 0.010069817304611206, -0.006054610945284367, 0.03341535106301308, 0.023479823023080826, 0.02220960520207882, -0.010580620728433132, -0.006418746896088123, -0.0009642674122005701, 0.02053741179406643, 0.004917845595628023, 0.006863208021968603, 0.02614475041627884, 0.03087623044848442, -0.035683393478393555, -0.036932945251464844, -0.03490953892469406, -0.016222776845097542, -0.007834117859601974, -0.08086272329092026, -0.002636200049892068, -0.026474647223949432, -0.0013029947876930237, -0.03466784209012985, -0.0015013189986348152, -0.034007564187049866, 0.029870465397834778, -0.023574449121952057, 0.051433730870485306, 0.10243327170610428, 0.016947505995631218, 0.07389850169420242, 0.04954979941248894, 0.011109019629657269, 0.00885779969394207, -0.06901857256889343, 0.046070799231529236, -0.03176072984933853, -0.04350808262825012, 0.006947451736778021, -0.028536876663565636, -0.0287096556276083, -0.0283623319119215, 0.0007430385448969901, 0.009753050282597542, -0.051029134541749954, 0.016081759706139565, 0.019987303763628006, 0.025810888037085533, 0.053755685687065125, -0.005319263320416212, 0.003931431565433741, 0.053991980850696564, -0.005129041150212288, 0.014109063893556595, -0.015200179070234299, -0.00026761897606775165, 0.07187124341726303, 0.011996829882264137, -0.006194978021085262, 0.020591944456100464, -0.03972272947430611, 0.007841425016522408, -0.020624777302145958, 0.046031150966882706, 0.028482580557465553, 0.0336921326816082, -0.05101749673485756, -0.0006113217095844448, -0.0005767214461229742, 0.020632069557905197, 0.00931622926145792, -0.02317873388528824, -0.0013654420617967844, -0.018552832305431366, 0.04481898248195648, 0.026425611227750778, -0.005445363465696573, -0.030831273645162582, -0.007227322552353144, -0.03326856344938278, 0.018092378973960876, -0.04253171756863594, 0.03340941295027733, 0.022858349606394768, -0.05665276572108269, -0.033027395606040955, 0.03000061772763729, 0.012428224086761475, -0.07073473930358887, 0.0003781306731980294, 0.05293033644556999, -0.028434932231903076, -0.021334772929549217, 0.02561730518937111, 0.03773929551243782, 0.008760254830121994, -0.06261827796697617, 0.02034137398004532, 0.03599689528346062, 0.012768285349011421, -0.015243901871144772, -0.021516693755984306, -0.016208617016673088, -0.014530643820762634, -0.03024543635547161, 0.03425868973135948, -0.013401356525719166, 0.06385199725627899, 0.021146073937416077, 0.017921477556228638, -0.0193472933024168, 0.011336891911923885, -0.00872351136058569, -0.01521982904523611, 0.028517626225948334, -0.032641083002090454, -0.010743854567408562, 0.04179009422659874, 0.0026682205498218536, 0.009615456685423851, -0.012813917361199856, 0.03967618569731712, 0.001359752961434424, -0.011945122852921486, -0.0022052014246582985, 0.0029573310166597366, 0.027802936732769012, -0.030607234686613083, 0.0018586247460916638, -0.0024497073609381914, 0.02161223813891411, 0.007533817086368799, 0.0033528662752360106, -0.0543154738843441, -0.04692951217293739, 0.03315074369311333, 0.019050849601626396, -0.023163186386227608, -0.04460868239402771, -0.028425179421901703, 0.025952927768230438, -0.044761575758457184, 0.01811780035495758, 0.00603625038638711, 0.048351552337408066, -0.01808599941432476, 0.0705958902835846, -0.01284578163176775, 0.03550196811556816, -0.028405576944351196, -0.004290563054382801, 0.00998145341873169, -0.025032375007867813, 0.0003416135732550174, -0.07229288667440414, -0.007575934287160635, -0.017060400918126106, -0.05374089628458023, 0.0170927494764328, -0.006584628950804472, 0.058475833386182785, -0.019886918365955353, 0.03939029574394226, -0.024408824741840363, -0.022697610780596733, -0.03535723313689232, 0.0014930778415873647, -0.01427781768143177, 0.019025159999728203, -0.001035368419252336, 0.0243497546762228, 0.012797090224921703, -0.03189678490161896, 0.024282226338982582, -0.0005900576943531632, -0.0187021903693676, 0.006278957240283489, 0.02822849154472351, 0.029838616028428078, -0.04594530910253525, -0.016823945567011833, 0.04754148796200752, -0.07021927833557129, 0.025104189291596413, 0.023485703393816948, 0.05767754092812538, 0.023428944870829582, 0.0015275663463398814, -0.0458429716527462, 0.030835391953587532, 0.0004904548986814916, -0.020950747653841972, -0.030310731381177902, 0.026045260950922966, -0.07034267485141754, -0.015839891508221626, 0.04656253755092621, -0.007092779502272606, -0.003866112558171153, -0.008796491660177708, 0.0005151001387275755, -0.030279219150543213, -0.024433594197034836, 0.038050711154937744, -0.016502918675541878, 0.04245002567768097, 0.005689365789294243, 0.046807922422885895, -0.01727035641670227, -0.016238771378993988, -0.05630580335855484, 0.008184336125850677, 0.020044390112161636, -0.0024435599334537983, 0.03499753028154373, 0.009682717733085155, 0.041708558797836304, -0.04717325419187546, -0.05711445212364197, 0.03945711627602577, 0.01671983301639557, -0.030553795397281647, -0.025327665731310844, 0.020326247438788414, 0.010175020433962345, -0.040363602340221405, 0.03164274990558624, 0.014100980013608932, 0.03561713173985481, 0.013648375868797302, 0.013169477693736553, 0.002814081497490406, -0.02434302680194378, 0.013845600187778473, -0.014623411931097507, -0.010815790854394436, 0.014875102788209915, 0.05588507279753685, -0.03753669187426567, -0.024807605892419815, 0.016538459807634354, -0.016592448577284813, -0.019737469032406807, -0.010183123871684074, -0.023496877402067184, -0.011645316146314144, -0.06232396140694618, -0.03916677087545395, -0.03645596280694008, -0.011060040444135666, -0.02335616573691368, 2.1621992345899343e-05, -0.04460380598902702, 0.04020135849714279, -0.05502595752477646, -0.03401704132556915, -0.03588038682937622, -0.012097467668354511, -0.006962602958083153, -0.12520667910575867, 0.02568039856851101, -0.0006911025266163051, -0.005511732306331396, -0.0403444766998291, 0.012482874095439911, -0.023088693618774414, -0.0004981679958291352, 0.01412761490792036, -0.023778695613145828, -0.02278006635606289, 0.050184525549411774, -0.04474738985300064, -0.014800109900534153, -0.004711525980383158, 0.028020406141877174, -0.016769658774137497, 0.016406260430812836, -0.016325654461979866, -0.021781696006655693, -0.04240023344755173, -0.012077449820935726, 0.028010806068778038, -0.027554772794246674, 0.05169365927577019, 0.022306377068161964, 0.025189904496073723, 0.043324150145053864, -0.038832176476716995, -0.0142977861687541, 0.01759359985589981, -0.06939594447612762, 0.04147270694375038, -0.0013704904122278094, -0.05102721229195595, -0.027104714885354042, -0.02551502361893654, -0.01919974759221077, -0.004185997880995274, 0.000927880872040987, -0.0047530848532915115, 0.017131229862570763, 0.005207458510994911, -0.025614481419324875, -0.03588838130235672, 0.0458889938890934, -0.027583831921219826, -0.027079014107584953, -0.024635132402181625, 0.004591194447129965, 0.02680465206503868, -0.019332153722643852, 0.0011265227803960443, 0.019270403310656548, -0.006840442772954702, 0.02412506379187107, -0.0545220784842968, 0.025098785758018494, -0.0025626036804169416, 0.09898559749126434, -0.0020522235427051783, -0.0008181610610336065, -0.027206948027014732, 0.028830325230956078, -0.02365415170788765, 0.019349312409758568, -0.03516875579953194, 0.0054213134571909904, 0.024397563189268112, 0.006299087777733803, -0.011892028152942657, 0.005306422710418701, 0.01167837344110012, -0.01751270517706871, 0.034082263708114624, 0.01178283616900444, 0.03477010503411293, 0.015951046720147133, -0.01795613206923008, -0.028450608253479004, 0.035627104341983795, 0.006755908019840717, -0.04474259912967682, -0.012436776421964169, -0.01788587123155594, 0.006770768202841282, -0.03011421114206314, 0.014468441717326641, 0.01238391175866127, -0.010364117100834846, -0.07452557981014252, -0.013963405974209309, 0.004212433937937021, 0.010386243462562561, -0.05068022385239601, 0.005435228813439608, -0.021549994125962257, 0.004790782928466797, -0.03258197754621506, -0.016719158738851547, -0.01722092367708683, -0.000827788608148694, 0.017261920496821404, 0.026830079033970833, -0.015174448490142822, 0.008098102174699306, 0.06706380844116211, -0.018373653292655945, 0.00658710952848196, -0.004388078115880489, 0.015563702210783958, -0.007881900295615196, 0.004045057110488415, 0.03504033386707306, 0.0011946364538744092, -0.01016332395374775, 0.029281746596097946, 0.03393738716840744, 0.0009082613978534937, 0.02627851814031601, -0.01045304536819458, -0.009190818294882774, -0.021630318835377693, -0.01268953550606966, 0.04191259667277336, 0.053269874304533005, 0.00405996385961771, 0.015840191394090652, 0.09813231974840164, -0.001311390777118504, 0.026166262105107307, -0.06436092406511307, 0.015403512865304947, -0.009460686706006527, 0.02918064408004284, -0.03512238711118698, 0.03046327643096447, 0.044432491064071655, -0.03815360739827156, -0.06942998617887497, -0.012108976021409035, 0.02332848496735096, -0.022528164088726044, -0.0024424446746706963, -0.04985435679554939, -0.030899692326784134, 0.017584748566150665, -0.010001773945987225, -0.050213634967803955, -0.05402827635407448, -0.007201593369245529, -0.01813686266541481, 0.0014227427309378982, 0.02581953816115856, -0.002100229263305664, 0.03713342919945717, -0.023976409807801247, 0.008912060409784317, -0.027604125440120697, 0.028801914304494858, 0.010518437251448631, -0.013373823836445808, -0.02934347279369831, -0.004075850360095501, -0.039594508707523346, -0.024744482710957527, -0.009986257180571556, -0.012933101505041122, -0.017104823142290115, 0.02125934697687626, 0.005327785387635231, 0.06360166519880295, -0.0350000336766243, 0.04053345322608948, 0.03943643718957901, -0.011726200580596924, -0.00271831382997334, 0.0628650113940239, 0.012967699207365513, -0.018978171050548553, 0.02584890089929104, -0.029939059168100357, 0.014616988599300385, 0.020571118220686913, -0.02935880608856678, -0.04000376537442207, -0.012205064296722412, 0.06588024646043777, 0.0321393720805645, -0.004850618541240692, -0.006376937497407198, 0.006935128942131996, 0.012511483393609524, -0.009101998060941696, 0.0347670242190361, 0.038523685187101364, 0.03456329181790352, 0.031917013227939606, -0.02738858573138714, 0.02758036181330681, -0.05587906762957573, -0.01438998244702816, 0.04932097718119621, -0.01508605107665062, -0.01266101747751236, -0.003120985347777605, -0.04098906368017197, -0.01073658186942339, -0.018654974177479744, 0.0017576501704752445, -0.015417613089084625, -0.02493097260594368, 0.016272172331809998, 0.008304046466946602, 0.012492278590798378, -0.02610437199473381, 0.028651626780629158, -0.006774368230253458, -0.021069319918751717, -0.012413237243890762, -0.004087911918759346, -0.01187724620103836, -0.010481736622750759, -0.022585364058613777, 0.013596656732261181, -0.05835207179188728, 0.00754122156649828, 0.04869058355689049, -0.02409176714718342, 0.006596391089260578, 0.026851359754800797, -0.052196014672517776, -0.04545794799923897, 0.045182183384895325, 0.015354675240814686, -0.016589898616075516, 0.05032368376851082, 0.012740325182676315, -0.008616255596280098, -0.037519268691539764, 0.051847100257873535, -0.01824277453124523, 0.0012517936993390322, -0.025500047951936722]\n"
     ]
    }
   ],
   "source": [
    "embedded_query = embeddings_model.embed_query(\"인공지능이란 무엇인가요?\")\n",
    "\n",
    "# 쿼리 임베딩 결과 출력\n",
    "print(f\"쿼리 임베딩 벡터의 차원: {len(embedded_query)}\")\n",
    "print(embedded_query)"
   ]
  },
  {
   "cell_type": "markdown",
   "id": "4e87fd17",
   "metadata": {},
   "source": [
    "`(4) 유사도 기반 검색`"
   ]
  },
  {
   "cell_type": "code",
   "execution_count": 64,
   "id": "76435ced",
   "metadata": {},
   "outputs": [
    {
     "ename": "NameError",
     "evalue": "name 'find_most_similar' is not defined",
     "output_type": "error",
     "traceback": [
      "\u001b[31m---------------------------------------------------------------------------\u001b[39m",
      "\u001b[31mNameError\u001b[39m                                 Traceback (most recent call last)",
      "\u001b[36mCell\u001b[39m\u001b[36m \u001b[39m\u001b[32mIn[64]\u001b[39m\u001b[32m, line 10\u001b[39m\n\u001b[32m      8\u001b[39m \u001b[38;5;66;03m# 각 쿼리에 대해 가장 유사한 문서 찾기\u001b[39;00m\n\u001b[32m      9\u001b[39m \u001b[38;5;28;01mfor\u001b[39;00m query \u001b[38;5;129;01min\u001b[39;00m queries:\n\u001b[32m---> \u001b[39m\u001b[32m10\u001b[39m     most_similar_doc, similarity = \u001b[43mfind_most_similar\u001b[49m(query, document_embeddings)\n\u001b[32m     11\u001b[39m     \u001b[38;5;28mprint\u001b[39m(\u001b[33mf\u001b[39m\u001b[33m\"\u001b[39m\u001b[33m쿼리: \u001b[39m\u001b[38;5;132;01m{\u001b[39;00mquery\u001b[38;5;132;01m}\u001b[39;00m\u001b[33m\"\u001b[39m)\n\u001b[32m     12\u001b[39m     \u001b[38;5;28mprint\u001b[39m(\u001b[33mf\u001b[39m\u001b[33m\"\u001b[39m\u001b[33m가장 유사한 문서: \u001b[39m\u001b[38;5;132;01m{\u001b[39;00mmost_similar_doc\u001b[38;5;132;01m}\u001b[39;00m\u001b[33m\"\u001b[39m)\n",
      "\u001b[31mNameError\u001b[39m: name 'find_most_similar' is not defined"
     ]
    }
   ],
   "source": [
    "# 예제 쿼리\n",
    "queries = [\n",
    "    \"인공지능이란 무엇인가요?\",\n",
    "    \"딥러닝과 머신러닝의 관계는 어떻게 되나요?\",\n",
    "    \"컴퓨터가 이미지를 이해하는 방법은?\"\n",
    "]\n",
    "\n",
    "# 각 쿼리에 대해 가장 유사한 문서 찾기\n",
    "for query in queries:\n",
    "    most_similar_doc, similarity = find_most_similar(query, document_embeddings)\n",
    "    print(f\"쿼리: {query}\")\n",
    "    print(f\"가장 유사한 문서: {most_similar_doc}\")\n",
    "    print(f\"유사도: {similarity:.4f}\")\n",
    "    print()"
   ]
  },
  {
   "cell_type": "markdown",
   "id": "6d063911",
   "metadata": {},
   "source": [
    "### 4-3 Ollama - 오픈소스 LLM"
   ]
  },
  {
   "cell_type": "markdown",
   "id": "ba69a0f5",
   "metadata": {},
   "source": [
    "`(1) embedding 모델`"
   ]
  },
  {
   "cell_type": "code",
   "execution_count": 68,
   "id": "795906a7",
   "metadata": {},
   "outputs": [
    {
     "data": {
      "text/plain": [
       "OllamaEmbeddings(model='bge-m3', base_url=None, client_kwargs={}, _client=<ollama._client.Client object at 0x3cb1824d0>, _async_client=<ollama._client.AsyncClient object at 0x3cb180910>)"
      ]
     },
     "execution_count": 68,
     "metadata": {},
     "output_type": "execute_result"
    }
   ],
   "source": [
    "from langchain_ollama import OllamaEmbeddings\n",
    "\n",
    "# OllamaEmbeddings 모델 생성\n",
    "# embeddings_model = OllamaEmbeddings(model=\"nomic-embed-text\")\n",
    "embeddings_model = OllamaEmbeddings(model=\"bge-m3\")\n",
    "\n",
    "# 임베딩 객체 출력\n",
    "embeddings_model"
   ]
  },
  {
   "cell_type": "markdown",
   "id": "0673debb",
   "metadata": {},
   "source": [
    "`(2) embed_documents 사용`"
   ]
  },
  {
   "cell_type": "code",
   "execution_count": 69,
   "id": "2fde851f",
   "metadata": {},
   "outputs": [
    {
     "name": "stdout",
     "output_type": "stream",
     "text": [
      "임베딩 벡터의 개수: 5\n",
      "임베딩 벡터의 차원: 1024\n",
      "[-0.0393202, 0.00871987, -0.012856587, 0.0023704672, -0.009019296, -0.0074392916, -0.0055350754, -0.009004289, 0.032831304, 0.005983045, -0.027306296, -0.027908752, 0.00036500898, 0.030153472, 0.017168047, 0.017262679, 0.025467148, -0.021865228, -0.0114712175, -0.056970704, -0.00022881577, 0.013515405, -0.007428325, 0.018560603, 0.0029112964, 0.008600427, -0.0008189987, -0.029052809, 0.02074074, -0.020631881, 0.008141815, -0.026882142, 0.0036481966, -0.016188787, -0.073879294, -0.033679802, -0.023835167, -0.034330506, -0.03461988, 0.005519358, -0.050145864, -0.0029398121, -0.023094961, -0.07501381, -0.011293629, -0.02894882, -0.03419277, -0.02544767, -0.061396196, 0.013561293, 0.024461078, -0.03143453, 0.05059914, 0.012977622, -0.06398709, 0.02729496, 0.007027946, 0.010371419, -0.064069666, -0.016192928, -0.020711523, 0.030171076, -0.006361122, -0.013145919, -0.0007086442, 0.046928793, 0.007847413, 0.029662905, -0.03481869, -0.036377765, 0.02146682, 0.017645057, -0.033514053, 0.014011139, -0.05231577, 0.048668135, -0.013366769, -0.01726502, -0.034384344, 0.021205844, -0.022950081, -0.0060597043, -0.012352388, -0.045895103, -0.043469623, -0.03334085, -0.030866303, 0.062569834, -0.012941247, 0.0031865395, -0.03396449, -0.011904809, 0.070022024, -0.06781208, -0.0413098, -0.04544155, -0.059823412, 0.026534084, 0.021890461, 0.016516086, -0.004935145, 0.055665053, 0.0058650104, -0.0049040234, 0.00516784, 0.012546111, 0.015897857, 0.013550999, -0.0043992805, -0.016944421, 0.02469085, 0.07870216, -0.0033269362, 0.027767682, -0.014900515, -0.036280274, -0.0069533894, -0.005275352, 0.031270396, 0.028114969, 0.02141146, 0.027146595, -0.01835065, -0.035590593, 0.025525192, -0.014438523, 0.04339567, -0.0064264047, -0.0024667564, -0.025482045, 0.007166066, 0.0014351617, -0.060788978, 0.0022013008, -0.07943237, -0.031435788, -0.026332626, -0.03444524, 0.0011833755, -0.026804723, 0.031967584, 0.008480122, -0.034473673, -0.02602198, 0.028321644, 0.028950723, 0.011845064, 0.006665984, -0.04030542, 0.0066334624, -0.041989297, 0.0018856495, -0.017025206, -0.00052023184, 0.008446239, 0.057189833, 0.03442234, 0.018433375, -0.03638467, 0.019140467, -0.011005374, -0.050953303, -0.011776925, 0.034414146, 0.025032153, 0.0058304654, 0.002144053, 0.056647785, -0.024989944, -0.05156667, -0.04060145, -0.003777163, -0.08959161, 0.013698164, 0.032662407, 0.020985948, 0.041078303, 0.031236697, 0.010411107, -0.03263435, -0.024605662, -0.015723374, -0.017963959, 0.016200002, -0.003128374, -0.008200543, 0.007836891, 0.017584328, 0.005887317, -0.001706224, 0.033748202, -0.02350602, 0.018290954, -0.013276192, -0.011201992, -0.061112776, 0.035342045, 0.033387415, 0.003559145, -0.0095474245, -0.03333399, 0.02628157, 0.004958056, -0.005173013, -0.028457414, 0.03514699, -0.0019643228, -0.033361744, 0.020671489, -0.01686973, 0.050382785, 0.0054813344, 0.006738501, -0.042296167, -0.050364044, -0.023788314, -0.00032476228, 0.017602965, -0.021692852, -0.051000796, -0.0053082313, -0.007912783, 0.012481872, 0.040231276, 0.023525339, 0.011299209, -0.012375735, -0.02414654, 0.05931089, 0.022651242, -0.014692017, 0.02856177, 0.0030455454, -0.027553717, 0.002652958, -0.012636457, -0.019008089, 0.0012109036, 0.023982631, 0.0055508567, 0.0003751904, -0.012331219, 0.00841479, 0.007144534, -0.013916793, -0.025942093, -0.008832843, 0.0112346755, -0.038807612, 0.012231632, -0.014930543, -0.05358598, 0.0006987179, -0.03770136, 0.02434323, -0.022462998, -0.0030404623, 0.005983349, 0.029154629, 0.012983429, -0.025301859, -0.01798275, -0.032702524, 0.015642267, 0.03680894, -0.019063244, 0.0038790125, -0.008616361, 0.02550647, 0.031358358, 0.013780822, 0.016566696, 0.026496056, 0.016511656, 0.037265956, 0.017361939, 0.016102375, -0.022088038, 0.027506238, 0.024031574, -0.025108928, -0.03495762, 0.010884761, 0.03759863, 0.032409064, -0.0031734796, -0.021276869, -0.0010121673, -0.04956142, -0.05024739, -0.055829406, -0.035814628, 0.0515906, -0.026531093, -0.02970661, 0.040964674, -0.002714404, -0.15396717, 0.05307558, -0.044136293, 0.02470138, 0.000801334, -0.022972925, 0.02827523, 0.020703563, -0.064937875, 0.058666587, -0.015287782, -0.052916132, -0.026620427, -0.016025767, 0.035224482, 0.037001926, 0.018292898, -4.1383813e-05, -0.025337286, -0.004310433, -0.041133124, -0.05066838, 0.014990612, -0.03600811, 0.029819721, -0.044939283, -0.021063685, -0.023629386, -0.028914899, -0.03433452, -0.018535929, -0.009567429, -0.021347608, 0.041932832, 0.022588853, 0.008109344, 0.0034411738, -0.035149816, 0.053626105, 0.0063282046, -0.009486712, 0.033996534, 0.01401252, 0.005014682, -0.0005080767, -0.02245512, 0.03882926, 0.0004776092, -0.013646575, 0.009065911, -0.024477022, -0.050445948, 0.04634871, -0.021081062, -0.033551432, 0.0060314126, 0.0102458475, 0.069197364, 0.022964215, 0.01269142, -0.040101953, -0.034656722, 0.020009931, 0.014730022, 0.01383057, -0.046806425, 0.055433933, 0.011434053, 0.021381589, -0.02211853, 0.036445394, -0.0014145162, 0.050959013, -0.016714692, -0.00034573508, 0.049271006, 0.007866855, -0.07770663, -0.051653385, -0.081684604, 0.00021482648, -0.0027075792, -0.009091249, -0.004721928, -0.04193094, -0.002334586, -0.010130939, -0.02804742, 0.050550457, 0.20475253, 0.026362624, -0.00023260688, -0.026683398, 0.037082564, -0.008917495, -0.014111614, -0.019288836, 0.017398195, -0.010130661, 0.009849559, -0.022421885, -0.001105728, 0.00630073, 0.013681623, 0.0251102, -0.03394754, -0.0009457994, 0.08575085, 0.021793073, -0.007629502, -0.0031206887, 0.044430424, -0.0012427389, -0.028784918, -0.026270438, 0.0027533444, 0.010707632, -0.019325476, -0.036493715, 0.005024794, 0.029924445, -0.0106761735, 0.00645865, 0.023852263, 0.017608572, 0.0016044801, -0.018932663, 0.009172771, 0.0076690163, -0.020538988, -0.01567916, -0.0012525908, 0.0073695127, 0.009564658, 0.010840239, 0.006954711, -0.009116244, -0.019662999, -0.03544478, -0.062044285, -0.022188595, -0.04321301, 0.01826342, -0.0024828962, -0.0041544936, -0.04325005, 0.026164684, 0.01750792, 0.008793437, 0.039273437, 0.008740293, 0.03327901, 0.025838017, -0.009477432, -0.0057753455, -0.037316784, -0.058214255, 0.058867224, -0.003698147, 0.013229424, 0.014928932, -0.046833485, -0.021995882, 0.0064063645, 0.0033164683, 0.03152194, 0.026500603, 0.028571347, 0.027928572, -0.029369745, 0.011008701, -0.027791236, 0.038003486, 0.007657587, -0.051425014, -0.014151032, 0.055504013, 0.017357403, -0.024944287, 0.013934782, 0.008288157, -0.009149881, 0.044219565, -0.01329841, 0.02286318, 0.007622418, -0.005615271, -0.026788572, 0.04318394, -0.030471819, -0.04369945, -0.009781396, -0.006711456, 0.01668107, 0.020746225, 0.020458143, 0.05558693, 0.009053393, 0.048160154, 0.0028210501, 0.026916336, -0.05203965, -0.045780454, 0.013970323, -0.010415462, 0.020955572, 0.020802338, 0.0069288597, 0.014950216, -0.031260964, 0.0015646018, 0.018710736, 0.032065533, 0.00034973273, -0.027085977, 0.047251478, 0.033933822, -0.015659403, 0.0197395, 0.06061115, 0.0020148281, 0.0039454764, 0.048897453, 0.022750553, 0.014271023, -0.014141559, 0.021941068, 0.059902653, 3.2560158e-05, 0.014745904, 0.0069714165, 0.024401348, 0.008171858, 0.01095434, 0.0016200731, -0.0135879535, 0.048669487, -0.02364023, -0.006135627, 0.0007724751, -0.022319997, 0.05846857, -0.04245939, -0.008712889, -0.02961774, -0.021120379, -0.0057460004, 0.037246928, -0.022284469, 0.029638555, 0.02199785, 0.05995853, 0.054288734, -0.013022865, 0.046625294, -0.0039068474, -0.020059282, -0.0100564575, -0.0520965, 0.012875267, -0.024199782, -0.046951067, 0.017420264, -0.063392766, -0.012143245, -0.051789064, 0.016524818, 0.0027704947, 0.002270209, 0.046884935, 0.0051804963, 0.028492223, 0.018149892, 0.0027288834, 0.012760198, 0.043083556, -0.012562478, 0.016005939, -0.034999244, -0.0138759045, 0.085103825, -0.00063289254, -0.035159253, 0.018836701, -0.043910593, 0.018241705, -0.014750334, 0.05108475, -0.01432957, -0.012063224, -0.053836286, 0.009209902, -0.013290155, -0.026058096, 0.019063948, -0.0091646295, 0.015953025, -0.011847961, 0.023980435, 0.010886701, 0.0012542977, -0.0474474, 0.02815355, -0.03023512, 0.03441525, -0.03545735, 0.010481248, 0.021822639, -0.07119044, -0.011647474, -0.00079984206, 0.0009649936, -0.06676916, 0.0019562403, 0.03099137, -0.013669682, -0.02006245, -0.019697813, 0.046503883, -0.00482121, -0.0816579, 0.04037871, 0.0051256544, 0.03099003, 0.005191553, -0.006087858, 0.013957046, -0.02115873, -0.019510774, 0.025798123, -0.026923915, 0.064980574, 0.017398873, 0.025206948, 0.012535163, 0.0061973305, -0.015323055, -0.00301865, 0.0045264564, -0.011901358, -0.047814813, 0.04866967, 0.02730034, 0.019963896, -0.046225686, 0.049621493, -0.015396169, -0.022836933, 0.0071553322, 0.011471476, 0.02802663, -0.0010326986, 0.005225192, 0.0058290786, 0.04101901, 0.046596657, 0.01393984, -0.04872315, -0.03627196, 0.030449217, -0.0031195304, -0.03992447, -0.032225188, 0.03181742, -0.00224594, -0.0373694, 0.046947714, 0.047482852, -0.0038297973, -0.0047650915, 0.054601636, 0.008805321, 0.01440801, 0.013164883, -0.005731121, 0.01141263, 0.0058337026, 0.028462505, -0.037444863, 0.017427856, 0.00931072, -0.043104228, 0.009852804, -0.013042572, 0.026261216, -0.0089454595, 0.048668094, -0.023925817, -0.008337556, -0.030175138, -0.011694521, -0.008063619, -0.00086032425, 0.036253985, 0.01953826, 0.015743159, -0.064829946, 0.032229614, -0.019738682, 0.012583077, 0.0006751031, 0.037497915, 0.048799217, -0.030762687, -0.011080321, 0.03039446, -0.049618993, 0.055013977, -0.0018425972, 0.049772184, 0.00069865293, -0.006080643, -0.023221707, 0.010211018, 0.02394286, -0.019366201, -0.0319434, 0.02928282, -0.053577214, -0.01293876, 0.03315064, -0.00237842, 0.025608014, 0.0027715073, -0.016132154, -0.019950317, -0.03630228, 0.051522244, 0.02593775, -0.023725308, -0.0021283738, 0.056688797, -0.021242302, 0.026165318, -0.030842256, -0.008989508, -0.0013567437, 0.0073083662, 0.013945482, -0.03874226, -0.005186336, -0.020588685, -0.08520615, 0.03292014, -0.021209668, -0.0016157231, -0.024114022, 0.01002996, 0.0033158734, -0.04620381, 0.0043303994, 0.012891264, 0.031925518, -0.006381231, 0.061860453, 0.027386552, -0.040188838, 0.012680969, -0.043484066, -0.034332726, 0.024039276, 0.04533141, -0.06426904, -0.002502495, 0.015771339, -0.046269264, 0.015527107, -0.012477328, 0.0040344615, 0.0027277549, -0.0592388, -0.049836863, -0.03179534, 0.0041449238, -0.040657774, -0.009889508, -0.020476343, 0.043414313, 0.009019059, -0.02146494, -0.036778096, 0.038738467, -0.02850248, -0.12078485, 0.01114286, -0.021602763, 0.038742863, -0.02065391, 0.026144985, -0.0053929915, 0.007602006, 0.02401488, -0.06801535, -0.010583457, 0.0384648, 0.020901633, -0.013560529, -0.0014256419, 0.019073857, -0.01056156, 0.01917737, 0.0074021667, 0.02500916, -0.0029703795, 0.019337084, 0.045457754, -0.006933068, 0.01665229, -0.003870276, 0.0063065444, 0.00996867, -0.061566688, 0.008152026, 0.05612175, -0.05685636, 0.0057250946, 0.0024766298, -0.052249912, -0.03011066, -0.045291856, 0.0042187134, -0.027807064, 0.038791332, -0.032646295, 0.027141547, 0.039659284, -0.011152038, 0.015643, 0.08882698, -0.031503238, -0.016811792, -0.014694511, -0.020838244, 0.029687097, -0.026127124, -0.012366293, 0.052316282, -0.012925867, 0.01638742, -0.050721887, 0.009424332, -0.003016874, 0.077392906, -0.041834325, 0.0008204383, -0.03062972, 0.012884607, -0.0073967623, 0.031100988, -0.057481498, -0.010898182, -0.015106916, 0.006895011, 0.008631859, 0.06570509, 0.033644766, -0.033907726, 0.029488865, 0.011791846, 0.051076215, 0.007122204, 0.01984181, -0.034570873, 0.016131848, 0.012662322, -0.04679749, -0.027649324, 0.010237619, -0.023066975, -0.034243505, -0.0031288387, -0.00827289, -0.023311147, -0.048622485, -0.011039809, -0.01945113, -0.003703675, -0.047216937, 0.013843404, 0.0021783689, 0.012408972, -0.015974032, -0.012108726, -0.0071556745, -0.00515239, 0.010009036, -0.00234921, -0.020496573, 0.034492534, 0.06623972, -0.01078921, 0.05485915, -0.03398564, 0.009265206, -0.014386356, -0.051750883, 0.039609853, -0.0029654047, -0.012131855, 0.016294433, 0.06192683, 0.0152254775, 0.032131486, 0.046510443, -0.026839972, 0.0022838104, -0.017711315, 0.061448056, 0.0038017083, 0.0006965453, 0.04574019, 0.049878027, 5.0230832e-05, 0.015983775, -0.029116275, 0.051333606, -0.019549394, 0.050037194, 0.0012833418, 0.06669109, 0.03225537, -0.07605683, -0.026638735, -0.022685647, -0.0138327945, -0.0026042433, -0.01720108, -0.051986825, -0.0066169403, 0.028287183, -0.05934144, -0.0060679107, -0.010363803, -0.020564795, -0.025526244, 0.0062623825, 0.05981049, -0.06466609, 0.039155904, -0.039376404, 0.011420625, -0.0049183657, -0.021919943, 0.024572996, -0.021062635, -0.014358961, 0.0051163686, -0.027090725, -0.015719185, -0.02001016, -0.017470583, -0.002121012, 0.03167665, 0.033068936, 0.06100906, -0.02190107, -0.007469499, 0.023367034, 0.0045250636, -0.03415825, 0.030671943, 0.050455734, 0.019288087, 0.030438114, -0.008343275, 0.03847601, 0.024075922, -0.02994312, -0.02251173, -0.029502796, 0.059381913, 0.023884092, -0.05184976, -0.0214046, -0.008000902, -0.045721047, 0.018472916, -0.013184326, 0.061955497, 0.025654273, 0.030335411, -0.013867965, 0.011508005, -0.07670167, -0.015619843, 0.031292055, -0.0101531595, -0.004887242, 0.0058150664, -0.053601258, -0.0018047445, -0.023284206, -0.012897555, 0.0087896995, 0.018846462, 0.0011226429, -0.0076255254, 0.049015786, -0.05041506, 0.012853412, -0.005167882, -0.015475823, 0.003523074, 0.003162701, 0.0075332047, -0.026597288, -0.010868789, 0.013913384, -0.031607594, 0.010421317, 0.04989953, -0.035076343, -0.0007630406, -0.028162599, -0.024343824, 0.0028128908, 0.020383015, -0.013449328, -0.014169166, 0.022437649, 0.039081067, -0.008115276, -0.015820567, 0.054476477, 0.00829756, 0.035071675, -0.017874053]\n"
     ]
    }
   ],
   "source": [
    "# 문서 컬렉션\n",
    "documents = [\n",
    "    \"인공지능은 컴퓨터 과학의 한 분야입니다.\",\n",
    "    \"머신러닝은 인공지능의 하위 분야입니다.\",\n",
    "    \"딥러닝은 머신러닝의 한 종류입니다.\",\n",
    "    \"자연어 처리는 컴퓨터가 인간의 언어를 이해하고 생성하는 기술입니다.\",\n",
    "    \"컴퓨터 비전은 컴퓨터가 디지털 이미지나 비디오를 이해하는 방법을 연구합니다.\"\n",
    "]\n",
    "\n",
    "# 문서 임베딩\n",
    "document_embeddings = embeddings_model.embed_documents(documents)\n",
    "\n",
    "# 임베딩 결과 출력\n",
    "print(f\"임베딩 벡터의 개수: {len(document_embeddings)}\")\n",
    "print(f\"임베딩 벡터의 차원: {len(document_embeddings[0])}\")\n",
    "print(document_embeddings[0])"
   ]
  },
  {
   "cell_type": "markdown",
   "id": "668cb852",
   "metadata": {},
   "source": [
    "`(3) embed_query 사용`"
   ]
  },
  {
   "cell_type": "code",
   "execution_count": 56,
   "id": "0bd5a102",
   "metadata": {},
   "outputs": [
    {
     "name": "stdout",
     "output_type": "stream",
     "text": [
      "쿼리 임베딩 벡터의 차원: 1024\n",
      "[-0.03680102, -0.004897515, 0.0028898506, -0.015532713, -0.0009166787, -0.04167313, -0.0067089866, 0.011332301, 0.021562414, 0.004902553, -0.02047684, 0.016799612, -0.012879434, 0.005437187, 0.014990911, 0.024317233, 0.007424208, -0.027960882, -0.0151330745, -0.05182166, -0.006595149, -0.009184408, -0.01714285, 0.006597815, 0.052904196, 0.048059072, -0.008171573, -0.023195054, 0.018091468, -0.011380093, -0.004339582, -0.006356782, -0.0024361906, 0.0143599855, -0.035458617, -0.0082260445, -0.011815377, -0.045276895, -0.040650643, 0.0021737837, -0.012295167, 0.017695779, -0.019154694, -0.041933402, 0.0010042401, -0.039017674, -0.02443351, -0.024548931, -0.022177326, -0.0044736424, 0.031535354, -0.048756495, 0.017998321, 0.025261747, 0.0023832794, 0.048539657, -0.008118256, 0.028092578, -0.07375328, -0.020698596, -0.026359912, -0.007486189, -0.038771544, -0.0173924, 0.01923657, 0.063733354, 0.02038606, -0.011864598, -0.018535549, -0.040774167, 0.0025399572, 0.041486472, -0.05777881, 0.052810572, -0.045954607, 0.011449375, 0.020651251, 0.006214055, -0.034704767, 0.017753264, 0.048632186, -0.011422371, -0.029493136, -0.013391042, -0.0061027617, -0.0019710402, -0.019654572, 0.06847756, -0.010741151, 0.0023853458, -0.042681687, -0.0017423675, 0.051162496, -0.105921775, -0.018775642, -0.082464434, -0.03350435, 0.010839721, 0.014375794, 0.032037277, -0.0054414324, 0.044385616, 0.016019821, -0.026793003, 0.029572738, 0.0056990506, 0.00054249156, 0.009318878, -0.037953567, -0.0065657804, 0.03819008, 0.038671706, 0.01902041, 0.031835053, -0.046889454, -0.0534466, 0.008993716, 0.0013688975, 0.023105817, 0.04094439, -0.00778468, 0.020706117, -0.036063723, -0.042333327, -0.008934414, -0.016682373, 0.033237785, 0.03471439, -0.0060808333, -0.014174613, 0.026811296, -0.01765167, -0.07627858, -0.0059635174, -0.05995518, -0.020177474, 0.0070334906, -0.031132175, 0.024987148, -0.033265002, 0.03440516, 0.006154154, -0.033638924, -0.028769603, 0.018259667, 0.006750557, 0.0042712665, -0.007838923, -0.010535779, 0.024573972, -0.01785358, -0.023175832, -0.026454456, -0.0098281, 0.00869078, 0.046356965, 0.010058057, 0.024056863, -0.052161366, 0.034446523, 0.042565823, -0.00061598874, 0.0069894874, 0.024618099, -0.0093521, 0.0036713884, 0.0018960419, 0.022523979, -0.007792101, -0.026749654, -0.037203982, 0.010211341, -0.03354163, 0.03529158, 0.013981445, 0.0017206718, 0.06456606, 0.033437353, -0.009819694, -0.008013505, -0.055607628, -0.017585102, -0.011534758, 0.0037939171, -0.0036595098, 0.0112049645, 0.015969472, 0.011450948, 0.01941003, -8.481381e-05, -0.016568078, -0.021761008, 0.013355814, -0.0045775645, -0.001538499, -0.03019344, 0.033669017, 0.046059888, -0.0042871693, -0.039969645, -0.027028251, 0.028333424, 0.016687939, 0.007478676, -0.043065958, 0.013862237, 0.0050112475, -0.04197426, 0.011032029, -0.037421923, 0.019038318, 0.048502818, 0.04983399, -0.023993602, -0.055113252, -0.008756724, -0.019203395, 0.044193793, -0.0077041956, -0.012274591, -0.013399472, 0.019193968, 0.0013186692, 0.025580263, 0.035577424, -0.0019324719, 0.036931794, -0.019353148, 0.021071706, 0.010640967, 0.0018311666, 0.05878054, 0.01629032, -0.0326619, 0.001045044, -0.014657853, -0.037476413, -0.021554485, 0.006737363, 0.019422112, -0.02478687, 0.0022151053, -0.03265878, 0.026937509, -0.011466315, -0.013251693, -0.016542608, -0.025911663, -0.011936836, 0.025376529, -0.0012666874, -0.03893058, 0.005280805, -0.012381734, 0.053058393, 0.014093806, -0.010160266, 0.0057702838, 0.0071402057, 0.03674667, 0.010395672, -0.023520844, 0.0006328524, 0.03280782, 0.05395091, 0.010082375, 0.0016281627, -0.032342695, 0.01928504, 0.033677958, -0.014701723, -0.02022924, -0.02014994, 0.0034012718, 0.038540047, -0.014468462, -0.008589286, -0.015664015, 0.025245382, 0.009569958, -0.021170903, -0.056238096, -0.014715664, 0.046385948, 0.024666166, -0.025386307, -0.031370964, 0.001978428, -0.0019825215, -0.03753327, -0.010792346, -0.021261701, 0.060041964, -0.017649557, -0.029011635, -0.016543038, -0.033207253, -0.13440089, 0.014981806, -0.030589994, 0.023936193, -0.00910123, -0.030410172, 0.020058887, -0.012324158, 0.0009571777, 0.029187137, 0.008194283, -0.04650241, -0.049941123, -0.032406256, 0.031478874, 0.00592449, 0.017333595, -0.0124324225, -0.032474626, -0.0486334, -0.01679133, -0.06617087, 0.008030651, -0.051548008, 0.05675542, -0.011768794, 0.014061216, -0.0031499923, -0.04702562, -0.057086464, -0.013496625, -0.040167604, -0.009101883, 0.05355134, 0.05179398, 0.0059069316, -0.0033919802, -0.02427867, 0.041712184, -0.0066112718, 0.0012286548, 0.0040448178, 0.027095495, 0.04174562, 0.0046054674, 0.017275462, 0.03126963, -0.018768156, 0.022154871, -0.0015661218, -0.03182238, -0.003951231, 0.050009858, -0.042942923, 0.019384788, -0.004673056, 0.038709782, 0.07496656, 0.047089346, -0.012815481, -0.049096398, 0.036403693, -0.016457416, 0.023777395, -0.013974389, -0.008336832, 0.076297596, 0.021737585, -0.006607338, -0.029755913, 0.042852692, -0.006247453, 0.003349631, -0.011837183, 0.018921051, 0.036566094, 0.011983013, -0.055345137, -0.043651175, -0.07867641, 0.026761767, -0.016938513, -0.00066679675, -0.0010008654, -0.020253038, -0.01931704, -0.0018993334, 0.0027986912, 0.016323812, 0.2407101, -0.02064586, 0.015919438, -0.023110235, -0.009763193, -0.0055328677, -0.0229262, -0.021857213, 0.010921541, -0.022692923, 0.0049227835, -0.016246513, 0.00752483, 0.003951009, 0.024984686, 0.060891777, -0.03463303, 0.008016027, 0.06777972, 0.011996112, 0.0013816984, 0.012022567, 0.033392582, 0.012172901, -0.023412518, -0.0065377387, 0.016334219, 0.03226855, -0.011984558, -0.02081728, -0.0005362877, 0.0060573383, 0.015059605, -0.0055103637, 0.002598314, 0.0080076, -0.012833197, -0.026118416, 0.016756654, -0.0022409193, -0.029861832, -0.021346385, 0.035377584, -0.0066593145, 0.009450971, 0.018323172, 0.017823849, 0.018862333, -0.06519729, -0.019734962, -0.033809915, -0.00209707, -0.051290445, 0.00206262, -0.011234732, -0.020694746, -0.014936235, 0.039021127, 0.016437044, -0.017457778, 0.06683031, -0.004692795, 0.023526669, -0.028118929, 0.008313456, -0.016582716, -0.033079468, -0.081418775, -0.012021914, 0.0058749444, 0.000101541475, -0.0034247173, -0.03515896, -0.0049627386, 0.023670606, 0.029137103, 0.030726874, 0.038027193, 0.007241723, 0.010120128, 0.015811587, 0.00373933, -0.04255777, 0.014626196, 0.009342994, -0.039485943, -0.027927432, 0.049226876, 0.028074907, -0.044788137, 0.04683325, -0.018548023, -0.040171426, 0.03164911, 0.011888559, -0.012843793, 0.06601127, 0.013052621, 0.010383659, 0.04199516, -0.03929959, -0.022920037, 0.00014458547, 0.055564795, 0.04946411, -0.008266596, 0.010602022, 0.06881911, 0.0071114814, 0.09679074, -0.017063806, -0.0060817865, -0.037476745, -0.0025709106, 0.024529742, 0.0065980814, 0.028546097, -0.023937995, 0.008506776, 0.014557398, -0.047654312, 0.027513843, -0.0010467566, -0.024000742, 0.024625665, -0.03208623, 0.03445925, -0.01083363, -0.013775894, 0.0156000815, 0.03962069, 0.007093601, 0.033189356, 0.067735136, 0.043463603, 0.0101096835, -0.0061515816, 0.033400383, 0.023446735, 0.022080043, -0.010678199, -0.006416837, -0.0009023371, 0.02056231, 0.00487472, 0.006917419, 0.026168006, 0.031062417, -0.035723377, -0.036923904, -0.03495774, -0.016372295, -0.007681537, -0.08078907, -0.0025295422, -0.026444972, -0.0013238451, -0.034675077, -0.0015715293, -0.033955548, 0.029905919, -0.023714853, 0.051437777, 0.10250783, 0.017059581, 0.07371538, 0.049542934, 0.011081973, 0.008800379, -0.06871692, 0.046118975, -0.031655155, -0.043395985, 0.006756908, -0.028696561, -0.028472364, -0.028518474, 0.00066267647, 0.009713781, -0.05104848, 0.016006535, 0.019984446, 0.025800478, 0.053835772, -0.0053932546, 0.003927899, 0.054006446, -0.0051902924, 0.014044963, -0.015169221, -0.0001431439, 0.07201117, 0.012078985, -0.006167149, 0.020430993, -0.039754987, 0.007703268, -0.020745268, 0.046186123, 0.028596254, 0.033722613, -0.051105715, -0.00057148025, -0.00044773193, 0.020623956, 0.009249054, -0.023135819, -0.00137209, -0.018426036, 0.044831675, 0.026454845, -0.005434203, -0.030894786, -0.007093657, -0.03343509, 0.018059913, -0.0426742, 0.033258095, 0.02306522, -0.056840222, -0.033150498, 0.029894926, 0.012368866, -0.070593156, 0.00050428207, 0.053009983, -0.028661747, -0.021191172, 0.025659157, 0.037784193, 0.00883447, -0.06266426, 0.02038979, 0.036122657, 0.0128089795, -0.015271233, -0.021528745, -0.016300537, -0.014586026, -0.030131493, 0.03408093, -0.01348492, 0.063894786, 0.021077462, 0.017963387, -0.019433184, 0.011331744, -0.0087426435, -0.0153218815, 0.028616928, -0.032807287, -0.010825101, 0.04183173, 0.0027793269, 0.009645262, -0.012776735, 0.03975459, 0.0014459605, -0.011874154, -0.0021379082, 0.0030351148, 0.027689518, -0.03058371, 0.0018529207, -0.002513339, 0.021641089, 0.0075280867, 0.0033814698, -0.05436663, -0.046779722, 0.033114765, 0.01925456, -0.023219498, -0.044545416, -0.028566241, 0.025992583, -0.044716917, 0.018201021, 0.0059585623, 0.048155136, -0.017909965, 0.070682004, -0.012742408, 0.035413496, -0.02827674, -0.004231734, 0.010015156, -0.024905693, 0.0003829583, -0.072185464, -0.007472854, -0.016894178, -0.05366969, 0.016983531, -0.006503826, 0.058561794, -0.019881943, 0.03934911, -0.024296872, -0.022584999, -0.03533306, 0.001461764, -0.014279668, 0.01909669, -0.00091473176, 0.024372656, 0.012741623, -0.03187474, 0.024242952, -0.00064850104, -0.018593201, 0.006360843, 0.028469061, 0.02978528, -0.045793027, -0.016705481, 0.047581453, -0.07030433, 0.025114387, 0.023555541, 0.057805274, 0.02338166, 0.0015626377, -0.0458793, 0.03085971, 0.000580078, -0.020850291, -0.030368965, 0.026075676, -0.070376344, -0.015848322, 0.046722062, -0.0070971763, -0.0037955833, -0.008876788, 0.0005159194, -0.030272406, -0.024316803, 0.037992354, -0.016574845, 0.042599477, 0.0057127867, 0.046961192, -0.017379308, -0.01615809, -0.056532893, 0.008077373, 0.019959714, -0.0025802644, 0.0350508, 0.00960383, 0.041772354, -0.047294836, -0.0570987, 0.03943866, 0.016678844, -0.030450866, -0.02553787, 0.020095, 0.010134663, -0.040261313, 0.031496134, 0.014243047, 0.035513047, 0.013715243, 0.01328489, 0.0028595866, -0.024495412, 0.013793887, -0.01465529, -0.010843775, 0.014948323, 0.05601095, -0.037586447, -0.024794338, 0.016420305, -0.016550435, -0.01970501, -0.010372861, -0.023568165, -0.011668633, -0.062531844, -0.039238278, -0.036490206, -0.011131281, -0.023365494, 0.00015677387, -0.044631895, 0.040153626, -0.055153225, -0.03381838, -0.03590824, -0.012083895, -0.007062693, -0.12504734, 0.02554617, -0.00044950077, -0.005290696, -0.040328562, 0.012463857, -0.023088297, -0.0005501317, 0.014153465, -0.0237318, -0.0226243, 0.050336532, -0.044791576, -0.01488258, -0.0048361314, 0.028103592, -0.016817344, 0.01641033, -0.0163924, -0.021726657, -0.04233869, -0.012156596, 0.027907189, -0.027511958, 0.051627155, 0.022313857, 0.025215529, 0.043289945, -0.038821902, -0.014280612, 0.01753744, -0.06934598, 0.041396488, -0.0015234859, -0.051082782, -0.02705304, -0.025581306, -0.019161921, -0.0042154468, 0.0009046798, -0.0048206714, 0.017127812, 0.0052710744, -0.025759209, -0.03596653, 0.045924056, -0.027639136, -0.027120171, -0.024657844, 0.0046397597, 0.026733095, -0.019402489, 0.0011152108, 0.019358998, -0.0069589815, 0.02404288, -0.054454356, 0.02541373, -0.002493766, 0.09907526, -0.001989222, -0.0009115721, -0.027138045, 0.028701264, -0.023469554, 0.019411748, -0.03534129, 0.005478986, 0.024395186, 0.0063659376, -0.011860129, 0.0052617737, 0.011628154, -0.01736979, 0.03410746, 0.0119262375, 0.034829196, 0.015983695, -0.017846787, -0.02854407, 0.035680402, 0.006970445, -0.044748917, -0.0124668805, -0.01794879, 0.0066638966, -0.030213008, 0.014449145, 0.012308121, -0.010279267, -0.07451247, -0.013914843, 0.0042297314, 0.010386595, -0.050674424, 0.0055112857, -0.021491352, 0.0048003923, -0.032624252, -0.016631551, -0.017211257, -0.0007651083, 0.01741417, 0.026828108, -0.015188609, 0.007999256, 0.06693651, -0.01846497, 0.006651563, -0.004415488, 0.015709788, -0.007968518, 0.00403268, 0.034897603, 0.0013629143, -0.010155798, 0.029219039, 0.03389475, 0.00090705114, 0.026355132, -0.010628739, -0.009281671, -0.021726085, -0.012386222, 0.041816406, 0.05346719, 0.0040504937, 0.015930682, 0.098209746, -0.0012572831, 0.02614385, -0.064505376, 0.015427124, -0.0095344195, 0.029149218, -0.03519363, 0.030561028, 0.044368196, -0.03821454, -0.06942789, -0.012240202, 0.023408309, -0.022432063, -0.0023639402, -0.049849957, -0.030977426, 0.01760283, -0.010083794, -0.050154187, -0.054023333, -0.007047065, -0.018222261, 0.0013154779, 0.025850892, -0.0021680659, 0.0371318, -0.023984414, 0.008751244, -0.027463865, 0.02878588, 0.0103731165, -0.013437734, -0.029345147, -0.0038302885, -0.039553944, -0.024624038, -0.00989826, -0.012878489, -0.01706198, 0.021170931, 0.0052730097, 0.0635326, -0.035000134, 0.04032191, 0.039341994, -0.0116987275, -0.0028944944, 0.06294689, 0.012774198, -0.019140761, 0.0257877, -0.02987752, 0.014541794, 0.020400872, -0.029398605, -0.04012499, -0.012283427, 0.06594015, 0.03212783, -0.0049126693, -0.006334252, 0.0070701186, 0.0124975, -0.009075215, 0.03469329, 0.038489114, 0.034763318, 0.031883642, -0.0273882, 0.027602859, -0.055885043, -0.014286911, 0.049219873, -0.015003388, -0.012731486, -0.00324585, -0.04085015, -0.010743187, -0.018648649, 0.0016384665, -0.0154845435, -0.024908356, 0.016374694, 0.008288621, 0.012707618, -0.02620243, 0.028726477, -0.0068622804, -0.020986088, -0.012435576, -0.004030615, -0.011932128, -0.010402967, -0.022796597, 0.013780272, -0.058465738, 0.007516133, 0.048558865, -0.02405485, 0.006685182, 0.026772397, -0.052327387, -0.04521519, 0.045087222, 0.015312033, -0.016533546, 0.050283615, 0.012671563, -0.008602937, -0.037371688, 0.052044436, -0.018361906, 0.0013650935, -0.025479656]\n"
     ]
    }
   ],
   "source": [
    "embedded_query = embeddings_model.embed_query(\"인공지능이란 무엇인가요?\")\n",
    "\n",
    "# 쿼리 임베딩 결과 출력\n",
    "print(f\"쿼리 임베딩 벡터의 차원: {len(embedded_query)}\")\n",
    "print(embedded_query)"
   ]
  },
  {
   "cell_type": "markdown",
   "id": "13f5f115",
   "metadata": {},
   "source": [
    "`(4) 유사도 기반 검색`"
   ]
  },
  {
   "cell_type": "code",
   "execution_count": 73,
   "id": "c678c6b5",
   "metadata": {},
   "outputs": [
    {
     "name": "stdout",
     "output_type": "stream",
     "text": [
      "쿼리: 인공지능이란 무엇인가요?\n",
      "가장 유사한 문서: 인공지능은 컴퓨터 과학의 한 분야입니다.\n",
      "유사도: 0.7271\n",
      "\n",
      "쿼리: 딥러닝과 머신러닝의 관계는 어떻게 되나요?\n",
      "가장 유사한 문서: 딥러닝은 머신러닝의 한 종류입니다.\n",
      "유사도: 0.7056\n",
      "\n",
      "쿼리: 컴퓨터가 이미지를 이해하는 방법은?\n",
      "가장 유사한 문서: 컴퓨터 비전은 컴퓨터가 디지털 이미지나 비디오를 이해하는 방법을 연구합니다.\n",
      "유사도: 0.6838\n",
      "\n"
     ]
    }
   ],
   "source": [
    "# 예제 쿼리\n",
    "queries = [\n",
    "    \"인공지능이란 무엇인가요?\",\n",
    "    \"딥러닝과 머신러닝의 관계는 어떻게 되나요?\",\n",
    "    \"컴퓨터가 이미지를 이해하는 방법은?\"\n",
    "]\n",
    "\n",
    "# 각 쿼리에 대해 가장 유사한 문서 찾기\n",
    "for query in queries:\n",
    "    most_similar_doc, similarity = find_most_similar(query, document_embeddings)\n",
    "    print(f\"쿼리: {query}\")\n",
    "    print(f\"가장 유사한 문서: {most_similar_doc}\")\n",
    "    print(f\"유사도: {similarity:.4f}\")\n",
    "    print()"
   ]
  },
  {
   "cell_type": "markdown",
   "id": "95d7177b",
   "metadata": {},
   "source": [
    "## 5. 다국어 RAG 시스템 구축 실습"
   ]
  },
  {
   "cell_type": "markdown",
   "id": "0693d5b9",
   "metadata": {},
   "source": [
    "### 5-1 언어 교차(cross-lingual) 검색"
   ]
  },
  {
   "cell_type": "markdown",
   "id": "e51c6bcf",
   "metadata": {},
   "source": [
    "`(1) 다국어 문서 로드 및 전처리` "
   ]
  },
  {
   "cell_type": "code",
   "execution_count": 84,
   "id": "26541439",
   "metadata": {},
   "outputs": [
    {
     "name": "stdout",
     "output_type": "stream",
     "text": [
      "한국어 텍스트 파일: ['data/리비안_KR.txt', 'data/테슬라_KR.txt']\n",
      "영어 텍스트 파일: ['data/Tesla_EN.txt', 'data/Rivian_EN.txt']\n"
     ]
    }
   ],
   "source": [
    "import glob \n",
    "\n",
    "korean_txt_files = glob.glob(os.path.join('data', '*_KR.txt'))\n",
    "english_txt_files = glob.glob(os.path.join('data', '*_EN.txt'))\n",
    "\n",
    "print(\"한국어 텍스트 파일:\", korean_txt_files)\n",
    "print(\"영어 텍스트 파일:\", english_txt_files)"
   ]
  },
  {
   "cell_type": "code",
   "execution_count": 85,
   "id": "4b74f19d",
   "metadata": {},
   "outputs": [
    {
     "name": "stdout",
     "output_type": "stream",
     "text": [
      "한국어 데이터 수: 2\n",
      "영어 데이터 수: 2\n"
     ]
    }
   ],
   "source": [
    "from langchain_community.document_loaders import TextLoader\n",
    "from typing import List, Any\n",
    "\n",
    "def load_text_files(txt_files: List[str]) -> List[Any]:\n",
    "    \"\"\"\n",
    "    텍스트 파일들을 로드하여 Document 객체 리스트로 반환합니다.\n",
    "    \n",
    "    Args:\n",
    "        txt_files: 로드할 텍스트 파일 경로 리스트\n",
    "        \n",
    "    Returns:\n",
    "        Document 객체들의 리스트\n",
    "    \"\"\"\n",
    "    if not txt_files:\n",
    "        return []\n",
    "        \n",
    "    data = []\n",
    "    for text_file in txt_files:\n",
    "        try:\n",
    "            loader = TextLoader(text_file, encoding='utf-8')\n",
    "            data.extend(loader.load())\n",
    "        except Exception as e:\n",
    "            print(f\"파일 '{text_file}' 로딩 중 에러 발생: {str(e)}\")\n",
    "            continue\n",
    "            \n",
    "    return data\n",
    "\n",
    "# 한국어와 영어 텍스트 파일 로드\n",
    "korean_data = load_text_files(korean_txt_files)\n",
    "english_data = load_text_files(english_txt_files)\n",
    "\n",
    "print(f\"한국어 데이터 수: {len(korean_data)}\")\n",
    "print(f\"영어 데이터 수: {len(english_data)}\")"
   ]
  },
  {
   "cell_type": "code",
   "execution_count": 86,
   "id": "e8bb6bf1",
   "metadata": {},
   "outputs": [
    {
     "name": "stdout",
     "output_type": "stream",
     "text": [
      "분할된 한국어 문서 수: 13\n",
      "분할된 영어 문서 수: 6\n"
     ]
    }
   ],
   "source": [
    "# 문장을 구분하여 분할 (마침표, 느낌표, 물음표 다음에 공백이 오는 경우 문장의 끝으로 판단)\n",
    "from langchain.text_splitter import CharacterTextSplitter\n",
    "\n",
    "# 텍스트 분할을 위한 설정\n",
    "# 여기서 임베딩 모델을 사용하는 이유는 실제 임베딩을 수행하기 위해서가 아니라\n",
    "# OpenAI의 tiktoken 토크나이저를 사용하여 텍스트를 정확하게 토큰 단위로 분할하기 위한 것입니다.\n",
    "# 실제로 OpenAI API를 호출하지 않습니다.\n",
    "\n",
    "text_splitter = CharacterTextSplitter.from_tiktoken_encoder(\n",
    "    model_name=\"text-embedding-3-small\",  # OpenAI 임베딩 모델 사용\n",
    "    separator=r\"[.!?]\\s+\",  # 문장 구분자 정규식 패턴\n",
    "    chunk_size=100,  # 각 청크의 최대 크기\n",
    "    chunk_overlap=20,  # 청크 간 중복 허용 (문맥 유지를 위해)\n",
    "    is_separator_regex=True,  # 정규식 패턴 사용\n",
    "    keep_separator=True,  # 구분자 유지 (문장 완성도를 위해)\n",
    ")\n",
    "\n",
    "# 한국어와 영어 문서 분할\n",
    "korean_docs = text_splitter.split_documents(korean_data)\n",
    "english_docs = text_splitter.split_documents(english_data)\n",
    "\n",
    "# 분할된 문서 수 출력\n",
    "print(f\"분할된 한국어 문서 수: {len(korean_docs)}\")\n",
    "print(f\"분할된 영어 문서 수: {len(english_docs)}\")"
   ]
  },
  {
   "cell_type": "code",
   "execution_count": 87,
   "id": "5d55f1b7",
   "metadata": {},
   "outputs": [
    {
     "name": "stdout",
     "output_type": "stream",
     "text": [
      "리비안은 MIT 박사 출신 RJ 스카린지가 2009년에 설립한 혁신적인 미국 전기차 제조업\n",
      "--------------------------------------------------\n",
      " MIT 박사 출신 RJ 스카린지가 2009년에 설립한 혁신적인 미국 전기차 제조업체입니다\n",
      "==================================================\n",
      "\n",
      ". 2011년부터 자율 전기차에 집중한 리비안은 2015년 대규모 투자를 통해 크게 성장하\n",
      "--------------------------------------------------\n",
      "은 2015년 대규모 투자를 통해 크게 성장하며 미시간과 베이 지역에 연구소를 설립했습니다\n",
      "==================================================\n",
      "\n"
     ]
    }
   ],
   "source": [
    "# 각 청크의 시작 부분과 끝 부분 확인\n",
    "for doc in korean_docs[:2]:\n",
    "    print(doc.page_content[:50])\n",
    "    print(\"-\" * 50)\n",
    "    print(doc.page_content[-50:])\n",
    "    print(\"=\" * 50)\n",
    "    print()"
   ]
  },
  {
   "cell_type": "code",
   "execution_count": 88,
   "id": "9124c455",
   "metadata": {},
   "outputs": [
    {
     "name": "stdout",
     "output_type": "stream",
     "text": [
      "Tesla, Inc., headquartered in Austin, Texas, is a \n",
      "--------------------------------------------------\n",
      "ned physicist and electrical engineer Nikola Tesla\n",
      "==================================================\n",
      "\n",
      ". The company is named after the renowned physicis\n",
      "--------------------------------------------------\n",
      "umulative global sales exceeded 4,962,975 vehicles\n",
      "==================================================\n",
      "\n"
     ]
    }
   ],
   "source": [
    "# 각 청크의 시작 부분과 끝 부분 확인\n",
    "for doc in english_docs[:2]:\n",
    "    print(doc.page_content[:50])\n",
    "    print(\"-\" * 50)\n",
    "    print(doc.page_content[-50:])\n",
    "    print(\"=\" * 50)\n",
    "    print()"
   ]
  },
  {
   "cell_type": "markdown",
   "id": "aa5b01db",
   "metadata": {},
   "source": [
    "`(2) 문서 임베딩 및 벡터저장소에 저장 `  "
   ]
  },
  {
   "cell_type": "code",
   "execution_count": 89,
   "id": "abe717fa",
   "metadata": {},
   "outputs": [],
   "source": [
    "# OpenAI 임베딩 모델 생성\n",
    "embeddings_openai = OpenAIEmbeddings(model=\"text-embedding-3-small\")\n",
    "\n",
    "# Hugoing Face 임베딩 모델 생성\n",
    "embeddings_huggingface = HuggingFaceEmbeddings(model_name=\"BAAI/bge-m3\")\n",
    "\n",
    "# Ollama 임베딩 모델 생성\n",
    "embeddings_ollama = OllamaEmbeddings(model=\"nomic-embed-text\")"
   ]
  },
  {
   "cell_type": "code",
   "execution_count": 91,
   "id": "b7c2f9bd",
   "metadata": {},
   "outputs": [
    {
     "name": "stdout",
     "output_type": "stream",
     "text": [
      "OpenAI: 38\n",
      "Hugging Face: 38\n",
      "Ollama: 19\n"
     ]
    }
   ],
   "source": [
    "# 다국어 벡터 저장소 구축\n",
    "from langchain_chroma import Chroma\n",
    "\n",
    "db_openai = Chroma.from_documents(\n",
    "    documents=korean_docs+english_docs, \n",
    "    embedding=embeddings_openai,\n",
    "    collection_name=\"db_openai\",\n",
    "    persist_directory=\"./chroma_db\",\n",
    "    )\n",
    "\n",
    "db_huggingface = Chroma.from_documents(\n",
    "    documents=korean_docs+english_docs, \n",
    "    embedding=embeddings_huggingface,\n",
    "    collection_name=\"db_huggingface\",\n",
    "    persist_directory=\"./chroma_db\",\n",
    "    )\n",
    "\n",
    "db_ollama = Chroma.from_documents(\n",
    "    documents=korean_docs+english_docs, \n",
    "    embedding=embeddings_ollama,\n",
    "    collection_name=\"db_ollama\",\n",
    "    persist_directory=\"./chroma_db\",\n",
    "    )\n",
    "\n",
    "# 벡터 저장소에 저장된 문서 수\n",
    "print(f\"OpenAI: {db_openai._collection.count()}\")\n",
    "print(f\"Hugging Face: {db_huggingface._collection.count()}\")\n",
    "print(f\"Ollama: {db_ollama._collection.count()}\")"
   ]
  },
  {
   "cell_type": "markdown",
   "id": "1e791c6a",
   "metadata": {},
   "source": [
    "`(3) RAG 성능 비교 `  "
   ]
  },
  {
   "cell_type": "code",
   "execution_count": 95,
   "id": "fa08dbe9",
   "metadata": {},
   "outputs": [],
   "source": [
    "# RAG 체인 생성\n",
    "from langchain.prompts import ChatPromptTemplate\n",
    "from langchain_core.output_parsers import StrOutputParser \n",
    "from langchain_openai import ChatOpenAI\n",
    "from langchain_core.runnables import RunnablePassthrough\n",
    "\n",
    "# 프롬프트 템플릿 정의 - 컨텍스트와 질문을 포함\n",
    "template = \"\"\"Answer the question based only on the following context.\n",
    "Do not use any external information or knowledge. \n",
    "If the answer is not in the context, answer \"잘 모르겠습니다.\".\n",
    "\n",
    "[Context]\n",
    "{context}\n",
    "\n",
    "[Question] \n",
    "{question}\n",
    "\n",
    "[Answer]\n",
    "\"\"\"\n",
    "\n",
    "# ChatPromptTemplate 생성\n",
    "prompt = ChatPromptTemplate.from_template(template)\n",
    "\n",
    "# 문서 포맷터 함수 - 문서 내용을 하나의 문자열로 결합\n",
    "def format_docs(docs):\n",
    "    \"\"\"\n",
    "    문서 리스트를 하나의 문자열로 포맷팅\n",
    "    Args:\n",
    "        docs: 문서 리스트\n",
    "    Returns:\n",
    "        str: 포맷팅된 문서 문자열\n",
    "    \"\"\"\n",
    "    return \"\\n\\n\".join([d.page_content for d in docs])\n",
    "\n",
    "# LLM 모델 초기화 - temperature=0으로 설정하여 일관된 출력 보장\n",
    "llm = ChatOpenAI(model=\"gpt-4o-mini\", temperature=0)\n",
    "\n",
    "# RAG 체인 생성 함수\n",
    "def create_rag_chain(vectorstore):\n",
    "    \"\"\"\n",
    "    RAG 체인을 생성하는 함수\n",
    "    Args:\n",
    "        vectorstore: 벡터 저장소 객체\n",
    "    Returns:\n",
    "        chain: 생성된 RAG 체인\n",
    "    \"\"\"\n",
    "    # 검색기 설정 - top 2개 문서 검색\n",
    "    retriever = vectorstore.as_retriever(search_kwargs={'k': 2})\n",
    "    \n",
    "    # 체인 구성 및 반환\n",
    "    return (\n",
    "        {\"context\": retriever | format_docs, \"question\": RunnablePassthrough()}\n",
    "        | prompt\n",
    "        | llm\n",
    "        | StrOutputParser()\n",
    "    )"
   ]
  },
  {
   "cell_type": "code",
   "execution_count": 96,
   "id": "50d52cf3",
   "metadata": {},
   "outputs": [],
   "source": [
    "# 체인 생성\n",
    "rag_chain_openai = create_rag_chain(db_openai)\n",
    "rag_chain_huggingface = create_rag_chain(db_huggingface)\n",
    "rag_chain_ollama = create_rag_chain(db_ollama)"
   ]
  },
  {
   "cell_type": "code",
   "execution_count": 97,
   "id": "52bc778f",
   "metadata": {},
   "outputs": [
    {
     "name": "stdout",
     "output_type": "stream",
     "text": [
      "OpenAI: 마틴 에버하드와 마크 타페닝입니다.\n",
      "Hugging Face: 마틴 에버하드와 마크 타페닝입니다.\n",
      "Ollama: 잘 모르겠습니다.\n"
     ]
    }
   ],
   "source": [
    "# 한국어 쿼리에 대한 성능 평가\n",
    "query_ko = \"테슬라 창업자는 누구인가요?\"\n",
    "\n",
    "# OpenAI\n",
    "output_openai = rag_chain_openai.invoke(query_ko)\n",
    "print(\"OpenAI:\", output_openai)\n",
    "\n",
    "# Hugging Face\n",
    "output_huggingface = rag_chain_huggingface.invoke(query_ko)\n",
    "print(\"Hugging Face:\", output_huggingface)\n",
    "\n",
    "# Ollama\n",
    "output_ollama = rag_chain_ollama.invoke(query_ko)\n",
    "print(\"Ollama:\", output_ollama)"
   ]
  },
  {
   "cell_type": "code",
   "execution_count": 98,
   "id": "dc23ea46",
   "metadata": {},
   "outputs": [
    {
     "name": "stdout",
     "output_type": "stream",
     "text": [
      "OpenAI: Tesla was founded by Martin Eberhard and Marc Tarpenning.\n",
      "Hugging Face: Tesla was founded by Martin Eberhard and Marc Tarpenning.\n",
      "Ollama: Tesla was founded by Martin Eberhard and Marc Tarpenning.\n"
     ]
    }
   ],
   "source": [
    "# 영어 쿼리에 대한 성능 평가\n",
    "query_en = \"Who is the founder of Tesla?\"\n",
    "\n",
    "# OpenAI\n",
    "output_openai = rag_chain_openai.invoke(query_en)\n",
    "print(\"OpenAI:\", output_openai)\n",
    "\n",
    "# Hugging Face\n",
    "output_huggingface = rag_chain_huggingface.invoke(query_en)\n",
    "print(\"Hugging Face:\", output_huggingface)\n",
    "\n",
    "# Ollama\n",
    "output_ollama = rag_chain_ollama.invoke(query_en)\n",
    "print(\"Ollama:\", output_ollama)"
   ]
  },
  {
   "cell_type": "markdown",
   "id": "f70818e6",
   "metadata": {},
   "source": [
    "### 5-2 언어 감지 및 자동번역 통합 "
   ]
  },
  {
   "cell_type": "markdown",
   "id": "a19b80a6",
   "metadata": {},
   "source": [
    "`(1) 한국어 문서 벡터저장소 로드 `  "
   ]
  },
  {
   "cell_type": "code",
   "execution_count": 71,
   "id": "012a1ef5",
   "metadata": {},
   "outputs": [
    {
     "name": "stdout",
     "output_type": "stream",
     "text": [
      "벡터 저장소에 저장된 문서 수: 5\n"
     ]
    }
   ],
   "source": [
    "# 한국어 문서로 저장되어 있는 벡터 저장소 로드\n",
    "from langchain_chroma import Chroma\n",
    "from langchain_openai import OpenAIEmbeddings\n",
    "\n",
    "embeddings = OpenAIEmbeddings(\n",
    "    model=\"text-embedding-3-small\", \n",
    ")\n",
    "\n",
    "vectorstore = Chroma(\n",
    "    embedding_function=embeddings,\n",
    "    collection_name=\"chroma_test\",\n",
    "    persist_directory=\"./chroma_db\",\n",
    "    )\n",
    "\n",
    "print(f\"벡터 저장소에 저장된 문서 수: {vectorstore._collection.count()}\")"
   ]
  },
  {
   "cell_type": "code",
   "execution_count": 74,
   "id": "21796bf9",
   "metadata": {},
   "outputs": [
    {
     "name": "stdout",
     "output_type": "stream",
     "text": [
      "Detected language: en\n",
      "Translated text: 안녕하세요. 안녕하세요?\n"
     ]
    }
   ],
   "source": [
    "import deepl\n",
    "from langdetect import detect\n",
    "\n",
    "translator = deepl.Translator(os.getenv('DEEPL_API_KEY'))\n",
    "\n",
    "def detect_and_translate(text, target_lang='KO'):\n",
    "    detected_lang = detect(text)\n",
    "    if detected_lang.upper() != target_lang:\n",
    "        result = translator.translate_text(text, target_lang=target_lang)\n",
    "        return str(result), detected_lang\n",
    "    return text, detected_lang\n",
    "\n",
    "# 문서 번역 테스트\n",
    "text = \"Hello. How are you?\"\n",
    "translated_text, detected_lang = detect_and_translate(text, target_lang='KO')\n",
    "print(f\"Detected language: {detected_lang}\")\n",
    "print(f\"Translated text: {translated_text}\")"
   ]
  },
  {
   "cell_type": "markdown",
   "id": "d44368c9",
   "metadata": {},
   "source": [
    "`(2) RAG 체인 성능 평가 `  "
   ]
  },
  {
   "cell_type": "code",
   "execution_count": 75,
   "id": "bd44fdc2",
   "metadata": {},
   "outputs": [],
   "source": [
    "retriever = vectorstore.as_retriever(search_kwargs={'k': 2})\n",
    "\n",
    "lang_rag_chain = (\n",
    "        {\"context\": retriever | format_docs , \"question\": RunnablePassthrough()}\n",
    "        | prompt\n",
    "        | llm\n",
    "        | StrOutputParser()\n",
    "    )\n",
    "\n",
    "# 체인 실행 함수\n",
    "def run_lang_rag_chain(query):\n",
    "    original_lang = detect(query)\n",
    "    \n",
    "    if original_lang.upper() != 'KO':\n",
    "        translated_query, _ = detect_and_translate(query, target_lang='KO')\n",
    "    else:\n",
    "        translated_query = query\n",
    "    \n",
    "    output = lang_rag_chain.invoke(translated_query)\n",
    "    \n",
    "    if original_lang.upper() != 'KO':\n",
    "        target_lang = 'EN-US' if original_lang.upper() == 'EN' else original_lang\n",
    "        output, _ = detect_and_translate(output, target_lang=target_lang)\n",
    "    \n",
    "    return output\n",
    "    "
   ]
  },
  {
   "cell_type": "code",
   "execution_count": 76,
   "id": "5dea660b",
   "metadata": {},
   "outputs": [
    {
     "name": "stdout",
     "output_type": "stream",
     "text": [
      "마틴 에버하드와 마크 타페닝입니다.\n",
      "Martin Everhard and Mark Tappening.\n"
     ]
    }
   ],
   "source": [
    "# 한국어 쿼리에 대한 성능 평가\n",
    "query_ko = \"테슬라 창업자는 누구인가요?\"\n",
    "\n",
    "output = run_lang_rag_chain(query_ko)\n",
    "print(output)\n",
    "\n",
    "# 영어 쿼리에 대한 성능 평가\n",
    "query_en = \"Who is the founder of Tesla?\"\n",
    "\n",
    "output = run_lang_rag_chain(query_en)\n",
    "print(output)"
   ]
  },
  {
   "cell_type": "markdown",
   "id": "031d5de6",
   "metadata": {},
   "source": [
    "### 5-3 언어 감지 및 벡터저장소 라우팅"
   ]
  },
  {
   "cell_type": "markdown",
   "id": "0ea5168a",
   "metadata": {},
   "source": [
    "`(1) 언어별 벡터저장소 생성 `  "
   ]
  },
  {
   "cell_type": "code",
   "execution_count": 77,
   "id": "4fdd2bd6",
   "metadata": {},
   "outputs": [
    {
     "name": "stdout",
     "output_type": "stream",
     "text": [
      "한국어: 13\n",
      "영어: 6\n"
     ]
    }
   ],
   "source": [
    "# 한국어 문서, 영어 문서를 각각 다른 벡터 저장소에 저장\n",
    "db_korean = Chroma.from_documents(\n",
    "    documents=korean_docs, \n",
    "    embedding=embeddings_huggingface,    # huggingface 임베딩 사용\n",
    "    collection_name=\"db_korean\",\n",
    "    persist_directory=\"./chroma_db\",\n",
    "    )\n",
    "\n",
    "db_english = Chroma.from_documents(\n",
    "    documents=english_docs, \n",
    "    embedding=embeddings_ollama,        # ollama 임베딩 사용\n",
    "    collection_name=\"db_english\",\n",
    "    persist_directory=\"./chroma_db\",\n",
    "    )\n",
    "\n",
    "# 벡터 저장소에 저장된 문서 수\n",
    "print(f\"한국어: {db_korean._collection.count()}\")\n",
    "print(f\"영어: {db_english._collection.count()}\")"
   ]
  },
  {
   "cell_type": "markdown",
   "id": "66434a3c",
   "metadata": {},
   "source": [
    "`(2) RAG 체인 성능 평가 `  "
   ]
  },
  {
   "cell_type": "code",
   "execution_count": 78,
   "id": "002d911c",
   "metadata": {},
   "outputs": [
    {
     "name": "stdout",
     "output_type": "stream",
     "text": [
      "마틴 에버하드와 마크 타페닝입니다.\n",
      "Tesla was founded by Martin Eberhard and Marc Tarpenning.\n"
     ]
    }
   ],
   "source": [
    "# 체인 실행 함수\n",
    "from langdetect import detect\n",
    "\n",
    "rag_chain_korean = create_rag_chain(db_korean)\n",
    "rag_chain_english = create_rag_chain(db_english)\n",
    "\n",
    "\n",
    "def run_route_rag_chain(query):\n",
    "    original_lang = detect(query)\n",
    "    \n",
    "    if original_lang.upper() == 'KO':\n",
    "        return rag_chain_korean.invoke(query)\n",
    "        \n",
    "    elif original_lang.upper() == 'EN' :\n",
    "        return rag_chain_english.invoke(query)\n",
    "    \n",
    "    else:\n",
    "        return \"잘 모르겠습니다.\"\n",
    "    \n",
    "# 한국어 쿼리에 대한 성능 평가\n",
    "query_ko = \"테슬라 창업자는 누구인가요?\"\n",
    "\n",
    "output = run_route_rag_chain(query_ko)\n",
    "print(output)\n",
    "\n",
    "# 영어 쿼리에 대한 성능 평가\n",
    "query_en = \"Who is the founder of Tesla?\"\n",
    "\n",
    "output = run_route_rag_chain(query_en)\n",
    "print(output)"
   ]
  },
  {
   "cell_type": "markdown",
   "id": "fceb9f42",
   "metadata": {},
   "source": [
    "## 6. Gradio 챗봇"
   ]
  },
  {
   "cell_type": "markdown",
   "id": "c57035b9",
   "metadata": {},
   "source": [
    "`(1) invoke 실행` \n",
    "\n",
    "- chat history 기능을 추가"
   ]
  },
  {
   "cell_type": "code",
   "execution_count": 79,
   "id": "8b207180",
   "metadata": {},
   "outputs": [
    {
     "name": "stdout",
     "output_type": "stream",
     "text": [
      "Running on local URL:  http://127.0.0.1:7860\n",
      "\n",
      "To create a public link, set `share=True` in `launch()`.\n"
     ]
    },
    {
     "data": {
      "text/html": [
       "<div><iframe src=\"http://127.0.0.1:7860/\" width=\"100%\" height=\"500\" allow=\"autoplay; camera; microphone; clipboard-read; clipboard-write;\" frameborder=\"0\" allowfullscreen></iframe></div>"
      ],
      "text/plain": [
       "<IPython.core.display.HTML object>"
      ]
     },
     "metadata": {},
     "output_type": "display_data"
    },
    {
     "data": {
      "text/plain": []
     },
     "execution_count": 79,
     "metadata": {},
     "output_type": "execute_result"
    }
   ],
   "source": [
    "import gradio as gr\n",
    "from langchain_core.messages import HumanMessage, AIMessage\n",
    "\n",
    "# 답변 생성 모델을 별도로 사용\n",
    "answer_llm = ChatOpenAI(model=\"gpt-4o-mini\", temperature=0)\n",
    "\n",
    "\n",
    "def answer_invoke(message, history):\n",
    "    history_langchain_format = []\n",
    "    for human, ai in history:\n",
    "        history_langchain_format.append(HumanMessage(content=human))\n",
    "        history_langchain_format.append(AIMessage(content=ai))\n",
    "    history_langchain_format.append(HumanMessage(content=message))\n",
    "\n",
    "    # 현재 메시지에 대해 RAG 체인 실행\n",
    "    rag_response = run_route_rag_chain(message)\n",
    "\n",
    "    # 답변 생성 모델에게 현재 메시지에 대한 답변 요청\n",
    "    final_answer = answer_llm.invoke(\n",
    "        history_langchain_format[:-1] + [AIMessage(content=rag_response)] + [HumanMessage(content=message)]\n",
    "    )\n",
    "    \n",
    "    return final_answer.content\n",
    "\n",
    "\n",
    "# Graiio 인터페이스 생성 \n",
    "demo = gr.ChatInterface(fn=answer_invoke, title=\"QA Bot\")\n",
    "\n",
    "# Graiio 실행  \n",
    "demo.launch()"
   ]
  },
  {
   "cell_type": "code",
   "execution_count": 80,
   "id": "82f7a6d2",
   "metadata": {},
   "outputs": [
    {
     "name": "stdout",
     "output_type": "stream",
     "text": [
      "Closing server running on port: 7860\n"
     ]
    }
   ],
   "source": [
    "# Graiio 종료\n",
    "demo.close()"
   ]
  },
  {
   "cell_type": "code",
   "execution_count": null,
   "id": "5b16b8d4",
   "metadata": {},
   "outputs": [],
   "source": []
  }
 ],
 "metadata": {
  "kernelspec": {
   "display_name": "langchain_env",
   "language": "python",
   "name": "python3"
  },
  "language_info": {
   "codemirror_mode": {
    "name": "ipython",
    "version": 3
   },
   "file_extension": ".py",
   "mimetype": "text/x-python",
   "name": "python",
   "nbconvert_exporter": "python",
   "pygments_lexer": "ipython3",
   "version": "3.11.12"
  }
 },
 "nbformat": 4,
 "nbformat_minor": 5
}
