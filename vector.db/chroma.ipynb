{
 "cells": [
  {
   "cell_type": "markdown",
   "id": "011a21ef",
   "metadata": {},
   "source": [
    "### Chroma DB (LangChain 또는 Native API 기준) 으로 필요 기능에 따라 하이브리드 방식으로 구현 필요\n",
    "\n",
    "| 기능                   | LangChain (Chroma)       | Native Chroma | 비고                       |\n",
    "| -------------------- | ------------------------ | ------------- | ------------------------ |\n",
    "| ✅ 벡터 유사도 검색          | O                        | O             | 둘 다 가능                   |\n",
    "| ✅ RAG 파이프라인 통합       | O                        | ❌             | LangChain 전용             |\n",
    "| ❌ 전체 문서 조회           | X                        | O             | `collection.get()`으로 가능  |\n",
    "| ❌ 문서 개수 확인           | X                        | O             | `len(get(...))`          |\n",
    "| ❌ 조건 필터만 조회          | X                        | O             | `where=` 지원              |\n",
    "| ❌ 컬렉션 삭제             | X                        | O             | `delete_collection()` 지원 |\n",
    "| ✅ 외부 embedding 모델 사용 | O (embedding\\_function=) | O             | SentenceTransformer 등    |\n",
    "| ✅ 멀티 컬렉션 관리          | ⚠️ 불편                    | O             | Native 쪽이 유리             |\n",
    "\n",
    "\n",
    " - 권장 아키텍처 -\n",
    "💾 ./chroma_db/\n",
    "\n",
    "├── manual_user_collection (데이터 저장)\n",
    "\n",
    "└── 기타 컬렉션\n",
    "\n",
    "🧠 LangChain: RAG + Retriever 구성\n",
    "\n",
    "📡 Native Chroma: 관리, 쿼리, 삭제, 필터링\n"
   ]
  },
  {
   "cell_type": "markdown",
   "id": "b50d9b2e",
   "metadata": {},
   "source": [
    " ### 1. 데이터 적재 및 유지관리 (📦 Native Chroma)"
   ]
  },
  {
   "cell_type": "markdown",
   "id": "6225f30c",
   "metadata": {},
   "source": []
  },
  {
   "cell_type": "code",
   "execution_count": 31,
   "id": "57899cc3",
   "metadata": {},
   "outputs": [],
   "source": [
    "# 1. 데이터 적재 (Native Chroma)\n",
    "import chromadb\n",
    "import json\n",
    "from chromadb.utils.embedding_functions import OpenAIEmbeddingFunction\n",
    "\n",
    "from dotenv import load_dotenv\n",
    "import os\n",
    "\n",
    "# 임베딩 함수 정의\n",
    "embedding_fn = OpenAIEmbeddingFunction(\n",
    "    api_key=os.getenv(\"OPENAI_API_KEY\"),  # 환경변수에서 API 키 읽기\n",
    "    model_name=\"text-embedding-3-small\"\n",
    ")\n",
    "\n",
    "client = chromadb.PersistentClient(path=\"./chroma_db\")\n",
    "\n",
    "collection = client.get_or_create_collection(\n",
    "    name=\"manual_user_collection\",\n",
    "    embedding_function=embedding_fn\n",
    ")\n",
    "\n",
    "# 예시 데이터 로드\n",
    "with open(\"../manual/user/firstUser/approval/approval.json\", \"r\", encoding=\"utf-8\") as f:\n",
    "    data = json.load(f)\n",
    "\n",
    "for i, item in enumerate(data):\n",
    "    collection.add(\n",
    "        documents=[item[\"section\"]],\n",
    "        metadatas=[{\n",
    "            \"manual_type\": item[\"manual_type\"],\n",
    "            \"user_type\": item[\"user_type\"],\n",
    "            \"source_url\": item[\"source_url\"],\n",
    "            \"image_urls\": json.dumps(item[\"image_urls\"])\n",
    "        }],\n",
    "        ids=[f\"doc_{i}\"]\n",
    "    )"
   ]
  },
  {
   "cell_type": "markdown",
   "id": "1dfb4774",
   "metadata": {},
   "source": [
    "### ✅ 2-1. 사용자 질문 응답 (RAG: LangChain + Chroma + Retriever) --> similarity_search / 반환: List[Document]"
   ]
  },
  {
   "cell_type": "code",
   "execution_count": 22,
   "id": "4af4f147",
   "metadata": {},
   "outputs": [
    {
     "name": "stdout",
     "output_type": "stream",
     "text": [
      "신청 결재1. 승인 승인버튼 클릭하면 확인 팝업 호출됩니다. 확인버튼 클릭하면 다음단계로 진행됩니다. 1단계에서 승인  2단계로 진행 2단계에서 승인  결재완료, 네임스페이스 생성 --- 2. 반려 반려버튼 클릭하면 확인 팝업 호출됩니다. 반려사유 입력 후, 확인버튼 클릭하면 해당 신청은 반려됩니다.\n",
      "{'image_urls': '[\"https://doc.tg-cloud.co.kr/manual/console/firstUser/approval/img/approval_approve.png\", \"https://doc.tg-cloud.co.kr/manual/console/firstUser/approval/img/approval_reject.png\"]', 'manual_type': 'firstUser', 'source_url': 'https://doc.tg-cloud.co.kr/manual/console/firstUser/approval/approval', 'user_type': 'firstUser'}\n",
      "------------------------------\n",
      "신청 목록 운영자 유저의 목록 모든 신청 내역이 표시 --- 사용자 유저의 목록 내가 신청한 내역만 표시 신청한 네임스페이스 목록이 표시됩니다. 진행상태 종류는 아래와 같습니다. 결재 1단계  운영자가 결재하는 단계 결재 2단계  프로젝트 관리자가 결재하는 단계 결재 완료  결재가 완료되어 네임스페이스 생성 반려  반려되어 네임스페이스 신청 거절된 상태 신청내역 목록이라 Namespace 메뉴의 목록과 다를 수 있습니다. 각 필드에 단어가 포함된 목록은 검색됩니다. 아래는 검색 예시 입니다. ---\n",
      "{'image_urls': '[\"https://doc.tg-cloud.co.kr/manual/console/firstUser/approval/img/approvalList.png\", \"https://doc.tg-cloud.co.kr/manual/console/firstUser/approval/img/approvalList_ex.png\", \"https://doc.tg-cloud.co.kr/manual/console/firstUser/approval/img/list_search_1.png\", \"https://doc.tg-cloud.co.kr/manual/console/firstUser/approval/img/list_search_2.png\"]', 'manual_type': 'firstUser', 'source_url': 'https://doc.tg-cloud.co.kr/manual/console/firstUser/approval/approval', 'user_type': 'firstUser'}\n",
      "------------------------------\n",
      "신청 상세정보 선택한 신청목록의 상세정보를 표시합니다. 신청자, project, cluster, CPU, Memory, Storage 자원 내역 등을 확인할 수 있습니다. 클러스터 상세정보 클릭하면 클러스터의 상세정보를 확인할 수 있습니다. 아래의 권한을 가진 유저는 신청한 네임스페이스르 결재할 수 있습니다. 운영자는 결재 1단계에서 승인반려할 수 있습니다. 프로젝트 관리자는 결재 2단계에서 승인반려할 수 있습니다. ---\n",
      "{'image_urls': '[\"https://doc.tg-cloud.co.kr/manual/console/firstUser/approval/img/detail.png\"]', 'manual_type': 'firstUser', 'source_url': 'https://doc.tg-cloud.co.kr/manual/console/firstUser/approval/approval', 'user_type': 'firstUser'}\n",
      "------------------------------\n"
     ]
    }
   ],
   "source": [
    "from langchain.vectorstores import Chroma\n",
    "from langchain_openai import OpenAIEmbeddings\n",
    "\n",
    "from dotenv import load_dotenv\n",
    "load_dotenv()\n",
    "\n",
    "embedding = OpenAIEmbeddings(model=\"text-embedding-3-small\")\n",
    "\n",
    "# 동일한 경로로 연동\n",
    "vectorstore = Chroma(\n",
    "    collection_name=\"manual_user_collection\",\n",
    "    persist_directory=\"./chroma_db\",\n",
    "    embedding_function=embedding\n",
    ")\n",
    "\n",
    "# RAG 기반 검색\n",
    "query = \"네임스페이스 승인 방법\"\n",
    "results = vectorstore.similarity_search(query, k=3)\n",
    "\n",
    "for doc in results:\n",
    "    print(doc.page_content)\n",
    "    print(doc.metadata)\n",
    "    print(\"-\" * 30)\n"
   ]
  },
  {
   "cell_type": "markdown",
   "id": "24dcedab",
   "metadata": {},
   "source": [
    "### ✅ 2-2. 사용자 질문 응답 (RAG: LangChain + Chroma + Retriever) --> similarity_search_with_score / 반환: List[Tuple[Document, float]]\n",
    "\n",
    "| Distance 값 | 의미     |\n",
    "| ---------- | ------ |\n",
    "| 0.0 \\~ 0.1 | 매우 유사  |\n",
    "| 0.1 \\~ 0.3 | 유사     |\n",
    "| 0.3 \\~ 0.6 | 약간 관련  |\n",
    "| 0.6 이상     | 유사도 낮음 |\n",
    "\n",
    "✅ similarity = 1 - distance로 변환하면 직관적인 스코어처럼 활용 가능"
   ]
  },
  {
   "cell_type": "code",
   "execution_count": 27,
   "id": "cb24260f",
   "metadata": {},
   "outputs": [],
   "source": [
    "from langchain.vectorstores import Chroma\n",
    "from langchain_openai import OpenAIEmbeddings\n",
    "\n",
    "from dotenv import load_dotenv\n",
    "load_dotenv()\n",
    "\n",
    "embedding = OpenAIEmbeddings(model=\"text-embedding-3-small\")\n",
    "\n",
    "# 동일한 경로로 연동\n",
    "vectorstore = Chroma(\n",
    "    collection_name=\"manual_user_collection\",\n",
    "    persist_directory=\"./chroma_db\",\n",
    "    embedding_function=embedding\n",
    ")\n",
    "\n",
    "query = \"네임스페이스 결재 승인 방법\"\n",
    "results = vectorstore.similarity_search_with_score(query, k=3)\n",
    "\n",
    "for i, (doc, score) in enumerate(results):\n",
    "    print(f\"[{i+1}] 유사도 스코어: {score:.4f}\")\n",
    "    print(f\"문서 내용: {doc.page_content[:80]}...\")\n",
    "    print(f\"메타데이터: {doc.metadata}\")\n",
    "    print(\"-\" * 40)"
   ]
  },
  {
   "cell_type": "markdown",
   "id": "7a0c8582",
   "metadata": {},
   "source": [
    "### ✅ 3. 통계 / 모니터링 / 백업 (📊 Native)"
   ]
  },
  {
   "cell_type": "markdown",
   "id": "b92a7341",
   "metadata": {},
   "source": []
  },
  {
   "cell_type": "code",
   "execution_count": null,
   "id": "eb0c15b2",
   "metadata": {},
   "outputs": [
    {
     "name": "stdout",
     "output_type": "stream",
     "text": [
      "전체 문서 수: 7개\n",
      "Counter({'firstUser': 4})\n"
     ]
    }
   ],
   "source": [
    "# 전체 문서 개수\n",
    "# include 파라미터는 IncludeEnum 타입만 허용\n",
    "# documents, embeddings, metadatas, distances, uris, data 중 선택 필요\n",
    "all_docs = collection.get()             # 기본적으로 ids 포함됨\n",
    "print(f\"전체 문서 수: {len(all_docs)}개\")\n",
    "\n",
    "# 메타데이터 통계 집계 예: manual_type 별 count\n",
    "from collections import Counter\n",
    "\n",
    "metadatas = collection.get(include=[\"metadatas\"])[\"metadatas\"]\n",
    "manual_types = [meta[\"manual_type\"] for meta in metadatas]\n",
    "print(Counter(manual_types))"
   ]
  },
  {
   "cell_type": "markdown",
   "id": "df864baa",
   "metadata": {},
   "source": [
    "### ✅ 4. 조건 필터링 쿼리 (🔍 Native + where)"
   ]
  },
  {
   "cell_type": "code",
   "execution_count": 33,
   "id": "842f5bb5",
   "metadata": {},
   "outputs": [
    {
     "name": "stdout",
     "output_type": "stream",
     "text": [
      "문서 내용 (앞 100자): 신청 목록 운영자 유저의 목록 모든 신청 내역이 표시 --- 사용자 유저의 목록 내가 신청한 내역만 표시 신청한 네임스페이스 목록이 표시됩니다. 진행상태 종류는 아래와 같습니다. \n",
      "메타데이터: {'image_urls': '[\"https://doc.tg-cloud.co.kr/manual/console/firstUser/approval/img/approvalList.png\", \"https://doc.tg-cloud.co.kr/manual/console/firstUser/approval/img/approvalList_ex.png\", \"https://doc.tg-cloud.co.kr/manual/console/firstUser/approval/img/list_search_1.png\", \"https://doc.tg-cloud.co.kr/manual/console/firstUser/approval/img/list_search_2.png\"]', 'manual_type': 'firstUser', 'source_url': 'https://doc.tg-cloud.co.kr/manual/console/firstUser/approval/approval', 'user_type': 'firstUser'}\n",
      "========================================\n",
      "문서 내용 (앞 100자): 신청 상세정보 선택한 신청목록의 상세정보를 표시합니다. 신청자, project, cluster, CPU, Memory, Storage 자원 내역 등을 확인할 수 있습니다. 클러스터\n",
      "메타데이터: {'image_urls': '[\"https://doc.tg-cloud.co.kr/manual/console/firstUser/approval/img/detail.png\"]', 'manual_type': 'firstUser', 'source_url': 'https://doc.tg-cloud.co.kr/manual/console/firstUser/approval/approval', 'user_type': 'firstUser'}\n",
      "========================================\n",
      "문서 내용 (앞 100자): 신청 결재1. 승인 승인버튼 클릭하면 확인 팝업 호출됩니다. 확인버튼 클릭하면 다음단계로 진행됩니다. 1단계에서 승인  2단계로 진행 2단계에서 승인  결재완료, 네임스페이스 생성\n",
      "메타데이터: {'image_urls': '[\"https://doc.tg-cloud.co.kr/manual/console/firstUser/approval/img/approval_approve.png\", \"https://doc.tg-cloud.co.kr/manual/console/firstUser/approval/img/approval_reject.png\"]', 'manual_type': 'firstUser', 'source_url': 'https://doc.tg-cloud.co.kr/manual/console/firstUser/approval/approval', 'user_type': 'firstUser'}\n",
      "========================================\n"
     ]
    }
   ],
   "source": [
    "# 이미지가 존재하는 문서만 조회\n",
    "# where 조건으로 image_urls 필드가 빈 배열이 아닌 문서 필터링\n",
    "# include로 documents와 metadatas 데이터만 가져옴\n",
    "filtered = collection.get(\n",
    "    where={\"image_urls\": {\"$ne\": json.dumps([])}},  # 빈 배열이 아닌 조건\n",
    "    include=[\"documents\", \"metadatas\"]  # 필요한 필드만 조회\n",
    ")\n",
    "\n",
    "# 필터링된 문서와 메타데이터를 순회하며 출력\n",
    "for doc, meta in zip(filtered[\"documents\"], filtered[\"metadatas\"]):\n",
    "    print(f\"문서 내용 (앞 100자): {doc[:100]}\")  # 문서 내용 일부 출력\n",
    "    print(f\"메타데이터: {meta}\")  # 메타데이터 전체 출력\n",
    "    print(\"=\" * 40)  # 구분선 출력\n"
   ]
  },
  {
   "cell_type": "markdown",
   "id": "8d4dd4b1",
   "metadata": {},
   "source": [
    "### ✅ 5. 문서 삭제 / 컬렉션 초기화 (🗑 Native)"
   ]
  },
  {
   "cell_type": "code",
   "execution_count": 26,
   "id": "e8cafa0b",
   "metadata": {},
   "outputs": [],
   "source": [
    "# 문서 삭제\n",
    "collection.delete(ids=[\"doc_0\", \"doc_1\"])\n",
    "\n",
    "# 컬렉션 전체 삭제\n",
    "client.delete_collection(\"manual_user_collection\")\n"
   ]
  },
  {
   "cell_type": "markdown",
   "id": "d8367acc",
   "metadata": {},
   "source": [
    "### ✅ 전체 아키텍처 흐름 요약\n",
    "\n",
    "📁 chroma_db/\n",
    "\n",
    "└── manual_user_collection/\n",
    "\n",
    "📌 데이터 적재:       chromadb.PersistentClient.add()\n",
    "\n",
    "📌 유저 질의 응답:    LangChain Chroma.similarity_search()\n",
    "\n",
    "📌 필터 조건 쿼리:    collection.get(where=...)\n",
    "\n",
    "📌 통계/모니터링:     collection.get(include=[\"metadatas\"])\n",
    "\n",
    "📌 삭제/초기화:       delete(ids), delete_collection()\n"
   ]
  },
  {
   "cell_type": "code",
   "execution_count": null,
   "id": "e94e80f1",
   "metadata": {},
   "outputs": [],
   "source": []
  }
 ],
 "metadata": {
  "kernelspec": {
   "display_name": "langchain_env",
   "language": "python",
   "name": "python3"
  },
  "language_info": {
   "codemirror_mode": {
    "name": "ipython",
    "version": 3
   },
   "file_extension": ".py",
   "mimetype": "text/x-python",
   "name": "python",
   "nbconvert_exporter": "python",
   "pygments_lexer": "ipython3",
   "version": "3.11.12"
  }
 },
 "nbformat": 4,
 "nbformat_minor": 5
}
